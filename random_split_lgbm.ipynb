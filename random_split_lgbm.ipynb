{
 "cells": [
  {
   "cell_type": "code",
   "execution_count": 1,
   "metadata": {},
   "outputs": [],
   "source": [
    "import numpy as np\n",
    "import pandas as pd\n",
    "import tqdm \n",
    "import cProfile\n",
    "import lightgbm as lgb\n",
    "from sklearn.model_selection import GroupKFold, train_test_split, KFold, cross_val_score\n",
    "from sklearn.metrics import mean_squared_error\n",
    "import optuna\n",
    "import logging\n",
    "import time\n",
    "from scipy.stats import pearsonr\n",
    "\n",
    "data = pd.read_feather(\"data/processed/massBV.feather\")"
   ]
  },
  {
   "cell_type": "code",
   "execution_count": 2,
   "metadata": {},
   "outputs": [],
   "source": [
    "def prep_data_before_train(data: pd.DataFrame, phenotype: str) -> tuple:\n",
    "    \"\"\"\n",
    "    prepare data for training, returns target vector and covariate-matrix and ringnrs for grouping\n",
    "    :param data: all data from dataloader script\n",
    "    :param phenotype: the phenotype to be predicted\n",
    "    :return: X, Y, ringnrs, X contain covariates and Y contains the phenotype\n",
    "    \"\"\"\n",
    "    ringnrs = data.ringnr\n",
    "    mean_pheno = data.mean_pheno\n",
    "    X = data.drop(\n",
    "        columns=[\n",
    "            \"ID\",\n",
    "            \"mass\",\n",
    "            \"tarsus\",\n",
    "            \"ringnr\",\n",
    "            \"mean_pheno\",\n",
    "            \"IID\",\n",
    "            \"FID\",\n",
    "            \"MAT\",\n",
    "            \"PAT\",\n",
    "            \"SEX\",\n",
    "            \"PHENOTYPE\",\n",
    "        ],\n",
    "        errors=\"ignore\",\n",
    "    )\n",
    "\n",
    "    try:\n",
    "        Y = data.loc[:, phenotype]\n",
    "    except KeyError:\n",
    "        try:\n",
    "            Y = data.ID\n",
    "        except AttributeError:\n",
    "            Y = data.mass\n",
    "    del data\n",
    "    try:\n",
    "        X.hatchyear = X.hatchyear.astype(\"int\")\n",
    "        X.island_current = X.island_current.astype(\"int\")\n",
    "    except AttributeError:\n",
    "        pass\n",
    "    Y = (Y - np.mean(Y))/np.std(Y)\n",
    "    X = X.fillna(0)\n",
    "    X = X.T\n",
    "    X = X.astype(\"int\")\n",
    "    X = X.T \n",
    "    return X, Y, ringnrs, mean_pheno"
   ]
  },
  {
   "cell_type": "code",
   "execution_count": 3,
   "metadata": {},
   "outputs": [],
   "source": [
    "X, y, ringnrs, mean_pheno = prep_data_before_train(data, \"mass\")\n",
    "del data\n",
    "X.drop(columns = [\"hatchisland\"], inplace = True)\n",
    "X[\"ringnr\"] = ringnrs   \n",
    "\n",
    "target = pd.DataFrame(y)\n",
    "target[\"mean_pheno\"] = mean_pheno\n",
    "target[\"ringnr\"] = ringnrs"
   ]
  },
  {
   "cell_type": "code",
   "execution_count": 4,
   "metadata": {},
   "outputs": [],
   "source": [
    "def random_split(pheno:str = \"mass\", num_folds:int = 5, seed: int = 42) -> None:\n",
    "    data = pd.read_feather(f\"data/processed/{pheno}BV.feather\")  \n",
    "    x = data[[\"ringnr\",\"hatchisland\"]]\n",
    "    del data\n",
    "    np.random.seed(seed)\n",
    "    #Split the data into num_folds folds with random sampling, each fold should have the same number of individuals\n",
    "    #The folds should be saved in a new column called \"fold\" in the data frame\n",
    "\n",
    "    x = x.sample(frac=1, random_state=seed).reset_index(drop=True)\n",
    "    # Number of folds\n",
    "    n_folds = num_folds\n",
    "\n",
    "    # Create an array with fold numbers\n",
    "    folds = np.array([i % n_folds for i in range(len(x))])\n",
    "\n",
    "    # Shuffle the fold assignment array\n",
    "    #np.random.shuffle(folds)\n",
    "\n",
    "    # Assign the fold numbers to a new column in the dataframe\n",
    "    x['fold'] = folds\n",
    "\n",
    "    return x[['ringnr','fold']]\n",
    "\n",
    "splits = random_split(\"mass\", 10, 42)"
   ]
  },
  {
   "cell_type": "code",
   "execution_count": 5,
   "metadata": {},
   "outputs": [],
   "source": [
    "X = pd.merge(X,splits, on = \"ringnr\", how = \"inner\") \n",
    "X = pd.merge(X,target, on = \"ringnr\", how = \"inner\")  "
   ]
  },
  {
   "cell_type": "code",
   "execution_count": 6,
   "metadata": {},
   "outputs": [],
   "source": [
    "def subset(X:pd.DataFrame, seed:int = 42, snp_prop:float = 0.2) -> pd.DataFrame:\n",
    "    \"\"\"\n",
    "    Function to subset the data into a smaller dataset for testing purposes, \n",
    "    sampling only a subset of the features\n",
    "    \"\"\"\n",
    "    np.random.seed(seed)\n",
    "    sample_columns = np.random.choice(X.columns[:-4], int(len(X.columns[:-4])*snp_prop), replace = False)\n",
    "    sample_columns = np.append(sample_columns, [\"ringnr\",\"fold\", \"ID\", \"mean_pheno\"])\n",
    "\n",
    "    return X[sample_columns]"
   ]
  },
  {
   "cell_type": "code",
   "execution_count": 7,
   "metadata": {},
   "outputs": [],
   "source": [
    "X = subset(X, snp_prop = 0.1)"
   ]
  },
  {
   "cell_type": "code",
   "execution_count": 8,
   "metadata": {},
   "outputs": [
    {
     "data": {
      "text/html": [
       "<div>\n",
       "<style scoped>\n",
       "    .dataframe tbody tr th:only-of-type {\n",
       "        vertical-align: middle;\n",
       "    }\n",
       "\n",
       "    .dataframe tbody tr th {\n",
       "        vertical-align: top;\n",
       "    }\n",
       "\n",
       "    .dataframe thead th {\n",
       "        text-align: right;\n",
       "    }\n",
       "</style>\n",
       "<table border=\"1\" class=\"dataframe\">\n",
       "  <thead>\n",
       "    <tr style=\"text-align: right;\">\n",
       "      <th></th>\n",
       "      <th>SNPa352024_T</th>\n",
       "      <th>SNPa51204_C</th>\n",
       "      <th>SNPa371349_T</th>\n",
       "      <th>SNPa86522_T</th>\n",
       "      <th>SNPa395916_T</th>\n",
       "      <th>SNPa302259_A</th>\n",
       "      <th>SNPa524601_A</th>\n",
       "      <th>SNPa483891_T</th>\n",
       "      <th>SNPa207156_T</th>\n",
       "      <th>SNPa77054_G</th>\n",
       "      <th>...</th>\n",
       "      <th>SNPa437479_G</th>\n",
       "      <th>SNPa179086_T</th>\n",
       "      <th>SNPa392716_T</th>\n",
       "      <th>SNPa415615_G</th>\n",
       "      <th>SNPa280074_G</th>\n",
       "      <th>SNPa220371_G</th>\n",
       "      <th>ringnr</th>\n",
       "      <th>fold</th>\n",
       "      <th>ID</th>\n",
       "      <th>mean_pheno</th>\n",
       "    </tr>\n",
       "  </thead>\n",
       "  <tbody>\n",
       "    <tr>\n",
       "      <th>0</th>\n",
       "      <td>0</td>\n",
       "      <td>0</td>\n",
       "      <td>1</td>\n",
       "      <td>2</td>\n",
       "      <td>1</td>\n",
       "      <td>0</td>\n",
       "      <td>0</td>\n",
       "      <td>1</td>\n",
       "      <td>0</td>\n",
       "      <td>0</td>\n",
       "      <td>...</td>\n",
       "      <td>1</td>\n",
       "      <td>1</td>\n",
       "      <td>1</td>\n",
       "      <td>1</td>\n",
       "      <td>0</td>\n",
       "      <td>0</td>\n",
       "      <td>8118424</td>\n",
       "      <td>8</td>\n",
       "      <td>0.519577</td>\n",
       "      <td>32.600000</td>\n",
       "    </tr>\n",
       "    <tr>\n",
       "      <th>1</th>\n",
       "      <td>0</td>\n",
       "      <td>0</td>\n",
       "      <td>1</td>\n",
       "      <td>2</td>\n",
       "      <td>0</td>\n",
       "      <td>0</td>\n",
       "      <td>0</td>\n",
       "      <td>1</td>\n",
       "      <td>0</td>\n",
       "      <td>1</td>\n",
       "      <td>...</td>\n",
       "      <td>1</td>\n",
       "      <td>0</td>\n",
       "      <td>1</td>\n",
       "      <td>1</td>\n",
       "      <td>1</td>\n",
       "      <td>0</td>\n",
       "      <td>8118425</td>\n",
       "      <td>4</td>\n",
       "      <td>-1.044296</td>\n",
       "      <td>30.300000</td>\n",
       "    </tr>\n",
       "    <tr>\n",
       "      <th>2</th>\n",
       "      <td>0</td>\n",
       "      <td>0</td>\n",
       "      <td>0</td>\n",
       "      <td>1</td>\n",
       "      <td>0</td>\n",
       "      <td>0</td>\n",
       "      <td>0</td>\n",
       "      <td>0</td>\n",
       "      <td>0</td>\n",
       "      <td>1</td>\n",
       "      <td>...</td>\n",
       "      <td>2</td>\n",
       "      <td>1</td>\n",
       "      <td>1</td>\n",
       "      <td>0</td>\n",
       "      <td>0</td>\n",
       "      <td>1</td>\n",
       "      <td>8118426</td>\n",
       "      <td>7</td>\n",
       "      <td>0.918158</td>\n",
       "      <td>33.316667</td>\n",
       "    </tr>\n",
       "    <tr>\n",
       "      <th>3</th>\n",
       "      <td>0</td>\n",
       "      <td>0</td>\n",
       "      <td>0</td>\n",
       "      <td>0</td>\n",
       "      <td>0</td>\n",
       "      <td>0</td>\n",
       "      <td>0</td>\n",
       "      <td>1</td>\n",
       "      <td>0</td>\n",
       "      <td>1</td>\n",
       "      <td>...</td>\n",
       "      <td>1</td>\n",
       "      <td>1</td>\n",
       "      <td>1</td>\n",
       "      <td>1</td>\n",
       "      <td>0</td>\n",
       "      <td>0</td>\n",
       "      <td>8118429</td>\n",
       "      <td>1</td>\n",
       "      <td>-0.093239</td>\n",
       "      <td>31.300000</td>\n",
       "    </tr>\n",
       "    <tr>\n",
       "      <th>4</th>\n",
       "      <td>0</td>\n",
       "      <td>0</td>\n",
       "      <td>0</td>\n",
       "      <td>2</td>\n",
       "      <td>1</td>\n",
       "      <td>0</td>\n",
       "      <td>0</td>\n",
       "      <td>1</td>\n",
       "      <td>0</td>\n",
       "      <td>0</td>\n",
       "      <td>...</td>\n",
       "      <td>1</td>\n",
       "      <td>2</td>\n",
       "      <td>1</td>\n",
       "      <td>1</td>\n",
       "      <td>0</td>\n",
       "      <td>0</td>\n",
       "      <td>8118430</td>\n",
       "      <td>9</td>\n",
       "      <td>-1.010615</td>\n",
       "      <td>29.900000</td>\n",
       "    </tr>\n",
       "    <tr>\n",
       "      <th>...</th>\n",
       "      <td>...</td>\n",
       "      <td>...</td>\n",
       "      <td>...</td>\n",
       "      <td>...</td>\n",
       "      <td>...</td>\n",
       "      <td>...</td>\n",
       "      <td>...</td>\n",
       "      <td>...</td>\n",
       "      <td>...</td>\n",
       "      <td>...</td>\n",
       "      <td>...</td>\n",
       "      <td>...</td>\n",
       "      <td>...</td>\n",
       "      <td>...</td>\n",
       "      <td>...</td>\n",
       "      <td>...</td>\n",
       "      <td>...</td>\n",
       "      <td>...</td>\n",
       "      <td>...</td>\n",
       "      <td>...</td>\n",
       "      <td>...</td>\n",
       "    </tr>\n",
       "    <tr>\n",
       "      <th>1913</th>\n",
       "      <td>0</td>\n",
       "      <td>0</td>\n",
       "      <td>0</td>\n",
       "      <td>0</td>\n",
       "      <td>0</td>\n",
       "      <td>0</td>\n",
       "      <td>0</td>\n",
       "      <td>0</td>\n",
       "      <td>0</td>\n",
       "      <td>1</td>\n",
       "      <td>...</td>\n",
       "      <td>1</td>\n",
       "      <td>1</td>\n",
       "      <td>0</td>\n",
       "      <td>0</td>\n",
       "      <td>1</td>\n",
       "      <td>0</td>\n",
       "      <td>8N87368</td>\n",
       "      <td>5</td>\n",
       "      <td>0.523029</td>\n",
       "      <td>32.900000</td>\n",
       "    </tr>\n",
       "    <tr>\n",
       "      <th>1914</th>\n",
       "      <td>0</td>\n",
       "      <td>0</td>\n",
       "      <td>0</td>\n",
       "      <td>1</td>\n",
       "      <td>0</td>\n",
       "      <td>0</td>\n",
       "      <td>1</td>\n",
       "      <td>0</td>\n",
       "      <td>1</td>\n",
       "      <td>1</td>\n",
       "      <td>...</td>\n",
       "      <td>0</td>\n",
       "      <td>2</td>\n",
       "      <td>0</td>\n",
       "      <td>0</td>\n",
       "      <td>1</td>\n",
       "      <td>0</td>\n",
       "      <td>8N87369</td>\n",
       "      <td>5</td>\n",
       "      <td>-0.241355</td>\n",
       "      <td>30.900000</td>\n",
       "    </tr>\n",
       "    <tr>\n",
       "      <th>1915</th>\n",
       "      <td>0</td>\n",
       "      <td>0</td>\n",
       "      <td>0</td>\n",
       "      <td>0</td>\n",
       "      <td>1</td>\n",
       "      <td>1</td>\n",
       "      <td>0</td>\n",
       "      <td>0</td>\n",
       "      <td>1</td>\n",
       "      <td>2</td>\n",
       "      <td>...</td>\n",
       "      <td>1</td>\n",
       "      <td>1</td>\n",
       "      <td>0</td>\n",
       "      <td>0</td>\n",
       "      <td>0</td>\n",
       "      <td>1</td>\n",
       "      <td>8N87371</td>\n",
       "      <td>7</td>\n",
       "      <td>0.515544</td>\n",
       "      <td>32.500000</td>\n",
       "    </tr>\n",
       "    <tr>\n",
       "      <th>1916</th>\n",
       "      <td>0</td>\n",
       "      <td>0</td>\n",
       "      <td>0</td>\n",
       "      <td>1</td>\n",
       "      <td>0</td>\n",
       "      <td>0</td>\n",
       "      <td>0</td>\n",
       "      <td>0</td>\n",
       "      <td>1</td>\n",
       "      <td>1</td>\n",
       "      <td>...</td>\n",
       "      <td>0</td>\n",
       "      <td>1</td>\n",
       "      <td>0</td>\n",
       "      <td>0</td>\n",
       "      <td>0</td>\n",
       "      <td>1</td>\n",
       "      <td>8N87372</td>\n",
       "      <td>3</td>\n",
       "      <td>0.494145</td>\n",
       "      <td>32.800000</td>\n",
       "    </tr>\n",
       "    <tr>\n",
       "      <th>1917</th>\n",
       "      <td>0</td>\n",
       "      <td>0</td>\n",
       "      <td>0</td>\n",
       "      <td>2</td>\n",
       "      <td>0</td>\n",
       "      <td>0</td>\n",
       "      <td>0</td>\n",
       "      <td>1</td>\n",
       "      <td>1</td>\n",
       "      <td>1</td>\n",
       "      <td>...</td>\n",
       "      <td>2</td>\n",
       "      <td>0</td>\n",
       "      <td>0</td>\n",
       "      <td>0</td>\n",
       "      <td>0</td>\n",
       "      <td>0</td>\n",
       "      <td>8N87709</td>\n",
       "      <td>8</td>\n",
       "      <td>0.602443</td>\n",
       "      <td>33.200000</td>\n",
       "    </tr>\n",
       "  </tbody>\n",
       "</table>\n",
       "<p>1918 rows × 18288 columns</p>\n",
       "</div>"
      ],
      "text/plain": [
       "      SNPa352024_T  SNPa51204_C  SNPa371349_T  SNPa86522_T  SNPa395916_T  \\\n",
       "0                0            0             1            2             1   \n",
       "1                0            0             1            2             0   \n",
       "2                0            0             0            1             0   \n",
       "3                0            0             0            0             0   \n",
       "4                0            0             0            2             1   \n",
       "...            ...          ...           ...          ...           ...   \n",
       "1913             0            0             0            0             0   \n",
       "1914             0            0             0            1             0   \n",
       "1915             0            0             0            0             1   \n",
       "1916             0            0             0            1             0   \n",
       "1917             0            0             0            2             0   \n",
       "\n",
       "      SNPa302259_A  SNPa524601_A  SNPa483891_T  SNPa207156_T  SNPa77054_G  \\\n",
       "0                0             0             1             0            0   \n",
       "1                0             0             1             0            1   \n",
       "2                0             0             0             0            1   \n",
       "3                0             0             1             0            1   \n",
       "4                0             0             1             0            0   \n",
       "...            ...           ...           ...           ...          ...   \n",
       "1913             0             0             0             0            1   \n",
       "1914             0             1             0             1            1   \n",
       "1915             1             0             0             1            2   \n",
       "1916             0             0             0             1            1   \n",
       "1917             0             0             1             1            1   \n",
       "\n",
       "      ...  SNPa437479_G  SNPa179086_T  SNPa392716_T  SNPa415615_G  \\\n",
       "0     ...             1             1             1             1   \n",
       "1     ...             1             0             1             1   \n",
       "2     ...             2             1             1             0   \n",
       "3     ...             1             1             1             1   \n",
       "4     ...             1             2             1             1   \n",
       "...   ...           ...           ...           ...           ...   \n",
       "1913  ...             1             1             0             0   \n",
       "1914  ...             0             2             0             0   \n",
       "1915  ...             1             1             0             0   \n",
       "1916  ...             0             1             0             0   \n",
       "1917  ...             2             0             0             0   \n",
       "\n",
       "      SNPa280074_G  SNPa220371_G   ringnr  fold        ID  mean_pheno  \n",
       "0                0             0  8118424     8  0.519577   32.600000  \n",
       "1                1             0  8118425     4 -1.044296   30.300000  \n",
       "2                0             1  8118426     7  0.918158   33.316667  \n",
       "3                0             0  8118429     1 -0.093239   31.300000  \n",
       "4                0             0  8118430     9 -1.010615   29.900000  \n",
       "...            ...           ...      ...   ...       ...         ...  \n",
       "1913             1             0  8N87368     5  0.523029   32.900000  \n",
       "1914             1             0  8N87369     5 -0.241355   30.900000  \n",
       "1915             0             1  8N87371     7  0.515544   32.500000  \n",
       "1916             0             1  8N87372     3  0.494145   32.800000  \n",
       "1917             0             0  8N87709     8  0.602443   33.200000  \n",
       "\n",
       "[1918 rows x 18288 columns]"
      ]
     },
     "execution_count": 8,
     "metadata": {},
     "output_type": "execute_result"
    }
   ],
   "source": [
    "X"
   ]
  },
  {
   "cell_type": "code",
   "execution_count": 9,
   "metadata": {},
   "outputs": [
    {
     "name": "stderr",
     "output_type": "stream",
     "text": [
      "[I 2024-09-26 11:51:18,844] A new study created in memory with name: no-name-2e9c6589-7056-44f7-96ff-1052c4d23999\n",
      "INFO:__main__:Starting trial 0\n",
      "INFO:__main__:Starting trial 1\n",
      "INFO:__main__:Starting trial 2\n",
      "INFO:__main__:Starting trial 3\n"
     ]
    },
    {
     "name": "stdout",
     "output_type": "stream",
     "text": [
      "Training until validation scores don't improve for 100 rounds\n",
      "Training until validation scores don't improve for 100 rounds\n",
      "Training until validation scores don't improve for 100 rounds\n",
      "Training until validation scores don't improve for 100 rounds\n",
      "Early stopping, best iteration is:\n",
      "[16]\ttrain's l1: 0.770693\tvalid's l1: 0.798822\n",
      "Early stopping, best iteration is:\n",
      "[1]\ttrain's l1: 0.771664\tvalid's l1: 0.799257\n"
     ]
    },
    {
     "name": "stderr",
     "output_type": "stream",
     "text": [
      "C:\\Users\\simen\\AppData\\Local\\Temp\\ipykernel_41008\\1244612948.py:72: ConstantInputWarning: An input array is constant; the correlation coefficient is not defined.\n",
      "  corr, _ = pearsonr(y_test_outer, y_pred_outer)\n"
     ]
    },
    {
     "name": "stdout",
     "output_type": "stream",
     "text": [
      "Training until validation scores don't improve for 100 rounds\n",
      "Early stopping, best iteration is:\n",
      "[173]\ttrain's l1: 0.585095\tvalid's l1: 0.757215\n",
      "Training until validation scores don't improve for 100 rounds\n",
      "Early stopping, best iteration is:\n",
      "[1]\ttrain's l1: 0.766692\tvalid's l1: 0.74104\n"
     ]
    },
    {
     "name": "stderr",
     "output_type": "stream",
     "text": [
      "C:\\Users\\simen\\AppData\\Local\\Temp\\ipykernel_41008\\1244612948.py:72: ConstantInputWarning: An input array is constant; the correlation coefficient is not defined.\n",
      "  corr, _ = pearsonr(y_test_outer, y_pred_outer)\n"
     ]
    },
    {
     "name": "stdout",
     "output_type": "stream",
     "text": [
      "Training until validation scores don't improve for 100 rounds\n",
      "Training until validation scores don't improve for 100 rounds\n",
      "Early stopping, best iteration is:\n",
      "[570]\ttrain's l1: 0.693655\tvalid's l1: 0.76943\n",
      "Early stopping, best iteration is:\n",
      "[8]\ttrain's l1: 0.707099\tvalid's l1: 0.725577\n",
      "Early stopping, best iteration is:\n",
      "[536]\ttrain's l1: 0.758255\tvalid's l1: 0.735442\n",
      "Training until validation scores don't improve for 100 rounds\n",
      "Early stopping, best iteration is:\n",
      "[67]\ttrain's l1: 0.780211\tvalid's l1: 0.716737\n",
      "Early stopping, best iteration is:\n",
      "[16]\ttrain's l1: 0.745656\tvalid's l1: 0.733299\n",
      "Training until validation scores don't improve for 100 rounds\n",
      "Training until validation scores don't improve for 100 rounds\n",
      "Training until validation scores don't improve for 100 rounds\n",
      "Training until validation scores don't improve for 100 rounds\n",
      "Early stopping, best iteration is:\n",
      "[50]\ttrain's l1: 0.618251\tvalid's l1: 0.688111\n",
      "Early stopping, best iteration is:\n",
      "[1]\ttrain's l1: 0.782413\tvalid's l1: 0.717614\n"
     ]
    },
    {
     "name": "stderr",
     "output_type": "stream",
     "text": [
      "C:\\Users\\simen\\AppData\\Local\\Temp\\ipykernel_41008\\1244612948.py:72: ConstantInputWarning: An input array is constant; the correlation coefficient is not defined.\n",
      "  corr, _ = pearsonr(y_test_outer, y_pred_outer)\n"
     ]
    },
    {
     "name": "stdout",
     "output_type": "stream",
     "text": [
      "Training until validation scores don't improve for 100 rounds\n",
      "Training until validation scores don't improve for 100 rounds\n",
      "Early stopping, best iteration is:\n",
      "[327]\ttrain's l1: 0.772354\tvalid's l1: 0.711113\n",
      "Early stopping, best iteration is:\n",
      "[240]\ttrain's l1: 0.699313\tvalid's l1: 0.689385\n",
      "Early stopping, best iteration is:\n",
      "[1]\ttrain's l1: 0.779909\tvalid's l1: 0.72832\n"
     ]
    },
    {
     "name": "stderr",
     "output_type": "stream",
     "text": [
      "C:\\Users\\simen\\AppData\\Local\\Temp\\ipykernel_41008\\1244612948.py:72: ConstantInputWarning: An input array is constant; the correlation coefficient is not defined.\n",
      "  corr, _ = pearsonr(y_test_outer, y_pred_outer)\n"
     ]
    },
    {
     "name": "stdout",
     "output_type": "stream",
     "text": [
      "Training until validation scores don't improve for 100 rounds\n",
      "Training until validation scores don't improve for 100 rounds\n",
      "Training until validation scores don't improve for 100 rounds\n",
      "Early stopping, best iteration is:\n",
      "[226]\ttrain's l1: 0.563166\tvalid's l1: 0.683792\n",
      "Early stopping, best iteration is:\n",
      "[1]\ttrain's l1: 0.778605\tvalid's l1: 0.785872\n"
     ]
    },
    {
     "name": "stderr",
     "output_type": "stream",
     "text": [
      "C:\\Users\\simen\\AppData\\Local\\Temp\\ipykernel_41008\\1244612948.py:72: ConstantInputWarning: An input array is constant; the correlation coefficient is not defined.\n",
      "  corr, _ = pearsonr(y_test_outer, y_pred_outer)\n"
     ]
    },
    {
     "name": "stdout",
     "output_type": "stream",
     "text": [
      "Early stopping, best iteration is:\n",
      "[513]\ttrain's l1: 0.698668\tvalid's l1: 0.687998\n",
      "Training until validation scores don't improve for 100 rounds\n",
      "Training until validation scores don't improve for 100 rounds\n",
      "Training until validation scores don't improve for 100 rounds\n",
      "Early stopping, best iteration is:\n",
      "[397]\ttrain's l1: 0.770466\tvalid's l1: 0.710121\n",
      "Early stopping, best iteration is:\n",
      "[1]\ttrain's l1: 0.787401\tvalid's l1: 0.667295\n"
     ]
    },
    {
     "name": "stderr",
     "output_type": "stream",
     "text": [
      "C:\\Users\\simen\\AppData\\Local\\Temp\\ipykernel_41008\\1244612948.py:72: ConstantInputWarning: An input array is constant; the correlation coefficient is not defined.\n",
      "  corr, _ = pearsonr(y_test_outer, y_pred_outer)\n"
     ]
    },
    {
     "name": "stdout",
     "output_type": "stream",
     "text": [
      "Early stopping, best iteration is:\n",
      "[17]\ttrain's l1: 0.682372\tvalid's l1: 0.704406\n",
      "Training until validation scores don't improve for 100 rounds\n",
      "Training until validation scores don't improve for 100 rounds\n",
      "Training until validation scores don't improve for 100 rounds\n",
      "Early stopping, best iteration is:\n",
      "[1]\ttrain's l1: 0.755971\tvalid's l1: 0.815445\n"
     ]
    },
    {
     "name": "stderr",
     "output_type": "stream",
     "text": [
      "C:\\Users\\simen\\AppData\\Local\\Temp\\ipykernel_41008\\1244612948.py:72: ConstantInputWarning: An input array is constant; the correlation coefficient is not defined.\n",
      "  corr, _ = pearsonr(y_test_outer, y_pred_outer)\n"
     ]
    },
    {
     "name": "stdout",
     "output_type": "stream",
     "text": [
      "Early stopping, best iteration is:\n",
      "[316]\ttrain's l1: 0.708864\tvalid's l1: 0.694954\n",
      "Early stopping, best iteration is:\n",
      "[26]\ttrain's l1: 0.777028\tvalid's l1: 0.72553\n",
      "Training until validation scores don't improve for 100 rounds\n",
      "Training until validation scores don't improve for 100 rounds\n",
      "Early stopping, best iteration is:\n",
      "[1]\ttrain's l1: 0.770481\tvalid's l1: 0.771553\n"
     ]
    },
    {
     "name": "stderr",
     "output_type": "stream",
     "text": [
      "C:\\Users\\simen\\AppData\\Local\\Temp\\ipykernel_41008\\1244612948.py:72: ConstantInputWarning: An input array is constant; the correlation coefficient is not defined.\n",
      "  corr, _ = pearsonr(y_test_outer, y_pred_outer)\n"
     ]
    },
    {
     "name": "stdout",
     "output_type": "stream",
     "text": [
      "Training until validation scores don't improve for 100 rounds\n",
      "Early stopping, best iteration is:\n",
      "[155]\ttrain's l1: 0.721878\tvalid's l1: 0.743235\n",
      "Training until validation scores don't improve for 100 rounds\n",
      "Early stopping, best iteration is:\n",
      "[201]\ttrain's l1: 0.771957\tvalid's l1: 0.779583\n",
      "Early stopping, best iteration is:\n",
      "[1]\ttrain's l1: 0.771604\tvalid's l1: 0.774018\n"
     ]
    },
    {
     "name": "stderr",
     "output_type": "stream",
     "text": [
      "C:\\Users\\simen\\AppData\\Local\\Temp\\ipykernel_41008\\1244612948.py:72: ConstantInputWarning: An input array is constant; the correlation coefficient is not defined.\n",
      "  corr, _ = pearsonr(y_test_outer, y_pred_outer)\n",
      "[W 2024-09-26 11:56:52,797] Trial 0 failed with parameters: {'n_estimators': 631, 'learning_rate': 0.17207605555757832, 'max_depth': 4, 'num_leaves': 760, 'reg_lambda': 75, 'reg_alpha': 75, 'bagging_fraction': 0.2, 'bagging_freq': 8, 'feature_fraction': 0.4} because of the following error: The value nan is not acceptable.\n",
      "[W 2024-09-26 11:56:52,800] Trial 0 failed with value nan.\n",
      "INFO:__main__:Starting trial 4\n"
     ]
    },
    {
     "name": "stdout",
     "output_type": "stream",
     "text": [
      "Results: [nan, nan, -0.006431058712651164, nan, nan, nan, nan, nan, nan, nan]\n",
      "Average correlation across all outer folds: nan\n",
      "Training until validation scores don't improve for 100 rounds\n",
      "Early stopping, best iteration is:\n",
      "[409]\ttrain's l1: 0.569164\tvalid's l1: 0.687824\n",
      "Training until validation scores don't improve for 100 rounds\n",
      "Training until validation scores don't improve for 100 rounds\n",
      "Training until validation scores don't improve for 100 rounds\n",
      "Early stopping, best iteration is:\n",
      "[255]\ttrain's l1: 0.712102\tvalid's l1: 0.6462\n",
      "Training until validation scores don't improve for 100 rounds\n",
      "Early stopping, best iteration is:\n",
      "[153]\ttrain's l1: 0.781099\tvalid's l1: 0.663924\n",
      "Early stopping, best iteration is:\n",
      "[238]\ttrain's l1: 0.768099\tvalid's l1: 0.797173\n",
      "Early stopping, best iteration is:\n",
      "[67]\ttrain's l1: 0.607602\tvalid's l1: 0.632316\n",
      "Training until validation scores don't improve for 100 rounds\n",
      "Training until validation scores don't improve for 100 rounds\n",
      "Training until validation scores don't improve for 100 rounds\n",
      "Early stopping, best iteration is:\n",
      "[211]\ttrain's l1: 0.763189\tvalid's l1: 0.738917\n",
      "Early stopping, best iteration is:\n",
      "[260]\ttrain's l1: 0.750072\tvalid's l1: 0.812938\n",
      "Training until validation scores don't improve for 100 rounds\n",
      "Training until validation scores don't improve for 100 rounds\n",
      "Did not meet early stopping. Best iteration is:\n",
      "[798]\ttrain's l1: 0.674785\tvalid's l1: 0.787205\n",
      "Early stopping, best iteration is:\n",
      "[260]\ttrain's l1: 0.556226\tvalid's l1: 0.768515\n",
      "Early stopping, best iteration is:\n",
      "[2]\ttrain's l1: 0.770238\tvalid's l1: 0.771402\n",
      "Training until validation scores don't improve for 100 rounds\n",
      "Training until validation scores don't improve for 100 rounds\n",
      "Early stopping, best iteration is:\n",
      "[233]\ttrain's l1: 0.768856\tvalid's l1: 0.712329\n",
      "Early stopping, best iteration is:\n",
      "[8]\ttrain's l1: 0.754789\tvalid's l1: 0.766187\n",
      "Training until validation scores don't improve for 100 rounds\n",
      "Training until validation scores don't improve for 100 rounds\n",
      "Training until validation scores don't improve for 100 rounds\n",
      "Early stopping, best iteration is:\n",
      "[48]\ttrain's l1: 0.609622\tvalid's l1: 0.764955\n",
      "Early stopping, best iteration is:\n",
      "[166]\ttrain's l1: 0.766172\tvalid's l1: 0.768083\n",
      "Early stopping, best iteration is:\n",
      "[76]\ttrain's l1: 0.776614\tvalid's l1: 0.712719\n",
      "Results: [0.02340000230883783, 0.04831611618410925, 0.07277383101350582, 0.04997886903755511, 0.13664795798899407, 0.23311775936576845, 0.05460450142155143, 0.1600321179387368, 0.08004939136986317, 0.13676864502616193]\n",
      "Average correlation across all outer folds: 0.09956891916550838\n"
     ]
    },
    {
     "name": "stderr",
     "output_type": "stream",
     "text": [
      "[I 2024-09-26 11:59:48,204] Trial 3 finished with value: 0.09956891916550838 and parameters: {'n_estimators': 857, 'learning_rate': 0.18252607689412392, 'max_depth': 11, 'num_leaves': 2520, 'reg_lambda': 25, 'reg_alpha': 90, 'bagging_fraction': 0.9, 'bagging_freq': 3, 'feature_fraction': 0.2}. Best is trial 3 with value: 0.09956891916550838.\n",
      "INFO:__main__:Starting trial 5\n"
     ]
    },
    {
     "name": "stdout",
     "output_type": "stream",
     "text": [
      "Training until validation scores don't improve for 100 rounds\n",
      "Training until validation scores don't improve for 100 rounds\n",
      "Training until validation scores don't improve for 100 rounds\n",
      "Early stopping, best iteration is:\n",
      "[281]\ttrain's l1: 0.707304\tvalid's l1: 0.732063\n"
     ]
    },
    {
     "name": "stderr",
     "output_type": "stream",
     "text": [
      "[I 2024-09-26 12:00:09,935] Trial 2 finished with value: 0.1714361555153729 and parameters: {'n_estimators': 804, 'learning_rate': 0.26269868952390557, 'max_depth': 6, 'num_leaves': 1620, 'reg_lambda': 85, 'reg_alpha': 65, 'bagging_fraction': 0.9, 'bagging_freq': 1, 'feature_fraction': 0.2}. Best is trial 2 with value: 0.1714361555153729.\n",
      "INFO:__main__:Starting trial 6\n"
     ]
    },
    {
     "name": "stdout",
     "output_type": "stream",
     "text": [
      "Results: [0.19310182554384653, 0.09277574803582715, 0.05987497621568082, 0.12440156466918639, 0.2820890293241878, 0.2659333227756377, 0.08056893628349371, 0.14081619561202088, 0.23941086565126224, 0.23538909104258599]\n",
      "Average correlation across all outer folds: 0.1714361555153729\n",
      "Early stopping, best iteration is:\n",
      "[1]\ttrain's l1: 0.771664\tvalid's l1: 0.799257\n"
     ]
    },
    {
     "name": "stderr",
     "output_type": "stream",
     "text": [
      "C:\\Users\\simen\\AppData\\Local\\Temp\\ipykernel_41008\\1244612948.py:72: ConstantInputWarning: An input array is constant; the correlation coefficient is not defined.\n",
      "  corr, _ = pearsonr(y_test_outer, y_pred_outer)\n"
     ]
    },
    {
     "name": "stdout",
     "output_type": "stream",
     "text": [
      "Training until validation scores don't improve for 100 rounds\n",
      "Early stopping, best iteration is:\n",
      "[134]\ttrain's l1: 0.766853\tvalid's l1: 0.719335\n",
      "Training until validation scores don't improve for 100 rounds\n",
      "Early stopping, best iteration is:\n",
      "[92]\ttrain's l1: 0.445935\tvalid's l1: 0.765527\n",
      "Training until validation scores don't improve for 100 rounds\n",
      "Early stopping, best iteration is:\n",
      "[1]\ttrain's l1: 0.766692\tvalid's l1: 0.74104\n"
     ]
    },
    {
     "name": "stderr",
     "output_type": "stream",
     "text": [
      "C:\\Users\\simen\\AppData\\Local\\Temp\\ipykernel_41008\\1244612948.py:72: ConstantInputWarning: An input array is constant; the correlation coefficient is not defined.\n",
      "  corr, _ = pearsonr(y_test_outer, y_pred_outer)\n"
     ]
    },
    {
     "name": "stdout",
     "output_type": "stream",
     "text": [
      "Early stopping, best iteration is:\n",
      "[269]\ttrain's l1: 0.582816\tvalid's l1: 0.703063\n"
     ]
    },
    {
     "name": "stderr",
     "output_type": "stream",
     "text": [
      "[I 2024-09-26 12:00:37,842] Trial 1 finished with value: 0.16854168703494252 and parameters: {'n_estimators': 773, 'learning_rate': 0.2878367209147297, 'max_depth': 12, 'num_leaves': 2040, 'reg_lambda': 40, 'reg_alpha': 45, 'bagging_fraction': 0.9, 'bagging_freq': 1, 'feature_fraction': 0.30000000000000004}. Best is trial 2 with value: 0.1714361555153729.\n",
      "INFO:__main__:Starting trial 7\n"
     ]
    },
    {
     "name": "stdout",
     "output_type": "stream",
     "text": [
      "Results: [0.20156695258525695, 0.13380045710090635, 0.03558873813868666, 0.1477064658688511, 0.16915883869057394, 0.25379607119089476, 0.2337346631559402, 0.19489454904670572, 0.06802642582120201, 0.2471437087504076]\n",
      "Average correlation across all outer folds: 0.16854168703494252\n",
      "Training until validation scores don't improve for 100 rounds\n",
      "Early stopping, best iteration is:\n",
      "[210]\ttrain's l1: 0.773124\tvalid's l1: 0.782537\n",
      "Training until validation scores don't improve for 100 rounds\n",
      "Training until validation scores don't improve for 100 rounds\n",
      "Early stopping, best iteration is:\n",
      "[29]\ttrain's l1: 0.614748\tvalid's l1: 0.722049\n",
      "Training until validation scores don't improve for 100 rounds\n",
      "Early stopping, best iteration is:\n",
      "[1]\ttrain's l1: 0.771664\tvalid's l1: 0.799257\n"
     ]
    },
    {
     "name": "stderr",
     "output_type": "stream",
     "text": [
      "C:\\Users\\simen\\AppData\\Local\\Temp\\ipykernel_41008\\1244612948.py:72: ConstantInputWarning: An input array is constant; the correlation coefficient is not defined.\n",
      "  corr, _ = pearsonr(y_test_outer, y_pred_outer)\n"
     ]
    },
    {
     "name": "stdout",
     "output_type": "stream",
     "text": [
      "Training until validation scores don't improve for 100 rounds\n",
      "Early stopping, best iteration is:\n",
      "[137]\ttrain's l1: 0.783063\tvalid's l1: 0.716877\n",
      "Training until validation scores don't improve for 100 rounds\n",
      "Early stopping, best iteration is:\n",
      "[140]\ttrain's l1: 0.785354\tvalid's l1: 0.666681\n",
      "Training until validation scores don't improve for 100 rounds\n",
      "Early stopping, best iteration is:\n",
      "[79]\ttrain's l1: 0.469675\tvalid's l1: 0.666589\n",
      "Early stopping, best iteration is:\n",
      "[1]\ttrain's l1: 0.782413\tvalid's l1: 0.717614\n"
     ]
    },
    {
     "name": "stderr",
     "output_type": "stream",
     "text": [
      "C:\\Users\\simen\\AppData\\Local\\Temp\\ipykernel_41008\\1244612948.py:72: ConstantInputWarning: An input array is constant; the correlation coefficient is not defined.\n",
      "  corr, _ = pearsonr(y_test_outer, y_pred_outer)\n"
     ]
    },
    {
     "name": "stdout",
     "output_type": "stream",
     "text": [
      "Early stopping, best iteration is:\n",
      "[102]\ttrain's l1: 0.766249\tvalid's l1: 0.740342\n",
      "Training until validation scores don't improve for 100 rounds\n",
      "Training until validation scores don't improve for 100 rounds\n",
      "Training until validation scores don't improve for 100 rounds\n",
      "Training until validation scores don't improve for 100 rounds\n",
      "Early stopping, best iteration is:\n",
      "[48]\ttrain's l1: 0.558008\tvalid's l1: 0.684671\n",
      "Early stopping, best iteration is:\n",
      "[1]\ttrain's l1: 0.779909\tvalid's l1: 0.72832\n"
     ]
    },
    {
     "name": "stderr",
     "output_type": "stream",
     "text": [
      "C:\\Users\\simen\\AppData\\Local\\Temp\\ipykernel_41008\\1244612948.py:72: ConstantInputWarning: An input array is constant; the correlation coefficient is not defined.\n",
      "  corr, _ = pearsonr(y_test_outer, y_pred_outer)\n"
     ]
    },
    {
     "name": "stdout",
     "output_type": "stream",
     "text": [
      "Early stopping, best iteration is:\n",
      "[225]\ttrain's l1: 0.751922\tvalid's l1: 0.811818\n",
      "Training until validation scores don't improve for 100 rounds\n",
      "Early stopping, best iteration is:\n",
      "[65]\ttrain's l1: 0.783356\tvalid's l1: 0.716957\n",
      "Training until validation scores don't improve for 100 rounds\n",
      "Early stopping, best iteration is:\n",
      "[25]\ttrain's l1: 0.634987\tvalid's l1: 0.695709\n",
      "Training until validation scores don't improve for 100 rounds\n",
      "Early stopping, best iteration is:\n",
      "[1]\ttrain's l1: 0.778605\tvalid's l1: 0.785872\n",
      "Training until validation scores don't improve for 100 rounds\n"
     ]
    },
    {
     "name": "stderr",
     "output_type": "stream",
     "text": [
      "C:\\Users\\simen\\AppData\\Local\\Temp\\ipykernel_41008\\1244612948.py:72: ConstantInputWarning: An input array is constant; the correlation coefficient is not defined.\n",
      "  corr, _ = pearsonr(y_test_outer, y_pred_outer)\n"
     ]
    },
    {
     "name": "stdout",
     "output_type": "stream",
     "text": [
      "Training until validation scores don't improve for 100 rounds\n",
      "Training until validation scores don't improve for 100 rounds\n",
      "Early stopping, best iteration is:\n",
      "[129]\ttrain's l1: 0.767431\tvalid's l1: 0.769612\n",
      "Early stopping, best iteration is:\n",
      "[1]\ttrain's l1: 0.787401\tvalid's l1: 0.667295\n"
     ]
    },
    {
     "name": "stderr",
     "output_type": "stream",
     "text": [
      "C:\\Users\\simen\\AppData\\Local\\Temp\\ipykernel_41008\\1244612948.py:72: ConstantInputWarning: An input array is constant; the correlation coefficient is not defined.\n",
      "  corr, _ = pearsonr(y_test_outer, y_pred_outer)\n"
     ]
    },
    {
     "name": "stdout",
     "output_type": "stream",
     "text": [
      "Early stopping, best iteration is:\n",
      "[213]\ttrain's l1: 0.781451\tvalid's l1: 0.717123\n",
      "Training until validation scores don't improve for 100 rounds\n",
      "Training until validation scores don't improve for 100 rounds\n",
      "Training until validation scores don't improve for 100 rounds\n",
      "Early stopping, best iteration is:\n",
      "[55]\ttrain's l1: 0.764546\tvalid's l1: 0.763123\n"
     ]
    },
    {
     "name": "stderr",
     "output_type": "stream",
     "text": [
      "[I 2024-09-26 12:03:28,488] Trial 4 finished with value: 0.08900123227520369 and parameters: {'n_estimators': 804, 'learning_rate': 0.19181087820624088, 'max_depth': 7, 'num_leaves': 260, 'reg_lambda': 90, 'reg_alpha': 60, 'bagging_fraction': 0.30000000000000004, 'bagging_freq': 10, 'feature_fraction': 0.2}. Best is trial 2 with value: 0.1714361555153729.\n",
      "INFO:__main__:Starting trial 8\n"
     ]
    },
    {
     "name": "stdout",
     "output_type": "stream",
     "text": [
      "Results: [0.12596299633922714, 0.009233103074093363, 0.10247000968061586, 0.17295577805255785, 0.030760626231919802, 0.10107701229167529, -0.005524579277001382, 0.1086489630265533, 0.1253242604736549, 0.1191041528587409]\n",
      "Average correlation across all outer folds: 0.08900123227520369\n",
      "Early stopping, best iteration is:\n",
      "[237]\ttrain's l1: 0.275394\tvalid's l1: 0.730553\n",
      "Early stopping, best iteration is:\n",
      "[1]\ttrain's l1: 0.755971\tvalid's l1: 0.815445\n"
     ]
    },
    {
     "name": "stderr",
     "output_type": "stream",
     "text": [
      "C:\\Users\\simen\\AppData\\Local\\Temp\\ipykernel_41008\\1244612948.py:72: ConstantInputWarning: An input array is constant; the correlation coefficient is not defined.\n",
      "  corr, _ = pearsonr(y_test_outer, y_pred_outer)\n"
     ]
    },
    {
     "name": "stdout",
     "output_type": "stream",
     "text": [
      "Early stopping, best iteration is:\n",
      "[222]\ttrain's l1: 0.777492\tvalid's l1: 0.725426\n",
      "Training until validation scores don't improve for 100 rounds\n",
      "Training until validation scores don't improve for 100 rounds\n",
      "Training until validation scores don't improve for 100 rounds\n",
      "Training until validation scores don't improve for 100 rounds\n",
      "Early stopping, best iteration is:\n",
      "[1]\ttrain's l1: 0.770481\tvalid's l1: 0.771553\n"
     ]
    },
    {
     "name": "stderr",
     "output_type": "stream",
     "text": [
      "C:\\Users\\simen\\AppData\\Local\\Temp\\ipykernel_41008\\1244612948.py:72: ConstantInputWarning: An input array is constant; the correlation coefficient is not defined.\n",
      "  corr, _ = pearsonr(y_test_outer, y_pred_outer)\n"
     ]
    },
    {
     "name": "stdout",
     "output_type": "stream",
     "text": [
      "Early stopping, best iteration is:\n",
      "[40]\ttrain's l1: 0.593019\tvalid's l1: 0.639583\n",
      "Early stopping, best iteration is:\n",
      "[11]\ttrain's l1: 0.778061\tvalid's l1: 0.785193\n",
      "Early stopping, best iteration is:\n",
      "[70]\ttrain's l1: 0.77157\tvalid's l1: 0.799195\n",
      "Training until validation scores don't improve for 100 rounds\n",
      "Training until validation scores don't improve for 100 rounds\n",
      "Training until validation scores don't improve for 100 rounds\n",
      "Training until validation scores don't improve for 100 rounds\n",
      "Early stopping, best iteration is:\n",
      "[141]\ttrain's l1: 0.77113\tvalid's l1: 0.773175\n"
     ]
    },
    {
     "name": "stderr",
     "output_type": "stream",
     "text": [
      "[W 2024-09-26 12:04:56,755] Trial 5 failed with parameters: {'n_estimators': 760, 'learning_rate': 0.06640034400752207, 'max_depth': 8, 'num_leaves': 1300, 'reg_lambda': 30, 'reg_alpha': 75, 'bagging_fraction': 0.30000000000000004, 'bagging_freq': 10, 'feature_fraction': 0.2} because of the following error: The value nan is not acceptable.\n",
      "[W 2024-09-26 12:04:56,756] Trial 5 failed with value nan.\n",
      "INFO:__main__:Starting trial 9\n"
     ]
    },
    {
     "name": "stdout",
     "output_type": "stream",
     "text": [
      "Results: [nan, nan, 0.019770847879658673, nan, nan, nan, nan, nan, nan, 0.038465737160171376]\n",
      "Average correlation across all outer folds: nan\n",
      "Early stopping, best iteration is:\n",
      "[41]\ttrain's l1: 0.786743\tvalid's l1: 0.666786\n",
      "Early stopping, best iteration is:\n",
      "[1]\ttrain's l1: 0.766692\tvalid's l1: 0.74104\n"
     ]
    },
    {
     "name": "stderr",
     "output_type": "stream",
     "text": [
      "C:\\Users\\simen\\AppData\\Local\\Temp\\ipykernel_41008\\1244612948.py:72: ConstantInputWarning: An input array is constant; the correlation coefficient is not defined.\n",
      "  corr, _ = pearsonr(y_test_outer, y_pred_outer)\n"
     ]
    },
    {
     "name": "stdout",
     "output_type": "stream",
     "text": [
      "Early stopping, best iteration is:\n",
      "[158]\ttrain's l1: 0.331564\tvalid's l1: 0.723011\n",
      "Training until validation scores don't improve for 100 rounds\n",
      "Early stopping, best iteration is:\n",
      "[70]\ttrain's l1: 0.771508\tvalid's l1: 0.799017\n",
      "Training until validation scores don't improve for 100 rounds\n",
      "Training until validation scores don't improve for 100 rounds\n",
      "Training until validation scores don't improve for 100 rounds\n",
      "Early stopping, best iteration is:\n",
      "[38]\ttrain's l1: 0.753815\tvalid's l1: 0.813404\n",
      "Training until validation scores don't improve for 100 rounds\n",
      "Early stopping, best iteration is:\n",
      "[1]\ttrain's l1: 0.766692\tvalid's l1: 0.74104\n"
     ]
    },
    {
     "name": "stderr",
     "output_type": "stream",
     "text": [
      "C:\\Users\\simen\\AppData\\Local\\Temp\\ipykernel_41008\\1244612948.py:72: ConstantInputWarning: An input array is constant; the correlation coefficient is not defined.\n",
      "  corr, _ = pearsonr(y_test_outer, y_pred_outer)\n"
     ]
    },
    {
     "name": "stdout",
     "output_type": "stream",
     "text": [
      "Early stopping, best iteration is:\n",
      "[1]\ttrain's l1: 0.784068\tvalid's l1: 0.717139\n"
     ]
    },
    {
     "name": "stderr",
     "output_type": "stream",
     "text": [
      "C:\\Users\\simen\\AppData\\Local\\Temp\\ipykernel_41008\\1244612948.py:72: ConstantInputWarning: An input array is constant; the correlation coefficient is not defined.\n",
      "  corr, _ = pearsonr(y_test_outer, y_pred_outer)\n"
     ]
    },
    {
     "name": "stdout",
     "output_type": "stream",
     "text": [
      "Early stopping, best iteration is:\n",
      "[10]\ttrain's l1: 0.704225\tvalid's l1: 0.757069\n",
      "Training until validation scores don't improve for 100 rounds\n",
      "Training until validation scores don't improve for 100 rounds\n",
      "Early stopping, best iteration is:\n",
      "[1]\ttrain's l1: 0.784068\tvalid's l1: 0.717139\n"
     ]
    },
    {
     "name": "stderr",
     "output_type": "stream",
     "text": [
      "C:\\Users\\simen\\AppData\\Local\\Temp\\ipykernel_41008\\1244612948.py:72: ConstantInputWarning: An input array is constant; the correlation coefficient is not defined.\n",
      "  corr, _ = pearsonr(y_test_outer, y_pred_outer)\n"
     ]
    },
    {
     "name": "stdout",
     "output_type": "stream",
     "text": [
      "Early stopping, best iteration is:\n",
      "[1]\ttrain's l1: 0.770481\tvalid's l1: 0.771553\n"
     ]
    },
    {
     "name": "stderr",
     "output_type": "stream",
     "text": [
      "C:\\Users\\simen\\AppData\\Local\\Temp\\ipykernel_41008\\1244612948.py:72: ConstantInputWarning: An input array is constant; the correlation coefficient is not defined.\n",
      "  corr, _ = pearsonr(y_test_outer, y_pred_outer)\n"
     ]
    },
    {
     "name": "stdout",
     "output_type": "stream",
     "text": [
      "Training until validation scores don't improve for 100 rounds\n",
      "Training until validation scores don't improve for 100 rounds\n",
      "Training until validation scores don't improve for 100 rounds\n",
      "Early stopping, best iteration is:\n",
      "[1]\ttrain's l1: 0.782413\tvalid's l1: 0.717614\n",
      "Early stopping, best iteration is:\n",
      "[1]\ttrain's l1: 0.782413\tvalid's l1: 0.717614\n"
     ]
    },
    {
     "name": "stderr",
     "output_type": "stream",
     "text": [
      "C:\\Users\\simen\\AppData\\Local\\Temp\\ipykernel_41008\\1244612948.py:72: ConstantInputWarning: An input array is constant; the correlation coefficient is not defined.\n",
      "  corr, _ = pearsonr(y_test_outer, y_pred_outer)\n"
     ]
    },
    {
     "name": "stdout",
     "output_type": "stream",
     "text": [
      "Training until validation scores don't improve for 100 rounds\n"
     ]
    },
    {
     "name": "stderr",
     "output_type": "stream",
     "text": [
      "C:\\Users\\simen\\AppData\\Local\\Temp\\ipykernel_41008\\1244612948.py:72: ConstantInputWarning: An input array is constant; the correlation coefficient is not defined.\n",
      "  corr, _ = pearsonr(y_test_outer, y_pred_outer)\n"
     ]
    },
    {
     "name": "stdout",
     "output_type": "stream",
     "text": [
      "Early stopping, best iteration is:\n",
      "[65]\ttrain's l1: 0.500932\tvalid's l1: 0.709021\n"
     ]
    },
    {
     "name": "stderr",
     "output_type": "stream",
     "text": [
      "[I 2024-09-26 12:06:35,401] Trial 6 finished with value: 0.1695157344920812 and parameters: {'n_estimators': 569, 'learning_rate': 0.291648834908549, 'max_depth': 3, 'num_leaves': 2700, 'reg_lambda': 90, 'reg_alpha': 10, 'bagging_fraction': 0.7, 'bagging_freq': 5, 'feature_fraction': 0.2}. Best is trial 2 with value: 0.1714361555153729.\n"
     ]
    },
    {
     "name": "stdout",
     "output_type": "stream",
     "text": [
      "Results: [0.2109192955435168, 0.1836249873479279, 0.025170425736400937, 0.14994445972926185, 0.22519243217000978, 0.17061624372916342, 0.08827025086998741, 0.17178081390419067, 0.15602160138680687, 0.3136168345035466]\n",
      "Average correlation across all outer folds: 0.1695157344920812\n"
     ]
    },
    {
     "name": "stderr",
     "output_type": "stream",
     "text": [
      "INFO:__main__:Starting trial 10\n"
     ]
    },
    {
     "name": "stdout",
     "output_type": "stream",
     "text": [
      "Early stopping, best iteration is:\n",
      "[20]\ttrain's l1: 0.771218\tvalid's l1: 0.773629\n",
      "Results: [nan, -0.08903492254911413, 0.1609192835617937, 0.013573517246596521, 0.1159280445991793, 0.009927415680493726, -0.025501835202927096, 0.009567517687456572, nan, 0.09113155561487678]\n",
      "Average correlation across all outer folds: nan\n"
     ]
    },
    {
     "name": "stderr",
     "output_type": "stream",
     "text": [
      "[W 2024-09-26 12:06:45,415] Trial 7 failed with parameters: {'n_estimators': 534, 'learning_rate': 0.2706861340241903, 'max_depth': 5, 'num_leaves': 520, 'reg_lambda': 55, 'reg_alpha': 100, 'bagging_fraction': 0.7, 'bagging_freq': 4, 'feature_fraction': 0.2} because of the following error: The value nan is not acceptable.\n",
      "[W 2024-09-26 12:06:45,426] Trial 7 failed with value nan.\n",
      "INFO:__main__:Starting trial 11\n"
     ]
    },
    {
     "name": "stdout",
     "output_type": "stream",
     "text": [
      "Training until validation scores don't improve for 100 rounds\n",
      "Early stopping, best iteration is:\n",
      "[1]\ttrain's l1: 0.779909\tvalid's l1: 0.72832\n"
     ]
    },
    {
     "name": "stderr",
     "output_type": "stream",
     "text": [
      "C:\\Users\\simen\\AppData\\Local\\Temp\\ipykernel_41008\\1244612948.py:72: ConstantInputWarning: An input array is constant; the correlation coefficient is not defined.\n",
      "  corr, _ = pearsonr(y_test_outer, y_pred_outer)\n"
     ]
    },
    {
     "name": "stdout",
     "output_type": "stream",
     "text": [
      "Training until validation scores don't improve for 100 rounds\n",
      "Training until validation scores don't improve for 100 rounds\n",
      "Early stopping, best iteration is:\n",
      "[1]\ttrain's l1: 0.779909\tvalid's l1: 0.72832\n"
     ]
    },
    {
     "name": "stderr",
     "output_type": "stream",
     "text": [
      "C:\\Users\\simen\\AppData\\Local\\Temp\\ipykernel_41008\\1244612948.py:72: ConstantInputWarning: An input array is constant; the correlation coefficient is not defined.\n",
      "  corr, _ = pearsonr(y_test_outer, y_pred_outer)\n"
     ]
    },
    {
     "name": "stdout",
     "output_type": "stream",
     "text": [
      "Training until validation scores don't improve for 100 rounds\n",
      "Training until validation scores don't improve for 100 rounds\n",
      "Early stopping, best iteration is:\n",
      "[1]\ttrain's l1: 0.778605\tvalid's l1: 0.785872\n"
     ]
    },
    {
     "name": "stderr",
     "output_type": "stream",
     "text": [
      "C:\\Users\\simen\\AppData\\Local\\Temp\\ipykernel_41008\\1244612948.py:72: ConstantInputWarning: An input array is constant; the correlation coefficient is not defined.\n",
      "  corr, _ = pearsonr(y_test_outer, y_pred_outer)\n"
     ]
    },
    {
     "name": "stdout",
     "output_type": "stream",
     "text": [
      "Training until validation scores don't improve for 100 rounds\n",
      "Early stopping, best iteration is:\n",
      "[1]\ttrain's l1: 0.771664\tvalid's l1: 0.799257\n"
     ]
    },
    {
     "name": "stderr",
     "output_type": "stream",
     "text": [
      "C:\\Users\\simen\\AppData\\Local\\Temp\\ipykernel_41008\\1244612948.py:72: ConstantInputWarning: An input array is constant; the correlation coefficient is not defined.\n",
      "  corr, _ = pearsonr(y_test_outer, y_pred_outer)\n"
     ]
    },
    {
     "name": "stdout",
     "output_type": "stream",
     "text": [
      "Training until validation scores don't improve for 100 rounds\n",
      "Early stopping, best iteration is:\n",
      "[1]\ttrain's l1: 0.787401\tvalid's l1: 0.667295\n"
     ]
    },
    {
     "name": "stderr",
     "output_type": "stream",
     "text": [
      "C:\\Users\\simen\\AppData\\Local\\Temp\\ipykernel_41008\\1244612948.py:72: ConstantInputWarning: An input array is constant; the correlation coefficient is not defined.\n",
      "  corr, _ = pearsonr(y_test_outer, y_pred_outer)\n"
     ]
    },
    {
     "name": "stdout",
     "output_type": "stream",
     "text": [
      "Early stopping, best iteration is:\n",
      "[108]\ttrain's l1: 0.585543\tvalid's l1: 0.747791\n",
      "Early stopping, best iteration is:\n",
      "[1]\ttrain's l1: 0.778605\tvalid's l1: 0.785872\n",
      "Training until validation scores don't improve for 100 rounds\n"
     ]
    },
    {
     "name": "stderr",
     "output_type": "stream",
     "text": [
      "C:\\Users\\simen\\AppData\\Local\\Temp\\ipykernel_41008\\1244612948.py:72: ConstantInputWarning: An input array is constant; the correlation coefficient is not defined.\n",
      "  corr, _ = pearsonr(y_test_outer, y_pred_outer)\n"
     ]
    },
    {
     "name": "stdout",
     "output_type": "stream",
     "text": [
      "Training until validation scores don't improve for 100 rounds\n",
      "Early stopping, best iteration is:\n",
      "[1]\ttrain's l1: 0.755971\tvalid's l1: 0.815445\n"
     ]
    },
    {
     "name": "stderr",
     "output_type": "stream",
     "text": [
      "C:\\Users\\simen\\AppData\\Local\\Temp\\ipykernel_41008\\1244612948.py:72: ConstantInputWarning: An input array is constant; the correlation coefficient is not defined.\n",
      "  corr, _ = pearsonr(y_test_outer, y_pred_outer)\n"
     ]
    },
    {
     "name": "stdout",
     "output_type": "stream",
     "text": [
      "Training until validation scores don't improve for 100 rounds\n",
      "Training until validation scores don't improve for 100 rounds\n",
      "Training until validation scores don't improve for 100 rounds\n",
      "Early stopping, best iteration is:\n",
      "[1]\ttrain's l1: 0.770481\tvalid's l1: 0.771553\n"
     ]
    },
    {
     "name": "stderr",
     "output_type": "stream",
     "text": [
      "C:\\Users\\simen\\AppData\\Local\\Temp\\ipykernel_41008\\1244612948.py:72: ConstantInputWarning: An input array is constant; the correlation coefficient is not defined.\n",
      "  corr, _ = pearsonr(y_test_outer, y_pred_outer)\n"
     ]
    },
    {
     "name": "stdout",
     "output_type": "stream",
     "text": [
      "Early stopping, best iteration is:\n",
      "[38]\ttrain's l1: 0.787391\tvalid's l1: 0.667289\n",
      "Training until validation scores don't improve for 100 rounds\n",
      "Early stopping, best iteration is:\n",
      "[1]\ttrain's l1: 0.771604\tvalid's l1: 0.774018\n"
     ]
    },
    {
     "name": "stderr",
     "output_type": "stream",
     "text": [
      "C:\\Users\\simen\\AppData\\Local\\Temp\\ipykernel_41008\\1244612948.py:72: ConstantInputWarning: An input array is constant; the correlation coefficient is not defined.\n",
      "  corr, _ = pearsonr(y_test_outer, y_pred_outer)\n",
      "[W 2024-09-26 12:08:24,023] Trial 9 failed with parameters: {'n_estimators': 694, 'learning_rate': 0.10700268996906293, 'max_depth': 9, 'num_leaves': 1380, 'reg_lambda': 40, 'reg_alpha': 70, 'bagging_fraction': 0.2, 'bagging_freq': 7, 'feature_fraction': 0.9} because of the following error: The value nan is not acceptable.\n",
      "[W 2024-09-26 12:08:24,026] Trial 9 failed with value nan.\n",
      "INFO:__main__:Starting trial 12\n"
     ]
    },
    {
     "name": "stdout",
     "output_type": "stream",
     "text": [
      "Results: [0.09296440785335841, nan, nan, nan, nan, nan, nan, nan, nan, nan]\n",
      "Average correlation across all outer folds: nan\n",
      "Early stopping, best iteration is:\n",
      "[113]\ttrain's l1: 0.575303\tvalid's l1: 0.709527\n",
      "Training until validation scores don't improve for 100 rounds\n",
      "Training until validation scores don't improve for 100 rounds\n",
      "Did not meet early stopping. Best iteration is:\n",
      "[473]\ttrain's l1: 0.765398\tvalid's l1: 0.739625\n",
      "Early stopping, best iteration is:\n",
      "[1]\ttrain's l1: 0.755971\tvalid's l1: 0.815445\n"
     ]
    },
    {
     "name": "stderr",
     "output_type": "stream",
     "text": [
      "C:\\Users\\simen\\AppData\\Local\\Temp\\ipykernel_41008\\1244612948.py:72: ConstantInputWarning: An input array is constant; the correlation coefficient is not defined.\n",
      "  corr, _ = pearsonr(y_test_outer, y_pred_outer)\n"
     ]
    },
    {
     "name": "stdout",
     "output_type": "stream",
     "text": [
      "Training until validation scores don't improve for 100 rounds\n",
      "Did not meet early stopping. Best iteration is:\n",
      "[322]\ttrain's l1: 0.75726\tvalid's l1: 0.789487\n",
      "Training until validation scores don't improve for 100 rounds\n",
      "Training until validation scores don't improve for 100 rounds\n",
      "Training until validation scores don't improve for 100 rounds\n",
      "Early stopping, best iteration is:\n",
      "[1]\ttrain's l1: 0.770481\tvalid's l1: 0.771553\n"
     ]
    },
    {
     "name": "stderr",
     "output_type": "stream",
     "text": [
      "C:\\Users\\simen\\AppData\\Local\\Temp\\ipykernel_41008\\1244612948.py:72: ConstantInputWarning: An input array is constant; the correlation coefficient is not defined.\n",
      "  corr, _ = pearsonr(y_test_outer, y_pred_outer)\n"
     ]
    },
    {
     "name": "stdout",
     "output_type": "stream",
     "text": [
      "Did not meet early stopping. Best iteration is:\n",
      "[315]\ttrain's l1: 0.754841\tvalid's l1: 0.735232\n",
      "Training until validation scores don't improve for 100 rounds\n",
      "Early stopping, best iteration is:\n",
      "[256]\ttrain's l1: 0.5214\tvalid's l1: 0.686796\n",
      "Training until validation scores don't improve for 100 rounds\n",
      "Did not meet early stopping. Best iteration is:\n",
      "[321]\ttrain's l1: 0.75797\tvalid's l1: 0.704642\n",
      "Early stopping, best iteration is:\n",
      "[17]\ttrain's l1: 0.771283\tvalid's l1: 0.773481\n",
      "Results: [0.1937511882441927, nan, nan, nan, nan, nan, -0.036712550253615334, nan, nan, 0.08722926766691816]\n",
      "Average correlation across all outer folds: nan\n"
     ]
    },
    {
     "name": "stderr",
     "output_type": "stream",
     "text": [
      "[W 2024-09-26 12:09:49,821] Trial 8 failed with parameters: {'n_estimators': 679, 'learning_rate': 0.0369080404080608, 'max_depth': 11, 'num_leaves': 1960, 'reg_lambda': 30, 'reg_alpha': 85, 'bagging_fraction': 0.4, 'bagging_freq': 6, 'feature_fraction': 0.30000000000000004} because of the following error: The value nan is not acceptable.\n",
      "[W 2024-09-26 12:09:49,826] Trial 8 failed with value nan.\n",
      "INFO:__main__:Starting trial 13\n"
     ]
    },
    {
     "name": "stdout",
     "output_type": "stream",
     "text": [
      "Training until validation scores don't improve for 100 rounds\n",
      "Early stopping, best iteration is:\n",
      "[300]\ttrain's l1: 0.781265\tvalid's l1: 0.716473\n",
      "Training until validation scores don't improve for 100 rounds\n",
      "Early stopping, best iteration is:\n",
      "[49]\ttrain's l1: 0.66649\tvalid's l1: 0.68845\n",
      "Training until validation scores don't improve for 100 rounds\n",
      "Training until validation scores don't improve for 100 rounds\n",
      "Did not meet early stopping. Best iteration is:\n",
      "[289]\ttrain's l1: 0.759629\tvalid's l1: 0.704455\n",
      "Training until validation scores don't improve for 100 rounds\n",
      "Early stopping, best iteration is:\n",
      "[37]\ttrain's l1: 0.680598\tvalid's l1: 0.764848\n",
      "Training until validation scores don't improve for 100 rounds\n",
      "Early stopping, best iteration is:\n",
      "[38]\ttrain's l1: 0.781555\tvalid's l1: 0.717095\n",
      "Early stopping, best iteration is:\n",
      "[143]\ttrain's l1: 0.767669\tvalid's l1: 0.718854\n",
      "Training until validation scores don't improve for 100 rounds\n",
      "Training until validation scores don't improve for 100 rounds\n",
      "Training until validation scores don't improve for 100 rounds\n",
      "Early stopping, best iteration is:\n",
      "[122]\ttrain's l1: 0.592667\tvalid's l1: 0.695476\n",
      "Early stopping, best iteration is:\n",
      "[111]\ttrain's l1: 0.633091\tvalid's l1: 0.729583\n",
      "Did not meet early stopping. Best iteration is:\n",
      "[308]\ttrain's l1: 0.765964\tvalid's l1: 0.774724\n",
      "Early stopping, best iteration is:\n",
      "[34]\ttrain's l1: 0.777672\tvalid's l1: 0.724548\n",
      "Training until validation scores don't improve for 100 rounds\n",
      "Training until validation scores don't improve for 100 rounds\n",
      "Training until validation scores don't improve for 100 rounds\n",
      "Training until validation scores don't improve for 100 rounds\n",
      "Did not meet early stopping. Best iteration is:\n",
      "[315]\ttrain's l1: 0.771377\tvalid's l1: 0.65976\n",
      "Early stopping, best iteration is:\n",
      "[31]\ttrain's l1: 0.684053\tvalid's l1: 0.675845\n",
      "Early stopping, best iteration is:\n",
      "[8]\ttrain's l1: 0.778221\tvalid's l1: 0.785558\n",
      "Training until validation scores don't improve for 100 rounds\n",
      "Early stopping, best iteration is:\n",
      "[208]\ttrain's l1: 0.539012\tvalid's l1: 0.716554\n",
      "Did not meet early stopping. Best iteration is:\n",
      "[321]\ttrain's l1: 0.740744\tvalid's l1: 0.808093\n",
      "Training until validation scores don't improve for 100 rounds\n",
      "Training until validation scores don't improve for 100 rounds\n",
      "Training until validation scores don't improve for 100 rounds\n",
      "Early stopping, best iteration is:\n",
      "[52]\ttrain's l1: 0.670855\tvalid's l1: 0.686719\n",
      "Training until validation scores don't improve for 100 rounds\n",
      "Early stopping, best iteration is:\n",
      "[1]\ttrain's l1: 0.769211\tvalid's l1: 0.77252\n",
      "Training until validation scores don't improve for 100 rounds\n",
      "Early stopping, best iteration is:\n",
      "[86]\ttrain's l1: 0.618665\tvalid's l1: 0.640177\n",
      "Early stopping, best iteration is:\n",
      "[162]\ttrain's l1: 0.785687\tvalid's l1: 0.666326\n",
      "Training until validation scores don't improve for 100 rounds\n",
      "Did not meet early stopping. Best iteration is:\n",
      "[317]\ttrain's l1: 0.759002\tvalid's l1: 0.762624\n"
     ]
    },
    {
     "name": "stderr",
     "output_type": "stream",
     "text": [
      "[I 2024-09-26 12:12:46,738] Trial 12 finished with value: 0.11803940863904958 and parameters: {'n_estimators': 325, 'learning_rate': 0.29484726791890475, 'max_depth': 11, 'num_leaves': 780, 'reg_lambda': 25, 'reg_alpha': 90, 'bagging_fraction': 0.9, 'bagging_freq': 1, 'feature_fraction': 0.9}. Best is trial 2 with value: 0.1714361555153729.\n",
      "INFO:__main__:Starting trial 14\n"
     ]
    },
    {
     "name": "stdout",
     "output_type": "stream",
     "text": [
      "Results: [0.06461222155923535, 0.06530317918713653, 0.041621658472177636, 0.08712728569348871, 0.19010691424427684, 0.2564519359105868, 0.08200935480168417, 0.14591694225846485, 0.09131269151222035, 0.15593190275122445]\n",
      "Average correlation across all outer folds: 0.11803940863904958\n",
      "Training until validation scores don't improve for 100 rounds\n",
      "Early stopping, best iteration is:\n",
      "[78]\ttrain's l1: 0.654019\tvalid's l1: 0.689546\n",
      "Training until validation scores don't improve for 100 rounds\n",
      "Training until validation scores don't improve for 100 rounds\n",
      "Early stopping, best iteration is:\n",
      "[74]\ttrain's l1: 0.771492\tvalid's l1: 0.798989\n",
      "Training until validation scores don't improve for 100 rounds\n",
      "Early stopping, best iteration is:\n",
      "[72]\ttrain's l1: 0.615375\tvalid's l1: 0.761788\n",
      "Early stopping, best iteration is:\n",
      "[69]\ttrain's l1: 0.753411\tvalid's l1: 0.812662\n",
      "Training until validation scores don't improve for 100 rounds\n",
      "Early stopping, best iteration is:\n",
      "[1]\ttrain's l1: 0.766692\tvalid's l1: 0.74104\n"
     ]
    },
    {
     "name": "stderr",
     "output_type": "stream",
     "text": [
      "C:\\Users\\simen\\AppData\\Local\\Temp\\ipykernel_41008\\1244612948.py:72: ConstantInputWarning: An input array is constant; the correlation coefficient is not defined.\n",
      "  corr, _ = pearsonr(y_test_outer, y_pred_outer)\n"
     ]
    },
    {
     "name": "stdout",
     "output_type": "stream",
     "text": [
      "Early stopping, best iteration is:\n",
      "[92]\ttrain's l1: 0.65111\tvalid's l1: 0.752526\n",
      "Training until validation scores don't improve for 100 rounds\n",
      "Training until validation scores don't improve for 100 rounds\n",
      "Training until validation scores don't improve for 100 rounds\n",
      "Early stopping, best iteration is:\n",
      "[1]\ttrain's l1: 0.784068\tvalid's l1: 0.717139\n"
     ]
    },
    {
     "name": "stderr",
     "output_type": "stream",
     "text": [
      "C:\\Users\\simen\\AppData\\Local\\Temp\\ipykernel_41008\\1244612948.py:72: ConstantInputWarning: An input array is constant; the correlation coefficient is not defined.\n",
      "  corr, _ = pearsonr(y_test_outer, y_pred_outer)\n"
     ]
    },
    {
     "name": "stdout",
     "output_type": "stream",
     "text": [
      "Training until validation scores don't improve for 100 rounds\n",
      "Early stopping, best iteration is:\n",
      "[1]\ttrain's l1: 0.770481\tvalid's l1: 0.771553\n"
     ]
    },
    {
     "name": "stderr",
     "output_type": "stream",
     "text": [
      "C:\\Users\\simen\\AppData\\Local\\Temp\\ipykernel_41008\\1244612948.py:72: ConstantInputWarning: An input array is constant; the correlation coefficient is not defined.\n",
      "  corr, _ = pearsonr(y_test_outer, y_pred_outer)\n"
     ]
    },
    {
     "name": "stdout",
     "output_type": "stream",
     "text": [
      "Early stopping, best iteration is:\n",
      "[9]\ttrain's l1: 0.741336\tvalid's l1: 0.766132\n",
      "Training until validation scores don't improve for 100 rounds\n",
      "Early stopping, best iteration is:\n",
      "[20]\ttrain's l1: 0.710995\tvalid's l1: 0.659442\n",
      "Early stopping, best iteration is:\n",
      "[1]\ttrain's l1: 0.782413\tvalid's l1: 0.717614\n"
     ]
    },
    {
     "name": "stderr",
     "output_type": "stream",
     "text": [
      "C:\\Users\\simen\\AppData\\Local\\Temp\\ipykernel_41008\\1244612948.py:72: ConstantInputWarning: An input array is constant; the correlation coefficient is not defined.\n",
      "  corr, _ = pearsonr(y_test_outer, y_pred_outer)\n"
     ]
    },
    {
     "name": "stdout",
     "output_type": "stream",
     "text": [
      "Training until validation scores don't improve for 100 rounds\n",
      "Training until validation scores don't improve for 100 rounds\n",
      "Early stopping, best iteration is:\n",
      "[59]\ttrain's l1: 0.770557\tvalid's l1: 0.773031\n"
     ]
    },
    {
     "name": "stderr",
     "output_type": "stream",
     "text": [
      "[W 2024-09-26 12:15:04,171] Trial 11 failed with parameters: {'n_estimators': 499, 'learning_rate': 0.18047397026766285, 'max_depth': 11, 'num_leaves': 460, 'reg_lambda': 70, 'reg_alpha': 100, 'bagging_fraction': 0.7, 'bagging_freq': 10, 'feature_fraction': 0.30000000000000004} because of the following error: The value nan is not acceptable.\n",
      "[W 2024-09-26 12:15:04,171] Trial 11 failed with value nan.\n"
     ]
    },
    {
     "name": "stdout",
     "output_type": "stream",
     "text": [
      "Results: [nan, -0.025191855580038395, 0.05422465025967745, 0.00327289262327694, 0.08598645372140945, -0.046035222618752356, 0.035872225804872857, 0.12608791914723552, nan, 0.12314348524361778]\n",
      "Average correlation across all outer folds: nan\n",
      "Training until validation scores don't improve for 100 rounds\n",
      "Training until validation scores don't improve for 100 rounds\n",
      "Early stopping, best iteration is:\n",
      "[1]\ttrain's l1: 0.779909\tvalid's l1: 0.72832\n"
     ]
    },
    {
     "name": "stderr",
     "output_type": "stream",
     "text": [
      "C:\\Users\\simen\\AppData\\Local\\Temp\\ipykernel_41008\\1244612948.py:72: ConstantInputWarning: An input array is constant; the correlation coefficient is not defined.\n",
      "  corr, _ = pearsonr(y_test_outer, y_pred_outer)\n"
     ]
    },
    {
     "name": "stdout",
     "output_type": "stream",
     "text": [
      "Training until validation scores don't improve for 100 rounds\n",
      "Early stopping, best iteration is:\n",
      "[1]\ttrain's l1: 0.778605\tvalid's l1: 0.785872\n"
     ]
    },
    {
     "name": "stderr",
     "output_type": "stream",
     "text": [
      "C:\\Users\\simen\\AppData\\Local\\Temp\\ipykernel_41008\\1244612948.py:72: ConstantInputWarning: An input array is constant; the correlation coefficient is not defined.\n",
      "  corr, _ = pearsonr(y_test_outer, y_pred_outer)\n"
     ]
    },
    {
     "name": "stdout",
     "output_type": "stream",
     "text": [
      "Early stopping, best iteration is:\n",
      "[75]\ttrain's l1: 0.635483\tvalid's l1: 0.768645\n",
      "Training until validation scores don't improve for 100 rounds\n",
      "Early stopping, best iteration is:\n",
      "[1]\ttrain's l1: 0.787401\tvalid's l1: 0.667295\n"
     ]
    },
    {
     "name": "stderr",
     "output_type": "stream",
     "text": [
      "C:\\Users\\simen\\AppData\\Local\\Temp\\ipykernel_41008\\1244612948.py:72: ConstantInputWarning: An input array is constant; the correlation coefficient is not defined.\n",
      "  corr, _ = pearsonr(y_test_outer, y_pred_outer)\n"
     ]
    },
    {
     "name": "stdout",
     "output_type": "stream",
     "text": [
      "Training until validation scores don't improve for 100 rounds\n",
      "Early stopping, best iteration is:\n",
      "[243]\ttrain's l1: 0.515799\tvalid's l1: 0.696258\n"
     ]
    },
    {
     "name": "stderr",
     "output_type": "stream",
     "text": [
      "[I 2024-09-26 12:15:52,516] Trial 10 finished with value: 0.1891943373020865 and parameters: {'n_estimators': 475, 'learning_rate': 0.11992938346161178, 'max_depth': 12, 'num_leaves': 1300, 'reg_lambda': 20, 'reg_alpha': 30, 'bagging_fraction': 0.5, 'bagging_freq': 9, 'feature_fraction': 0.30000000000000004}. Best is trial 10 with value: 0.1891943373020865.\n"
     ]
    },
    {
     "name": "stdout",
     "output_type": "stream",
     "text": [
      "Results: [0.22664483569516033, 0.22399165779772662, 0.11334832454877948, 0.14839753713396076, 0.295948730271338, 0.19445442530763604, 0.09357333794254538, 0.1762294922002863, 0.14535545265027208, 0.27399957947316034]\n",
      "Average correlation across all outer folds: 0.1891943373020865\n",
      "Early stopping, best iteration is:\n",
      "[26]\ttrain's l1: 0.704891\tvalid's l1: 0.76164\n",
      "Training until validation scores don't improve for 100 rounds\n",
      "Early stopping, best iteration is:\n",
      "[1]\ttrain's l1: 0.755971\tvalid's l1: 0.815445\n"
     ]
    },
    {
     "name": "stderr",
     "output_type": "stream",
     "text": [
      "C:\\Users\\simen\\AppData\\Local\\Temp\\ipykernel_41008\\1244612948.py:72: ConstantInputWarning: An input array is constant; the correlation coefficient is not defined.\n",
      "  corr, _ = pearsonr(y_test_outer, y_pred_outer)\n"
     ]
    },
    {
     "name": "stdout",
     "output_type": "stream",
     "text": [
      "Training until validation scores don't improve for 100 rounds\n",
      "Training until validation scores don't improve for 100 rounds\n",
      "Early stopping, best iteration is:\n",
      "[1]\ttrain's l1: 0.770481\tvalid's l1: 0.771553\n"
     ]
    },
    {
     "name": "stderr",
     "output_type": "stream",
     "text": [
      "C:\\Users\\simen\\AppData\\Local\\Temp\\ipykernel_41008\\1244612948.py:72: ConstantInputWarning: An input array is constant; the correlation coefficient is not defined.\n",
      "  corr, _ = pearsonr(y_test_outer, y_pred_outer)\n"
     ]
    },
    {
     "name": "stdout",
     "output_type": "stream",
     "text": [
      "Training until validation scores don't improve for 100 rounds\n",
      "Early stopping, best iteration is:\n",
      "[53]\ttrain's l1: 0.683199\tvalid's l1: 0.731023\n"
     ]
    },
    {
     "name": "stderr",
     "output_type": "stream",
     "text": [
      "[I 2024-09-26 12:16:31,996] Trial 13 finished with value: 0.19093623705651203 and parameters: {'n_estimators': 970, 'learning_rate': 0.21648811107927657, 'max_depth': 8, 'num_leaves': 2340, 'reg_lambda': 10, 'reg_alpha': 40, 'bagging_fraction': 0.5, 'bagging_freq': 9, 'feature_fraction': 0.6000000000000001}. Best is trial 13 with value: 0.19093623705651203.\n"
     ]
    },
    {
     "name": "stdout",
     "output_type": "stream",
     "text": [
      "Results: [0.24395886727101251, 0.20053764576967664, 0.13816775965693556, 0.12056817361086034, 0.23817623221255418, 0.14713461827405977, 0.15620906118736821, 0.11793592983394259, 0.23105331025778333, 0.31562077249092707]\n",
      "Average correlation across all outer folds: 0.19093623705651203\n",
      "Early stopping, best iteration is:\n",
      "[1]\ttrain's l1: 0.771604\tvalid's l1: 0.774018\n"
     ]
    },
    {
     "name": "stderr",
     "output_type": "stream",
     "text": [
      "C:\\Users\\simen\\AppData\\Local\\Temp\\ipykernel_41008\\1244612948.py:72: ConstantInputWarning: An input array is constant; the correlation coefficient is not defined.\n",
      "  corr, _ = pearsonr(y_test_outer, y_pred_outer)\n"
     ]
    },
    {
     "name": "stdout",
     "output_type": "stream",
     "text": [
      "Results: [0.09296440785335845, nan, nan, nan, nan, nan, nan, nan, nan, nan]\n",
      "Average correlation across all outer folds: nan\n"
     ]
    },
    {
     "name": "stderr",
     "output_type": "stream",
     "text": [
      "[W 2024-09-26 12:16:33,010] Trial 14 failed with parameters: {'n_estimators': 455, 'learning_rate': 0.08749284596778963, 'max_depth': 8, 'num_leaves': 2000, 'reg_lambda': 35, 'reg_alpha': 70, 'bagging_fraction': 0.2, 'bagging_freq': 10, 'feature_fraction': 0.9} because of the following error: The value nan is not acceptable.\n",
      "[W 2024-09-26 12:16:33,011] Trial 14 failed with value nan.\n"
     ]
    }
   ],
   "source": [
    "from sklearn.model_selection import train_test_split\n",
    "from sklearn.metrics import mean_absolute_error\n",
    "# Replace with your model\n",
    "\n",
    "logging.basicConfig(level=logging.INFO)\n",
    "logger = logging.getLogger(__name__)\n",
    "\n",
    "# Assuming your dataframe 'df' has a column 'island' with values 1 to 8 representing the islands\n",
    "# and a 'fold' column representing the 8 folds, and a 'target' column for the target variable\n",
    "\n",
    "# Function to perform the nested cross-validation\n",
    "def nested_cv(df):\n",
    "    \n",
    "    #outer_results = []\n",
    "\n",
    "    \n",
    "    # Define the Optuna objective function\n",
    "    def objective(trial):\n",
    "        logger.info(f\"Starting trial {trial.number}\")\n",
    "\n",
    "        # Define hyperparameter search space\n",
    "        n_estimators = trial.suggest_int('n_estimators', 300, 1000)\n",
    "        learning_rate = trial.suggest_float('learning_rate', 0.01, 0.3)\n",
    "        max_depth = trial.suggest_int('max_depth', 3, 13)\n",
    "        num_leaves = trial.suggest_int('num_leaves', 20, 3000, step = 20)\n",
    "        reg_lambda = trial.suggest_int('reg_lambda', 0, 100, step = 5)\n",
    "        reg_alpha = trial.suggest_int('reg_alpha', 0 , 100, step = 5)\n",
    "        bagging_fraction = trial.suggest_float('bagging_fraction', 0.2, 0.9, step = 0.1)\n",
    "        bagging_freq = trial.suggest_int('bagging_freq', 1, 10, step = 1)\n",
    "        feature_fraction = trial.suggest_float('feature_fraction', 0.2, 0.9, step = 0.1)\n",
    "\n",
    "        #parameters\n",
    "        params = {\n",
    "            'objective': 'regression',\n",
    "            'metric': 'mae',    \n",
    "            #'n_estimators': n_estimators,\n",
    "            'learning_rate': learning_rate,\n",
    "            'max_depth': max_depth,\n",
    "            'num_leaves': num_leaves,\n",
    "            'reg_lambda': reg_lambda,\n",
    "            'reg_alpha': reg_alpha,\n",
    "            'bagging_fraction': bagging_fraction,\n",
    "            'bagging_freq': bagging_freq,\n",
    "            'feature_fraction': feature_fraction,\n",
    "            'verbose': -1\n",
    "        }\n",
    "\n",
    "        outer_results = []  \n",
    "        folds = np.sort(df['fold'].unique())    \n",
    "        for outer_fold in folds:\n",
    "            #print(f\"Outer CV: Test island {outer_fold}\")\n",
    "        \n",
    "            # Split data into outer train and test sets\n",
    "            outer_train_df = df[df['fold'] != outer_fold]\n",
    "            outer_test_df = df[df['fold'] == outer_fold]\n",
    "\n",
    "            # Extract features and target for outer training and test sets\n",
    "            X_train_outer, y_train_outer = outer_train_df.drop(columns=['ringnr', 'fold','ID','mean_pheno']), outer_train_df['ID']\n",
    "            X_test_outer, y_test_outer = outer_test_df.drop(columns=['ringnr', 'fold','ID','mean_pheno']), outer_test_df['mean_pheno']\n",
    "\n",
    "            #split X_train_outer and y_train_outer into train and validation set\n",
    "            X_train_outer, X_val_outer, y_train_outer, y_val_outer = train_test_split(X_train_outer, y_train_outer, test_size = 0.1, random_state = 42)\n",
    "\n",
    "            # Train on the outer train set\n",
    "            dtrain = lgb.Dataset(X_train_outer, label=y_train_outer)\n",
    "            dval = lgb.Dataset(X_val_outer, label=y_val_outer, reference=dtrain)\n",
    "\n",
    "            gbm = lgb.train(params, dtrain, num_boost_round=n_estimators, valid_sets=[dtrain,dval], valid_names=['train', 'valid'], callbacks=[lgb.early_stopping(stopping_rounds=100)])\n",
    "\n",
    "            # Validate model\n",
    "            y_pred_outer = gbm.predict(X_test_outer, num_iteration = gbm.best_iteration)\n",
    "            corr, _ = pearsonr(y_test_outer, y_pred_outer)\n",
    "            #print(y_pred_outer)\n",
    "            #print()\n",
    "            #print(y_test_outer)\n",
    "\n",
    "            #print(f\"Test correlation for island {outer_fold}: {outer_corr}\")\n",
    "            outer_results.append(corr)\n",
    "        \n",
    "        # Final results\n",
    "        print(f\"Results: {outer_results}\")\n",
    "        print(f\"Average correlation across all outer folds: {np.mean(outer_results)}\")\n",
    "        return np.mean(outer_results)\n",
    "    \n",
    "    # Run Optuna for hyperparameter optimization\n",
    "    study = optuna.create_study(direction='maximize')\n",
    "    study.optimize(objective, n_trials=15, n_jobs=4)\n",
    "\n",
    "    return study\n",
    "\n",
    "\n",
    "s = nested_cv(X)\n",
    "\n",
    "            # Perform 7-fold CV on the 7 remaining islands\n",
    "        #    inner_corr = []\n",
    "        #    start_time = time.time()\n",
    "        #    for inner_fold in folds:\n",
    "        #        if inner_fold == outer_fold:\n",
    "        #            continue  # Skip the current test island\n",
    "        #        \n",
    "        #        # Split inner train/validation data\n",
    "        #        train_df = outer_train_df[outer_train_df['fold'] != inner_fold]\n",
    "        #        val_df = outer_train_df[outer_train_df['fold'] == inner_fold]\n",
    "        #        \n",
    "        #        # Extract features and target\n",
    "        #        X_train, y_train = train_df.drop(columns=['ringnr', 'fold','ID','mean_pheno']), train_df['ID']\n",
    "        #        X_val, y_val = val_df.drop(columns=['ringnr', 'fold','ID','mean_pheno']), val_df['mean_pheno'] #Use this for computing Pearson correlation, this will be the performance metric for the inner loop#\n",
    "        #\n",
    "        #        # Train model\n",
    "        #        dtrain = lgb.Dataset(X_train, label=y_train)\n",
    "        #        dval = lgb.Dataset(X_val, label=y_val, reference=dtrain)\n",
    "\n",
    "        #        gbm = lgb.train(params, dtrain, num_boost_round=n_estimators, valid_sets=[dval], callbacks=[lgb.early_stopping(stopping_rounds=20)])\n",
    "                # Validate model\n",
    "        #        y_pred = gbm.predict(X_val)\n",
    "        #        corr = np.corrcoef(y_val, y_pred)[0, 1]\n",
    "        #        inner_corr.append(corr)\n",
    "                \n",
    "        #        end_time = time.time()\n",
    "        #    logger.info(f\"Finished trial {trial.number} in {end_time - start_time:.2f} seconds\")\n",
    "            # Return the average MAE for this set of hyperparameters\n",
    "        #    return np.mean(inner_corr)\n",
    "        \n",
    "        # Run Optuna for hyperparameter optimization\n",
    "        #study = optuna.create_study(direction='maximize')\n",
    "        #study.optimize(objective, n_trials=10, n_jobs=4)\n",
    "        \n",
    "        # Train the final model on the outer train set with the best hyperparameters\n",
    "        #best_params = study.best_params\n",
    "\n",
    "        #n_estimators = best_params['n_estimators']\n",
    "        #best_params.pop('n_estimators')\n",
    "        #best_params['objective'] = 'regression'\n",
    "        #best_params['metric'] = 'mae'\n",
    "        #best_params['verbose'] = -1\n",
    "        \n",
    "        # Extract features and target for outer training and test sets\n",
    "        #X_train_outer, y_train_outer = outer_train_df.drop(columns=['ringnr', 'fold','ID','mean_pheno']), outer_train_df['ID']\n",
    "        #X_test_outer, y_test_outer = outer_test_df.drop(columns=['ringnr', 'fold','ID','mean_pheno']), outer_test_df['mean_pheno']\n",
    "        \n",
    "        # Train on the outer train set\n",
    "        #dtrain = lgb.Dataset(X_train_outer, label=y_train_outer)\n",
    "        #dval = lgb.Dataset(X_test_outer, label=y_test_outer, reference=dtrain)  \n",
    "        #gbm = lgb.train(best_params, dtrain, num_boost_round=n_estimators, valid_sets=[dval], callbacks=[lgb.early_stopping(stopping_rounds=20)])\n",
    "        \n",
    "        # Test on the outer test set\n",
    "        #y_pred_outer = gbm.predict(X_test_outer)\n",
    "        #outer_corr = np.corrcoef(y_test_outer, y_pred_outer)[0, 1]\n",
    "        \n",
    "        #print(f\"Test correlation for island {outer_fold}: {outer_corr}\")\n",
    "        #outer_results.append(outer_corr)\n",
    "    \n",
    "    # Final results\n",
    "    #print(f\"Average correlation across all outer folds: {np.mean(outer_results)}\")\n",
    "    #return outer_results\n",
    "\n",
    "# Example dataframe with 'island', 'fold', 'target', and other features\n",
    "\n"
   ]
  }
 ],
 "metadata": {
  "kernelspec": {
   "display_name": "base",
   "language": "python",
   "name": "python3"
  },
  "language_info": {
   "codemirror_mode": {
    "name": "ipython",
    "version": 3
   },
   "file_extension": ".py",
   "mimetype": "text/x-python",
   "name": "python",
   "nbconvert_exporter": "python",
   "pygments_lexer": "ipython3",
   "version": "3.9.18"
  }
 },
 "nbformat": 4,
 "nbformat_minor": 2
}
