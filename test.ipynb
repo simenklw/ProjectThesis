{
 "cells": [
  {
   "cell_type": "code",
   "execution_count": 20,
   "metadata": {},
   "outputs": [],
   "source": [
    "import numpy as np\n",
    "import pandas as pd\n",
    "import tqdm \n",
    "import cProfile\n",
    "import lightgbm as lgb\n",
    "from sklearn.model_selection import GroupKFold, train_test_split, KFold, cross_val_score\n",
    "from sklearn.metrics import mean_squared_error\n",
    "import optuna\n",
    "import logging\n",
    "import time\n",
    "\n",
    "data = pd.read_feather(\"massBV.feather\")"
   ]
  },
  {
   "cell_type": "code",
   "execution_count": 19,
   "metadata": {},
   "outputs": [
    {
     "data": {
      "text/html": [
       "<div>\n",
       "<style scoped>\n",
       "    .dataframe tbody tr th:only-of-type {\n",
       "        vertical-align: middle;\n",
       "    }\n",
       "\n",
       "    .dataframe tbody tr th {\n",
       "        vertical-align: top;\n",
       "    }\n",
       "\n",
       "    .dataframe thead th {\n",
       "        text-align: right;\n",
       "    }\n",
       "</style>\n",
       "<table border=\"1\" class=\"dataframe\">\n",
       "  <thead>\n",
       "    <tr style=\"text-align: right;\">\n",
       "      <th></th>\n",
       "      <th>ringnr</th>\n",
       "      <th>ID</th>\n",
       "      <th>mean_pheno</th>\n",
       "      <th>hatchisland</th>\n",
       "      <th>FID</th>\n",
       "      <th>PAT</th>\n",
       "      <th>MAT</th>\n",
       "      <th>SEX</th>\n",
       "      <th>PHENOTYPE</th>\n",
       "      <th>SNPa29779_A</th>\n",
       "      <th>...</th>\n",
       "      <th>SNPa447848_T</th>\n",
       "      <th>SNPa447849_A</th>\n",
       "      <th>SNPi31396_A</th>\n",
       "      <th>SNPi23364_C</th>\n",
       "      <th>SNPi32423_T</th>\n",
       "      <th>SNPi6538_G</th>\n",
       "      <th>SNPi43119_T</th>\n",
       "      <th>SNPa506292_T</th>\n",
       "      <th>SNPa506289_T</th>\n",
       "      <th>SNPa506288_G</th>\n",
       "    </tr>\n",
       "  </thead>\n",
       "  <tbody>\n",
       "    <tr>\n",
       "      <th>0</th>\n",
       "      <td>8118424</td>\n",
       "      <td>0.451363</td>\n",
       "      <td>81.470000</td>\n",
       "      <td>28</td>\n",
       "      <td>1</td>\n",
       "      <td>8981850</td>\n",
       "      <td>8939392</td>\n",
       "      <td>0</td>\n",
       "      <td>-9</td>\n",
       "      <td>0.0</td>\n",
       "      <td>...</td>\n",
       "      <td>1.0</td>\n",
       "      <td>2.0</td>\n",
       "      <td>1.0</td>\n",
       "      <td>0.0</td>\n",
       "      <td>1.0</td>\n",
       "      <td>1.0</td>\n",
       "      <td>0.0</td>\n",
       "      <td>1.0</td>\n",
       "      <td>2.0</td>\n",
       "      <td>2.0</td>\n",
       "    </tr>\n",
       "    <tr>\n",
       "      <th>1</th>\n",
       "      <td>8118425</td>\n",
       "      <td>-1.114459</td>\n",
       "      <td>76.205000</td>\n",
       "      <td>28</td>\n",
       "      <td>1</td>\n",
       "      <td>8981850</td>\n",
       "      <td>8939392</td>\n",
       "      <td>0</td>\n",
       "      <td>-9</td>\n",
       "      <td>0.0</td>\n",
       "      <td>...</td>\n",
       "      <td>0.0</td>\n",
       "      <td>2.0</td>\n",
       "      <td>0.0</td>\n",
       "      <td>0.0</td>\n",
       "      <td>2.0</td>\n",
       "      <td>0.0</td>\n",
       "      <td>0.0</td>\n",
       "      <td>0.0</td>\n",
       "      <td>0.0</td>\n",
       "      <td>0.0</td>\n",
       "    </tr>\n",
       "    <tr>\n",
       "      <th>2</th>\n",
       "      <td>8118426</td>\n",
       "      <td>-1.299215</td>\n",
       "      <td>79.576667</td>\n",
       "      <td>28</td>\n",
       "      <td>1</td>\n",
       "      <td>0</td>\n",
       "      <td>8L48694</td>\n",
       "      <td>0</td>\n",
       "      <td>-9</td>\n",
       "      <td>0.0</td>\n",
       "      <td>...</td>\n",
       "      <td>0.0</td>\n",
       "      <td>1.0</td>\n",
       "      <td>0.0</td>\n",
       "      <td>0.0</td>\n",
       "      <td>0.0</td>\n",
       "      <td>1.0</td>\n",
       "      <td>0.0</td>\n",
       "      <td>0.0</td>\n",
       "      <td>1.0</td>\n",
       "      <td>1.0</td>\n",
       "    </tr>\n",
       "    <tr>\n",
       "      <th>3</th>\n",
       "      <td>8118429</td>\n",
       "      <td>0.683269</td>\n",
       "      <td>80.850000</td>\n",
       "      <td>28</td>\n",
       "      <td>1</td>\n",
       "      <td>8800436</td>\n",
       "      <td>8939615</td>\n",
       "      <td>0</td>\n",
       "      <td>-9</td>\n",
       "      <td>0.0</td>\n",
       "      <td>...</td>\n",
       "      <td>1.0</td>\n",
       "      <td>2.0</td>\n",
       "      <td>1.0</td>\n",
       "      <td>0.0</td>\n",
       "      <td>1.0</td>\n",
       "      <td>0.0</td>\n",
       "      <td>0.0</td>\n",
       "      <td>0.0</td>\n",
       "      <td>0.0</td>\n",
       "      <td>0.0</td>\n",
       "    </tr>\n",
       "    <tr>\n",
       "      <th>4</th>\n",
       "      <td>8118430</td>\n",
       "      <td>-1.063425</td>\n",
       "      <td>79.000000</td>\n",
       "      <td>28</td>\n",
       "      <td>1</td>\n",
       "      <td>8981850</td>\n",
       "      <td>8939392</td>\n",
       "      <td>0</td>\n",
       "      <td>-9</td>\n",
       "      <td>0.0</td>\n",
       "      <td>...</td>\n",
       "      <td>0.0</td>\n",
       "      <td>2.0</td>\n",
       "      <td>0.0</td>\n",
       "      <td>0.0</td>\n",
       "      <td>1.0</td>\n",
       "      <td>0.0</td>\n",
       "      <td>0.0</td>\n",
       "      <td>0.0</td>\n",
       "      <td>1.0</td>\n",
       "      <td>1.0</td>\n",
       "    </tr>\n",
       "    <tr>\n",
       "      <th>5</th>\n",
       "      <td>8118432</td>\n",
       "      <td>1.286515</td>\n",
       "      <td>80.620000</td>\n",
       "      <td>26</td>\n",
       "      <td>1</td>\n",
       "      <td>8887335</td>\n",
       "      <td>8L30782</td>\n",
       "      <td>0</td>\n",
       "      <td>-9</td>\n",
       "      <td>1.0</td>\n",
       "      <td>...</td>\n",
       "      <td>0.0</td>\n",
       "      <td>2.0</td>\n",
       "      <td>0.0</td>\n",
       "      <td>0.0</td>\n",
       "      <td>2.0</td>\n",
       "      <td>2.0</td>\n",
       "      <td>0.0</td>\n",
       "      <td>0.0</td>\n",
       "      <td>0.0</td>\n",
       "      <td>0.0</td>\n",
       "    </tr>\n",
       "    <tr>\n",
       "      <th>6</th>\n",
       "      <td>8118433</td>\n",
       "      <td>-1.580081</td>\n",
       "      <td>79.575000</td>\n",
       "      <td>26</td>\n",
       "      <td>1</td>\n",
       "      <td>8887335</td>\n",
       "      <td>8L30782</td>\n",
       "      <td>0</td>\n",
       "      <td>-9</td>\n",
       "      <td>0.0</td>\n",
       "      <td>...</td>\n",
       "      <td>0.0</td>\n",
       "      <td>1.0</td>\n",
       "      <td>1.0</td>\n",
       "      <td>0.0</td>\n",
       "      <td>1.0</td>\n",
       "      <td>1.0</td>\n",
       "      <td>0.0</td>\n",
       "      <td>0.0</td>\n",
       "      <td>0.0</td>\n",
       "      <td>0.0</td>\n",
       "    </tr>\n",
       "    <tr>\n",
       "      <th>7</th>\n",
       "      <td>8118435</td>\n",
       "      <td>-0.980158</td>\n",
       "      <td>77.640000</td>\n",
       "      <td>26</td>\n",
       "      <td>1</td>\n",
       "      <td>0</td>\n",
       "      <td>0</td>\n",
       "      <td>0</td>\n",
       "      <td>-9</td>\n",
       "      <td>2.0</td>\n",
       "      <td>...</td>\n",
       "      <td>0.0</td>\n",
       "      <td>2.0</td>\n",
       "      <td>0.0</td>\n",
       "      <td>2.0</td>\n",
       "      <td>0.0</td>\n",
       "      <td>2.0</td>\n",
       "      <td>0.0</td>\n",
       "      <td>2.0</td>\n",
       "      <td>2.0</td>\n",
       "      <td>2.0</td>\n",
       "    </tr>\n",
       "    <tr>\n",
       "      <th>8</th>\n",
       "      <td>8168602</td>\n",
       "      <td>-0.857946</td>\n",
       "      <td>77.360000</td>\n",
       "      <td>38</td>\n",
       "      <td>1</td>\n",
       "      <td>8732255</td>\n",
       "      <td>8732254</td>\n",
       "      <td>0</td>\n",
       "      <td>-9</td>\n",
       "      <td>0.0</td>\n",
       "      <td>...</td>\n",
       "      <td>2.0</td>\n",
       "      <td>2.0</td>\n",
       "      <td>0.0</td>\n",
       "      <td>0.0</td>\n",
       "      <td>0.0</td>\n",
       "      <td>2.0</td>\n",
       "      <td>0.0</td>\n",
       "      <td>0.0</td>\n",
       "      <td>0.0</td>\n",
       "      <td>0.0</td>\n",
       "    </tr>\n",
       "    <tr>\n",
       "      <th>9</th>\n",
       "      <td>8168603</td>\n",
       "      <td>0.925904</td>\n",
       "      <td>82.360000</td>\n",
       "      <td>38</td>\n",
       "      <td>1</td>\n",
       "      <td>8732255</td>\n",
       "      <td>8732254</td>\n",
       "      <td>0</td>\n",
       "      <td>-9</td>\n",
       "      <td>0.0</td>\n",
       "      <td>...</td>\n",
       "      <td>1.0</td>\n",
       "      <td>1.0</td>\n",
       "      <td>0.0</td>\n",
       "      <td>0.0</td>\n",
       "      <td>0.0</td>\n",
       "      <td>1.0</td>\n",
       "      <td>0.0</td>\n",
       "      <td>0.0</td>\n",
       "      <td>1.0</td>\n",
       "      <td>1.0</td>\n",
       "    </tr>\n",
       "    <tr>\n",
       "      <th>10</th>\n",
       "      <td>8168605</td>\n",
       "      <td>1.016445</td>\n",
       "      <td>82.845000</td>\n",
       "      <td>38</td>\n",
       "      <td>1</td>\n",
       "      <td>8732255</td>\n",
       "      <td>8732254</td>\n",
       "      <td>0</td>\n",
       "      <td>-9</td>\n",
       "      <td>0.0</td>\n",
       "      <td>...</td>\n",
       "      <td>1.0</td>\n",
       "      <td>1.0</td>\n",
       "      <td>0.0</td>\n",
       "      <td>0.0</td>\n",
       "      <td>0.0</td>\n",
       "      <td>1.0</td>\n",
       "      <td>0.0</td>\n",
       "      <td>0.0</td>\n",
       "      <td>1.0</td>\n",
       "      <td>1.0</td>\n",
       "    </tr>\n",
       "    <tr>\n",
       "      <th>11</th>\n",
       "      <td>8168606</td>\n",
       "      <td>-0.671536</td>\n",
       "      <td>80.845000</td>\n",
       "      <td>38</td>\n",
       "      <td>1</td>\n",
       "      <td>0</td>\n",
       "      <td>0</td>\n",
       "      <td>0</td>\n",
       "      <td>-9</td>\n",
       "      <td>0.0</td>\n",
       "      <td>...</td>\n",
       "      <td>1.0</td>\n",
       "      <td>1.0</td>\n",
       "      <td>0.0</td>\n",
       "      <td>0.0</td>\n",
       "      <td>2.0</td>\n",
       "      <td>0.0</td>\n",
       "      <td>0.0</td>\n",
       "      <td>0.0</td>\n",
       "      <td>2.0</td>\n",
       "      <td>2.0</td>\n",
       "    </tr>\n",
       "    <tr>\n",
       "      <th>12</th>\n",
       "      <td>8168613</td>\n",
       "      <td>0.076403</td>\n",
       "      <td>79.260000</td>\n",
       "      <td>28</td>\n",
       "      <td>1</td>\n",
       "      <td>8573872</td>\n",
       "      <td>8651898</td>\n",
       "      <td>0</td>\n",
       "      <td>-9</td>\n",
       "      <td>1.0</td>\n",
       "      <td>...</td>\n",
       "      <td>0.0</td>\n",
       "      <td>2.0</td>\n",
       "      <td>0.0</td>\n",
       "      <td>0.0</td>\n",
       "      <td>0.0</td>\n",
       "      <td>0.0</td>\n",
       "      <td>NaN</td>\n",
       "      <td>0.0</td>\n",
       "      <td>0.0</td>\n",
       "      <td>0.0</td>\n",
       "    </tr>\n",
       "    <tr>\n",
       "      <th>13</th>\n",
       "      <td>8168614</td>\n",
       "      <td>-1.020783</td>\n",
       "      <td>77.000000</td>\n",
       "      <td>28</td>\n",
       "      <td>1</td>\n",
       "      <td>M0020</td>\n",
       "      <td>8651898</td>\n",
       "      <td>0</td>\n",
       "      <td>-9</td>\n",
       "      <td>0.0</td>\n",
       "      <td>...</td>\n",
       "      <td>2.0</td>\n",
       "      <td>0.0</td>\n",
       "      <td>2.0</td>\n",
       "      <td>0.0</td>\n",
       "      <td>0.0</td>\n",
       "      <td>2.0</td>\n",
       "      <td>0.0</td>\n",
       "      <td>2.0</td>\n",
       "      <td>2.0</td>\n",
       "      <td>2.0</td>\n",
       "    </tr>\n",
       "    <tr>\n",
       "      <th>14</th>\n",
       "      <td>8168635</td>\n",
       "      <td>0.625965</td>\n",
       "      <td>82.000000</td>\n",
       "      <td>27</td>\n",
       "      <td>1</td>\n",
       "      <td>0</td>\n",
       "      <td>0</td>\n",
       "      <td>0</td>\n",
       "      <td>-9</td>\n",
       "      <td>0.0</td>\n",
       "      <td>...</td>\n",
       "      <td>1.0</td>\n",
       "      <td>1.0</td>\n",
       "      <td>1.0</td>\n",
       "      <td>1.0</td>\n",
       "      <td>1.0</td>\n",
       "      <td>0.0</td>\n",
       "      <td>1.0</td>\n",
       "      <td>0.0</td>\n",
       "      <td>1.0</td>\n",
       "      <td>1.0</td>\n",
       "    </tr>\n",
       "    <tr>\n",
       "      <th>15</th>\n",
       "      <td>8168636</td>\n",
       "      <td>-0.882253</td>\n",
       "      <td>80.000000</td>\n",
       "      <td>27</td>\n",
       "      <td>1</td>\n",
       "      <td>8681268</td>\n",
       "      <td>F0165</td>\n",
       "      <td>0</td>\n",
       "      <td>-9</td>\n",
       "      <td>0.0</td>\n",
       "      <td>...</td>\n",
       "      <td>0.0</td>\n",
       "      <td>2.0</td>\n",
       "      <td>0.0</td>\n",
       "      <td>0.0</td>\n",
       "      <td>1.0</td>\n",
       "      <td>1.0</td>\n",
       "      <td>1.0</td>\n",
       "      <td>0.0</td>\n",
       "      <td>0.0</td>\n",
       "      <td>0.0</td>\n",
       "    </tr>\n",
       "    <tr>\n",
       "      <th>16</th>\n",
       "      <td>8168639</td>\n",
       "      <td>0.704478</td>\n",
       "      <td>79.415000</td>\n",
       "      <td>26</td>\n",
       "      <td>1</td>\n",
       "      <td>M0026</td>\n",
       "      <td>F0029</td>\n",
       "      <td>0</td>\n",
       "      <td>-9</td>\n",
       "      <td>0.0</td>\n",
       "      <td>...</td>\n",
       "      <td>2.0</td>\n",
       "      <td>2.0</td>\n",
       "      <td>0.0</td>\n",
       "      <td>0.0</td>\n",
       "      <td>0.0</td>\n",
       "      <td>0.0</td>\n",
       "      <td>0.0</td>\n",
       "      <td>2.0</td>\n",
       "      <td>2.0</td>\n",
       "      <td>2.0</td>\n",
       "    </tr>\n",
       "    <tr>\n",
       "      <th>17</th>\n",
       "      <td>8168642</td>\n",
       "      <td>0.648959</td>\n",
       "      <td>79.000000</td>\n",
       "      <td>27</td>\n",
       "      <td>1</td>\n",
       "      <td>8747363</td>\n",
       "      <td>8747218</td>\n",
       "      <td>0</td>\n",
       "      <td>-9</td>\n",
       "      <td>0.0</td>\n",
       "      <td>...</td>\n",
       "      <td>0.0</td>\n",
       "      <td>0.0</td>\n",
       "      <td>2.0</td>\n",
       "      <td>0.0</td>\n",
       "      <td>2.0</td>\n",
       "      <td>2.0</td>\n",
       "      <td>0.0</td>\n",
       "      <td>2.0</td>\n",
       "      <td>2.0</td>\n",
       "      <td>2.0</td>\n",
       "    </tr>\n",
       "    <tr>\n",
       "      <th>18</th>\n",
       "      <td>8168644</td>\n",
       "      <td>-0.525487</td>\n",
       "      <td>80.000000</td>\n",
       "      <td>27</td>\n",
       "      <td>1</td>\n",
       "      <td>8747363</td>\n",
       "      <td>8747218</td>\n",
       "      <td>0</td>\n",
       "      <td>-9</td>\n",
       "      <td>0.0</td>\n",
       "      <td>...</td>\n",
       "      <td>1.0</td>\n",
       "      <td>0.0</td>\n",
       "      <td>1.0</td>\n",
       "      <td>0.0</td>\n",
       "      <td>2.0</td>\n",
       "      <td>1.0</td>\n",
       "      <td>1.0</td>\n",
       "      <td>1.0</td>\n",
       "      <td>1.0</td>\n",
       "      <td>1.0</td>\n",
       "    </tr>\n",
       "    <tr>\n",
       "      <th>19</th>\n",
       "      <td>8168648</td>\n",
       "      <td>0.446189</td>\n",
       "      <td>81.930000</td>\n",
       "      <td>26</td>\n",
       "      <td>1</td>\n",
       "      <td>8598728</td>\n",
       "      <td>8651804</td>\n",
       "      <td>0</td>\n",
       "      <td>-9</td>\n",
       "      <td>1.0</td>\n",
       "      <td>...</td>\n",
       "      <td>0.0</td>\n",
       "      <td>2.0</td>\n",
       "      <td>1.0</td>\n",
       "      <td>0.0</td>\n",
       "      <td>1.0</td>\n",
       "      <td>1.0</td>\n",
       "      <td>NaN</td>\n",
       "      <td>1.0</td>\n",
       "      <td>1.0</td>\n",
       "      <td>1.0</td>\n",
       "    </tr>\n",
       "  </tbody>\n",
       "</table>\n",
       "<p>20 rows × 182857 columns</p>\n",
       "</div>"
      ],
      "text/plain": [
       "     ringnr        ID  mean_pheno  hatchisland  FID      PAT      MAT  SEX  \\\n",
       "0   8118424  0.451363   81.470000           28    1  8981850  8939392    0   \n",
       "1   8118425 -1.114459   76.205000           28    1  8981850  8939392    0   \n",
       "2   8118426 -1.299215   79.576667           28    1        0  8L48694    0   \n",
       "3   8118429  0.683269   80.850000           28    1  8800436  8939615    0   \n",
       "4   8118430 -1.063425   79.000000           28    1  8981850  8939392    0   \n",
       "5   8118432  1.286515   80.620000           26    1  8887335  8L30782    0   \n",
       "6   8118433 -1.580081   79.575000           26    1  8887335  8L30782    0   \n",
       "7   8118435 -0.980158   77.640000           26    1        0        0    0   \n",
       "8   8168602 -0.857946   77.360000           38    1  8732255  8732254    0   \n",
       "9   8168603  0.925904   82.360000           38    1  8732255  8732254    0   \n",
       "10  8168605  1.016445   82.845000           38    1  8732255  8732254    0   \n",
       "11  8168606 -0.671536   80.845000           38    1        0        0    0   \n",
       "12  8168613  0.076403   79.260000           28    1  8573872  8651898    0   \n",
       "13  8168614 -1.020783   77.000000           28    1    M0020  8651898    0   \n",
       "14  8168635  0.625965   82.000000           27    1        0        0    0   \n",
       "15  8168636 -0.882253   80.000000           27    1  8681268    F0165    0   \n",
       "16  8168639  0.704478   79.415000           26    1    M0026    F0029    0   \n",
       "17  8168642  0.648959   79.000000           27    1  8747363  8747218    0   \n",
       "18  8168644 -0.525487   80.000000           27    1  8747363  8747218    0   \n",
       "19  8168648  0.446189   81.930000           26    1  8598728  8651804    0   \n",
       "\n",
       "    PHENOTYPE  SNPa29779_A  ...  SNPa447848_T  SNPa447849_A  SNPi31396_A  \\\n",
       "0          -9          0.0  ...           1.0           2.0          1.0   \n",
       "1          -9          0.0  ...           0.0           2.0          0.0   \n",
       "2          -9          0.0  ...           0.0           1.0          0.0   \n",
       "3          -9          0.0  ...           1.0           2.0          1.0   \n",
       "4          -9          0.0  ...           0.0           2.0          0.0   \n",
       "5          -9          1.0  ...           0.0           2.0          0.0   \n",
       "6          -9          0.0  ...           0.0           1.0          1.0   \n",
       "7          -9          2.0  ...           0.0           2.0          0.0   \n",
       "8          -9          0.0  ...           2.0           2.0          0.0   \n",
       "9          -9          0.0  ...           1.0           1.0          0.0   \n",
       "10         -9          0.0  ...           1.0           1.0          0.0   \n",
       "11         -9          0.0  ...           1.0           1.0          0.0   \n",
       "12         -9          1.0  ...           0.0           2.0          0.0   \n",
       "13         -9          0.0  ...           2.0           0.0          2.0   \n",
       "14         -9          0.0  ...           1.0           1.0          1.0   \n",
       "15         -9          0.0  ...           0.0           2.0          0.0   \n",
       "16         -9          0.0  ...           2.0           2.0          0.0   \n",
       "17         -9          0.0  ...           0.0           0.0          2.0   \n",
       "18         -9          0.0  ...           1.0           0.0          1.0   \n",
       "19         -9          1.0  ...           0.0           2.0          1.0   \n",
       "\n",
       "    SNPi23364_C  SNPi32423_T  SNPi6538_G  SNPi43119_T  SNPa506292_T  \\\n",
       "0           0.0          1.0         1.0          0.0           1.0   \n",
       "1           0.0          2.0         0.0          0.0           0.0   \n",
       "2           0.0          0.0         1.0          0.0           0.0   \n",
       "3           0.0          1.0         0.0          0.0           0.0   \n",
       "4           0.0          1.0         0.0          0.0           0.0   \n",
       "5           0.0          2.0         2.0          0.0           0.0   \n",
       "6           0.0          1.0         1.0          0.0           0.0   \n",
       "7           2.0          0.0         2.0          0.0           2.0   \n",
       "8           0.0          0.0         2.0          0.0           0.0   \n",
       "9           0.0          0.0         1.0          0.0           0.0   \n",
       "10          0.0          0.0         1.0          0.0           0.0   \n",
       "11          0.0          2.0         0.0          0.0           0.0   \n",
       "12          0.0          0.0         0.0          NaN           0.0   \n",
       "13          0.0          0.0         2.0          0.0           2.0   \n",
       "14          1.0          1.0         0.0          1.0           0.0   \n",
       "15          0.0          1.0         1.0          1.0           0.0   \n",
       "16          0.0          0.0         0.0          0.0           2.0   \n",
       "17          0.0          2.0         2.0          0.0           2.0   \n",
       "18          0.0          2.0         1.0          1.0           1.0   \n",
       "19          0.0          1.0         1.0          NaN           1.0   \n",
       "\n",
       "    SNPa506289_T  SNPa506288_G  \n",
       "0            2.0           2.0  \n",
       "1            0.0           0.0  \n",
       "2            1.0           1.0  \n",
       "3            0.0           0.0  \n",
       "4            1.0           1.0  \n",
       "5            0.0           0.0  \n",
       "6            0.0           0.0  \n",
       "7            2.0           2.0  \n",
       "8            0.0           0.0  \n",
       "9            1.0           1.0  \n",
       "10           1.0           1.0  \n",
       "11           2.0           2.0  \n",
       "12           0.0           0.0  \n",
       "13           2.0           2.0  \n",
       "14           1.0           1.0  \n",
       "15           0.0           0.0  \n",
       "16           2.0           2.0  \n",
       "17           2.0           2.0  \n",
       "18           1.0           1.0  \n",
       "19           1.0           1.0  \n",
       "\n",
       "[20 rows x 182857 columns]"
      ]
     },
     "execution_count": 19,
     "metadata": {},
     "output_type": "execute_result"
    }
   ],
   "source": [
    "data.head(20)"
   ]
  },
  {
   "cell_type": "code",
   "execution_count": 2,
   "metadata": {},
   "outputs": [],
   "source": [
    "def prep_data_before_train(data: pd.DataFrame, phenotype: str) -> tuple:\n",
    "    \"\"\"\n",
    "    prepare data for training, returns target vector and covariate-matrix and ringnrs for grouping\n",
    "    :param data: all data from dataloader script\n",
    "    :param phenotype: the phenotype to be predicted\n",
    "    :return: X, Y, ringnrs, X contain covariates and Y contains the phenotype\n",
    "    \"\"\"\n",
    "    ringnrs = data.ringnr\n",
    "    mean_pheno = data.mean_pheno\n",
    "    X = data.drop(\n",
    "        columns=[\n",
    "            \"ID\",\n",
    "            \"mass\",\n",
    "            \"tarsus\",\n",
    "            \"ringnr\",\n",
    "            \"mean_pheno\",\n",
    "            \"IID\",\n",
    "            \"FID\",\n",
    "            \"MAT\",\n",
    "            \"PAT\",\n",
    "            \"SEX\",\n",
    "            \"PHENOTYPE\",\n",
    "        ],\n",
    "        errors=\"ignore\",\n",
    "    )\n",
    "\n",
    "    try:\n",
    "        Y = data.loc[:, phenotype]\n",
    "    except KeyError:\n",
    "        try:\n",
    "            Y = data.ID\n",
    "        except AttributeError:\n",
    "            Y = data.mass\n",
    "    del data\n",
    "    try:\n",
    "        X.hatchyear = X.hatchyear.astype(\"int\")\n",
    "        X.island_current = X.island_current.astype(\"int\")\n",
    "    except AttributeError:\n",
    "        pass\n",
    "    Y = (Y - np.mean(Y))/np.std(Y)\n",
    "    X = X.fillna(0)\n",
    "    X = X.T\n",
    "    X = X.astype(\"int\")\n",
    "    X = X.T \n",
    "    return X, Y, ringnrs, mean_pheno"
   ]
  },
  {
   "cell_type": "code",
   "execution_count": 10,
   "metadata": {},
   "outputs": [],
   "source": [
    "def splitter(X, ringnrs):\n",
    "    # Split dataset based on ringnrs (i.e, dont want a individual to be present in both test and train set)\n",
    "    kf = GroupKFold(n_splits=5)\n",
    "    kfsplits = kf.split(X, groups=ringnrs)\n",
    "    fold_names = [i for i in range(5)]\n",
    "    for i, (train, test) in enumerate(kfsplits):\n",
    "        yield train, test, fold_names[i]"
   ]
  },
  {
   "cell_type": "code",
   "execution_count": 3,
   "metadata": {},
   "outputs": [],
   "source": [
    "def simple_splitter(X, y, proportion_of_snps : float = 1, test_size : float = 0.2): \n",
    "    #The proportion of snps to be used in the model. To have the option to use a smaller number of snps for testing and getting results faster\n",
    "    np.random.seed(42)\n",
    "    sample_columns = np.random.choice(X.shape[1], int(X.shape[1]*proportion_of_snps), replace=False)\n",
    "    X = X.iloc[:, sample_columns]\n",
    "\n",
    "    sample_rows = np.random.choice(X.shape[0], int(X.shape[0]*(1-test_size)), replace=False)\n",
    "    X_train = X.iloc[sample_rows]\n",
    "    y_train = y.iloc[sample_rows]\n",
    "    X_test = X.drop(sample_rows)\n",
    "    y_test = y.drop(sample_rows)\n",
    "\n",
    "\n",
    "    return X_train, X_test, y_train, y_test, sample_rows\n",
    "    \n"
   ]
  },
  {
   "cell_type": "code",
   "execution_count": 4,
   "metadata": {},
   "outputs": [],
   "source": [
    "X, y, ringnrs, mean_pheno = prep_data_before_train(data, \"mass\")\n",
    "X.drop(columns = [\"hatchisland\"], inplace = True)"
   ]
  },
  {
   "cell_type": "code",
   "execution_count": 11,
   "metadata": {},
   "outputs": [],
   "source": [
    "X_train, X_test, y_train, y_test, sample_rows = simple_splitter(X, y, proportion_of_snps=0.1, test_size=0.2)\n",
    "mean_pheno_test = mean_pheno.drop(sample_rows) #mean_pheno_test is the mean phenotype of the test set, to be measured against the predictions with pearson correlation"
   ]
  },
  {
   "cell_type": "code",
   "execution_count": 19,
   "metadata": {},
   "outputs": [],
   "source": [
    "lgbm_space = {\n",
    "    'n_estimators': np.arange(300, 600, 900),#[ 150, 200, 300, ],\n",
    "    'learning_rate': np.arange(0.01, 0.3, 0.05),# [0.03, 0.05, 0.07, ],\n",
    "    'max_depth': np.arange(3, 13),# [5, 7, 10, 15, 20,],\n",
    "    'num_leaves': np.arange(20, 3000, 100),#[ 31, 50, 70, 100, 150, 200, ],\n",
    "    #'min_gain_to_split': [0, 1e-5, 1e-4, 1e-3, 1e-2, 0.1],\n",
    "    #'min_child_weight': np.arange(0.02, 0.1, 0.01),#[  0.1, 0.2, ],\n",
    "    #'min_child_samples': [ 30, 40, 50, 60, 80, 100, 120, 150, 170, 200, 300], \n",
    "    'reg_lambda': np.arange(1,15),\n",
    "    'reg_alpha':  np.arange(1,15),\n",
    "    'bagging_fraction': np.arange(0.2, 0.9, 0.1),#[0.3, 0.5,  0.8],  \n",
    "    'baggings_freq': np.arange(1, 10, 1),#[ 3, 5, 7, 9, 11, 13, 15, 17, 19, 21],    \n",
    "    'feature_fraction': np.arange(0.2, 0.9, 0.1)#[0.3, 0.5, 0.8],  \n",
    "}"
   ]
  },
  {
   "cell_type": "code",
   "execution_count": 12,
   "metadata": {},
   "outputs": [
    {
     "name": "stderr",
     "output_type": "stream",
     "text": [
      "[I 2024-09-12 08:40:22,058] A new study created in memory with name: no-name-057c49f5-a05c-4c3c-ad81-9a6011c6248b\n",
      "INFO:__main__:Starting trial 0\n",
      "INFO:__main__:Starting trial 1\n",
      "INFO:__main__:Starting trial 2\n",
      "INFO:__main__:Starting trial 3\n"
     ]
    },
    {
     "name": "stdout",
     "output_type": "stream",
     "text": [
      "Training until validation scores don't improve for 20 rounds\n",
      "Training until validation scores don't improve for 20 rounds\n",
      "Training until validation scores don't improve for 20 rounds\n",
      "Training until validation scores don't improve for 20 rounds\n",
      "Early stopping, best iteration is:\n",
      "[26]\tvalid_0's l2: 0.930644\n"
     ]
    },
    {
     "name": "stderr",
     "output_type": "stream",
     "text": [
      "INFO:__main__:Finished trial 3 in 11.49 seconds\n",
      "[I 2024-09-12 08:40:33,733] Trial 3 finished with value: 0.9306442219195172 and parameters: {'n_estimators': 696, 'learning_rate': 0.16172110694705055, 'max_depth': 7, 'num_leaves': 2240, 'reg_lambda': 65, 'reg_alpha': 40, 'bagging_fraction': 0.8, 'bagging_freq': 10, 'feature_fraction': 0.9}. Best is trial 3 with value: 0.9306442219195172.\n",
      "INFO:__main__:Starting trial 4\n"
     ]
    },
    {
     "name": "stdout",
     "output_type": "stream",
     "text": [
      "Early stopping, best iteration is:\n",
      "[55]\tvalid_0's l2: 0.907236\n"
     ]
    },
    {
     "name": "stderr",
     "output_type": "stream",
     "text": [
      "INFO:__main__:Finished trial 0 in 16.63 seconds\n",
      "[I 2024-09-12 08:40:38,862] Trial 0 finished with value: 0.9072361723012389 and parameters: {'n_estimators': 703, 'learning_rate': 0.20497929861378913, 'max_depth': 4, 'num_leaves': 1840, 'reg_lambda': 30, 'reg_alpha': 45, 'bagging_fraction': 0.6000000000000001, 'bagging_freq': 8, 'feature_fraction': 0.4}. Best is trial 0 with value: 0.9072361723012389.\n",
      "INFO:__main__:Starting trial 5\n"
     ]
    },
    {
     "name": "stdout",
     "output_type": "stream",
     "text": [
      "Training until validation scores don't improve for 20 rounds\n",
      "Early stopping, best iteration is:\n",
      "[81]\tvalid_0's l2: 0.908149\n"
     ]
    },
    {
     "name": "stderr",
     "output_type": "stream",
     "text": [
      "INFO:__main__:Finished trial 1 in 22.34 seconds\n",
      "[I 2024-09-12 08:40:44,583] Trial 1 finished with value: 0.908149447512883 and parameters: {'n_estimators': 584, 'learning_rate': 0.03715123826964573, 'max_depth': 8, 'num_leaves': 2440, 'reg_lambda': 20, 'reg_alpha': 15, 'bagging_fraction': 0.9, 'bagging_freq': 8, 'feature_fraction': 0.6000000000000001}. Best is trial 0 with value: 0.9072361723012389.\n",
      "INFO:__main__:Starting trial 6\n"
     ]
    },
    {
     "name": "stdout",
     "output_type": "stream",
     "text": [
      "Early stopping, best iteration is:\n",
      "[6]\tvalid_0's l2: 0.931097\n"
     ]
    },
    {
     "name": "stderr",
     "output_type": "stream",
     "text": [
      "INFO:__main__:Finished trial 4 in 11.70 seconds\n",
      "[I 2024-09-12 08:40:45,500] Trial 4 finished with value: 0.9310974113108552 and parameters: {'n_estimators': 563, 'learning_rate': 0.21669255927439596, 'max_depth': 4, 'num_leaves': 520, 'reg_lambda': 45, 'reg_alpha': 0, 'bagging_fraction': 0.6000000000000001, 'bagging_freq': 2, 'feature_fraction': 0.6000000000000001}. Best is trial 0 with value: 0.9072361723012389.\n",
      "INFO:__main__:Starting trial 7\n"
     ]
    },
    {
     "name": "stdout",
     "output_type": "stream",
     "text": [
      "Training until validation scores don't improve for 20 rounds\n",
      "Early stopping, best iteration is:\n",
      "[156]\tvalid_0's l2: 0.954593\n"
     ]
    },
    {
     "name": "stderr",
     "output_type": "stream",
     "text": [
      "INFO:__main__:Finished trial 2 in 31.01 seconds\n",
      "[I 2024-09-12 08:40:53,297] Trial 2 finished with value: 0.9549118418941217 and parameters: {'n_estimators': 977, 'learning_rate': 0.03577702408861337, 'max_depth': 4, 'num_leaves': 1000, 'reg_lambda': 0, 'reg_alpha': 70, 'bagging_fraction': 0.7, 'bagging_freq': 5, 'feature_fraction': 0.5}. Best is trial 0 with value: 0.9072361723012389.\n",
      "INFO:__main__:Starting trial 8\n"
     ]
    },
    {
     "name": "stdout",
     "output_type": "stream",
     "text": [
      "Training until validation scores don't improve for 20 rounds\n",
      "Training until validation scores don't improve for 20 rounds\n",
      "Early stopping, best iteration is:\n",
      "[44]\tvalid_0's l2: 0.951257\n"
     ]
    },
    {
     "name": "stderr",
     "output_type": "stream",
     "text": [
      "INFO:__main__:Finished trial 7 in 11.70 seconds\n",
      "[I 2024-09-12 08:40:57,311] Trial 7 finished with value: 0.9515447543380327 and parameters: {'n_estimators': 470, 'learning_rate': 0.25767811485427683, 'max_depth': 12, 'num_leaves': 160, 'reg_lambda': 55, 'reg_alpha': 55, 'bagging_fraction': 0.30000000000000004, 'bagging_freq': 5, 'feature_fraction': 0.7}. Best is trial 0 with value: 0.9072361723012389.\n",
      "INFO:__main__:Starting trial 9\n"
     ]
    },
    {
     "name": "stdout",
     "output_type": "stream",
     "text": [
      "Early stopping, best iteration is:\n",
      "[14]\tvalid_0's l2: 0.941653\n"
     ]
    },
    {
     "name": "stderr",
     "output_type": "stream",
     "text": [
      "INFO:__main__:Finished trial 6 in 13.23 seconds\n",
      "[I 2024-09-12 08:40:57,898] Trial 6 finished with value: 0.9416530360874679 and parameters: {'n_estimators': 795, 'learning_rate': 0.2939669271797528, 'max_depth': 9, 'num_leaves': 1860, 'reg_lambda': 75, 'reg_alpha': 35, 'bagging_fraction': 0.8, 'bagging_freq': 7, 'feature_fraction': 0.9}. Best is trial 0 with value: 0.9072361723012389.\n"
     ]
    },
    {
     "name": "stdout",
     "output_type": "stream",
     "text": [
      "Early stopping, best iteration is:\n",
      "[46]\tvalid_0's l2: 0.891645\n"
     ]
    },
    {
     "name": "stderr",
     "output_type": "stream",
     "text": [
      "INFO:__main__:Finished trial 5 in 21.35 seconds\n",
      "[I 2024-09-12 08:41:00,308] Trial 5 finished with value: 0.8916446573487868 and parameters: {'n_estimators': 493, 'learning_rate': 0.19900495462488169, 'max_depth': 13, 'num_leaves': 2440, 'reg_lambda': 80, 'reg_alpha': 35, 'bagging_fraction': 0.9, 'bagging_freq': 5, 'feature_fraction': 0.4}. Best is trial 5 with value: 0.8916446573487868.\n"
     ]
    },
    {
     "name": "stdout",
     "output_type": "stream",
     "text": [
      "Training until validation scores don't improve for 20 rounds\n",
      "Early stopping, best iteration is:\n",
      "[19]\tvalid_0's l2: 0.932187\n"
     ]
    },
    {
     "name": "stderr",
     "output_type": "stream",
     "text": [
      "INFO:__main__:Finished trial 8 in 9.26 seconds\n",
      "[I 2024-09-12 08:41:02,694] Trial 8 finished with value: 0.9321866002080017 and parameters: {'n_estimators': 591, 'learning_rate': 0.19778543649602615, 'max_depth': 8, 'num_leaves': 2660, 'reg_lambda': 35, 'reg_alpha': 20, 'bagging_fraction': 0.2, 'bagging_freq': 3, 'feature_fraction': 0.7}. Best is trial 5 with value: 0.8916446573487868.\n"
     ]
    },
    {
     "name": "stdout",
     "output_type": "stream",
     "text": [
      "Training until validation scores don't improve for 20 rounds\n",
      "Early stopping, best iteration is:\n",
      "[28]\tvalid_0's l2: 0.95802\n"
     ]
    },
    {
     "name": "stderr",
     "output_type": "stream",
     "text": [
      "INFO:__main__:Finished trial 9 in 10.14 seconds\n",
      "[I 2024-09-12 08:41:07,557] Trial 9 finished with value: 0.9579288303155713 and parameters: {'n_estimators': 743, 'learning_rate': 0.29287839443495634, 'max_depth': 9, 'num_leaves': 720, 'reg_lambda': 45, 'reg_alpha': 85, 'bagging_fraction': 0.9, 'bagging_freq': 10, 'feature_fraction': 0.2}. Best is trial 5 with value: 0.8916446573487868.\n"
     ]
    },
    {
     "name": "stdout",
     "output_type": "stream",
     "text": [
      "Best hyperparameters: {'n_estimators': 493, 'learning_rate': 0.19900495462488169, 'max_depth': 13, 'num_leaves': 2440, 'reg_lambda': 80, 'reg_alpha': 35, 'bagging_fraction': 0.9, 'bagging_freq': 5, 'feature_fraction': 0.4}\n"
     ]
    }
   ],
   "source": [
    "logging.basicConfig(level=logging.INFO)\n",
    "logger = logging.getLogger(__name__)\n",
    "\n",
    "# Define objective function for Optuna\n",
    "def objective(trial):\n",
    "    \n",
    "    logger.info(f\"Starting trial {trial.number}\")\n",
    "\n",
    "    # Define hyperparameter search space\n",
    "    n_estimators = trial.suggest_int('n_estimators', 300, 1000)\n",
    "    learning_rate = trial.suggest_float('learning_rate', 0.01, 0.3)\n",
    "    max_depth = trial.suggest_int('max_depth', 3, 13)\n",
    "    num_leaves = trial.suggest_int('num_leaves', 20, 3000, step = 20)\n",
    "    reg_lambda = trial.suggest_int('reg_lambda', 0, 100, step = 5)\n",
    "    reg_alpha = trial.suggest_int('reg_alpha', 0 , 100, step = 5)\n",
    "    bagging_fraction = trial.suggest_float('bagging_fraction', 0.2, 0.9, step = 0.1)\n",
    "    bagging_freq = trial.suggest_int('bagging_freq', 1, 10, step = 1)\n",
    "    feature_fraction = trial.suggest_float('feature_fraction', 0.2, 0.9, step = 0.1)\n",
    "\n",
    "    \n",
    "    #parameters\n",
    "    params = {\n",
    "        'objective': 'regression',\n",
    "        'metric': 'mse',    \n",
    "        #'n_estimators': n_estimators,\n",
    "        'learning_rate': learning_rate,\n",
    "        'max_depth': max_depth,\n",
    "        'num_leaves': num_leaves,\n",
    "        'reg_lambda': reg_lambda,\n",
    "        'reg_alpha': reg_alpha,\n",
    "        'bagging_fraction': bagging_fraction,\n",
    "        'bagging_freq': bagging_freq,\n",
    "        'feature_fraction': feature_fraction,\n",
    "        'verbose': -1\n",
    "    }\n",
    "    \n",
    "    # Cross-validation setup\n",
    "    kfold = KFold(n_splits=5, shuffle=True, random_state=42)\n",
    "    mse_scores = [] # Store the mean squared error for each fold\n",
    "\n",
    "    start_time = time.time()\n",
    "    # Evaluate with cross-validation\n",
    "    for train_idx, val_idx in kfold.split(X_train):\n",
    "        X_train_fold, X_val_fold = X_train.iloc[train_idx], X_train.iloc[val_idx]\n",
    "        y_train_fold, y_val_fold = y_train.iloc[train_idx], y_train.iloc[val_idx]\n",
    "        \n",
    "        # Train model\n",
    "        dtrain = lgb.Dataset(X_train_fold, label=y_train_fold)\n",
    "        dval = lgb.Dataset(X_val_fold, label=y_val_fold, reference=dtrain)\n",
    "        \n",
    "        gbm = lgb.train(params, dtrain, num_boost_round=n_estimators, valid_sets=[dval], callbacks=[lgb.early_stopping(stopping_rounds=20)])\n",
    "        \n",
    "        # Predict on validation set\n",
    "        y_pred = gbm.predict(X_val_fold)\n",
    "        mse = mean_squared_error(y_val_fold, y_pred)\n",
    "        mse_scores.append(mse)\n",
    "\n",
    "        mean_mse = np.mean(mse_scores)\n",
    "        end_time = time.time()\n",
    "        logger.info(f\"Finished trial {trial.number} in {end_time - start_time:.2f} seconds\")\n",
    "        return mean_mse\n",
    "\n",
    "\n",
    "\n",
    "\n",
    "if __name__ == '__main__':\n",
    "\n",
    "    # Create Optuna study\n",
    "    study = optuna.create_study(direction='minimize')\n",
    "\n",
    "    n_jobs = 4\n",
    "    \n",
    "    study.optimize(objective, n_trials=10, n_jobs=n_jobs)\n",
    "\n",
    "    # Best hyperparameters\n",
    "    print('Best hyperparameters:', study.best_params)"
   ]
  },
  {
   "cell_type": "code",
   "execution_count": 8,
   "metadata": {},
   "outputs": [
    {
     "data": {
      "application/vnd.plotly.v1+json": {
       "config": {
        "plotlyServerURL": "https://plot.ly"
       },
       "data": [
        {
         "marker": {
          "color": [
           0,
           1,
           2,
           3,
           4,
           5,
           6,
           7,
           8,
           9
          ],
          "colorbar": {
           "title": {
            "text": "Trial"
           },
           "x": 1,
           "xpad": 40
          },
          "colorscale": [
           [
            0,
            "rgb(247,251,255)"
           ],
           [
            0.125,
            "rgb(222,235,247)"
           ],
           [
            0.25,
            "rgb(198,219,239)"
           ],
           [
            0.375,
            "rgb(158,202,225)"
           ],
           [
            0.5,
            "rgb(107,174,214)"
           ],
           [
            0.625,
            "rgb(66,146,198)"
           ],
           [
            0.75,
            "rgb(33,113,181)"
           ],
           [
            0.875,
            "rgb(8,81,156)"
           ],
           [
            1,
            "rgb(8,48,107)"
           ]
          ],
          "line": {
           "color": "Grey",
           "width": 0.5
          },
          "showscale": true
         },
         "mode": "markers",
         "showlegend": false,
         "type": "scatter",
         "x": [
          0.8,
          0.2,
          0.30000000000000004,
          0.8,
          0.7,
          0.7,
          0.6000000000000001,
          0.9,
          0.8,
          0.9
         ],
         "xaxis": "x",
         "y": [
          0.9425546774150442,
          0.9584866280910707,
          0.9575003878238277,
          0.9154878815450925,
          0.9220757661249319,
          0.9074348974981462,
          0.9064140609430006,
          0.9206775856024759,
          0.9584866280910707,
          0.909624407624575
         ],
         "yaxis": "y"
        },
        {
         "marker": {
          "color": [
           0,
           1,
           2,
           3,
           4,
           5,
           6,
           7,
           8,
           9
          ],
          "colorbar": {
           "title": {
            "text": "Trial"
           },
           "x": 1,
           "xpad": 40
          },
          "colorscale": [
           [
            0,
            "rgb(247,251,255)"
           ],
           [
            0.125,
            "rgb(222,235,247)"
           ],
           [
            0.25,
            "rgb(198,219,239)"
           ],
           [
            0.375,
            "rgb(158,202,225)"
           ],
           [
            0.5,
            "rgb(107,174,214)"
           ],
           [
            0.625,
            "rgb(66,146,198)"
           ],
           [
            0.75,
            "rgb(33,113,181)"
           ],
           [
            0.875,
            "rgb(8,81,156)"
           ],
           [
            1,
            "rgb(8,48,107)"
           ]
          ],
          "line": {
           "color": "Grey",
           "width": 0.5
          },
          "showscale": false
         },
         "mode": "markers",
         "showlegend": false,
         "type": "scatter",
         "x": [
          2,
          5,
          6,
          8,
          5,
          10,
          7,
          2,
          10,
          10
         ],
         "xaxis": "x2",
         "y": [
          0.9425546774150442,
          0.9584866280910707,
          0.9575003878238277,
          0.9154878815450925,
          0.9220757661249319,
          0.9074348974981462,
          0.9064140609430006,
          0.9206775856024759,
          0.9584866280910707,
          0.909624407624575
         ],
         "yaxis": "y2"
        },
        {
         "marker": {
          "color": [
           0,
           1,
           2,
           3,
           4,
           5,
           6,
           7,
           8,
           9
          ],
          "colorbar": {
           "title": {
            "text": "Trial"
           },
           "x": 1,
           "xpad": 40
          },
          "colorscale": [
           [
            0,
            "rgb(247,251,255)"
           ],
           [
            0.125,
            "rgb(222,235,247)"
           ],
           [
            0.25,
            "rgb(198,219,239)"
           ],
           [
            0.375,
            "rgb(158,202,225)"
           ],
           [
            0.5,
            "rgb(107,174,214)"
           ],
           [
            0.625,
            "rgb(66,146,198)"
           ],
           [
            0.75,
            "rgb(33,113,181)"
           ],
           [
            0.875,
            "rgb(8,81,156)"
           ],
           [
            1,
            "rgb(8,48,107)"
           ]
          ],
          "line": {
           "color": "Grey",
           "width": 0.5
          },
          "showscale": false
         },
         "mode": "markers",
         "showlegend": false,
         "type": "scatter",
         "x": [
          0.7,
          0.30000000000000004,
          0.7,
          0.9,
          0.5,
          0.4,
          0.2,
          0.7,
          0.6000000000000001,
          0.9
         ],
         "xaxis": "x3",
         "y": [
          0.9425546774150442,
          0.9584866280910707,
          0.9575003878238277,
          0.9154878815450925,
          0.9220757661249319,
          0.9074348974981462,
          0.9064140609430006,
          0.9206775856024759,
          0.9584866280910707,
          0.909624407624575
         ],
         "yaxis": "y3"
        },
        {
         "marker": {
          "color": [
           0,
           1,
           2,
           3,
           4,
           5,
           6,
           7,
           8,
           9
          ],
          "colorbar": {
           "title": {
            "text": "Trial"
           },
           "x": 1,
           "xpad": 40
          },
          "colorscale": [
           [
            0,
            "rgb(247,251,255)"
           ],
           [
            0.125,
            "rgb(222,235,247)"
           ],
           [
            0.25,
            "rgb(198,219,239)"
           ],
           [
            0.375,
            "rgb(158,202,225)"
           ],
           [
            0.5,
            "rgb(107,174,214)"
           ],
           [
            0.625,
            "rgb(66,146,198)"
           ],
           [
            0.75,
            "rgb(33,113,181)"
           ],
           [
            0.875,
            "rgb(8,81,156)"
           ],
           [
            1,
            "rgb(8,48,107)"
           ]
          ],
          "line": {
           "color": "Grey",
           "width": 0.5
          },
          "showscale": false
         },
         "mode": "markers",
         "showlegend": false,
         "type": "scatter",
         "x": [
          0.12395116920269673,
          0.027463254436522498,
          0.13293591163564006,
          0.29269769787526634,
          0.11876024467695294,
          0.2505948500744166,
          0.2015304942049299,
          0.20672608806407108,
          0.2128116678958013,
          0.06073259236173643
         ],
         "xaxis": "x4",
         "y": [
          0.9425546774150442,
          0.9584866280910707,
          0.9575003878238277,
          0.9154878815450925,
          0.9220757661249319,
          0.9074348974981462,
          0.9064140609430006,
          0.9206775856024759,
          0.9584866280910707,
          0.909624407624575
         ],
         "yaxis": "y4"
        },
        {
         "marker": {
          "color": [
           0,
           1,
           2,
           3,
           4,
           5,
           6,
           7,
           8,
           9
          ],
          "colorbar": {
           "title": {
            "text": "Trial"
           },
           "x": 1,
           "xpad": 40
          },
          "colorscale": [
           [
            0,
            "rgb(247,251,255)"
           ],
           [
            0.125,
            "rgb(222,235,247)"
           ],
           [
            0.25,
            "rgb(198,219,239)"
           ],
           [
            0.375,
            "rgb(158,202,225)"
           ],
           [
            0.5,
            "rgb(107,174,214)"
           ],
           [
            0.625,
            "rgb(66,146,198)"
           ],
           [
            0.75,
            "rgb(33,113,181)"
           ],
           [
            0.875,
            "rgb(8,81,156)"
           ],
           [
            1,
            "rgb(8,48,107)"
           ]
          ],
          "line": {
           "color": "Grey",
           "width": 0.5
          },
          "showscale": false
         },
         "mode": "markers",
         "showlegend": false,
         "type": "scatter",
         "x": [
          12,
          11,
          3,
          9,
          8,
          8,
          12,
          4,
          10,
          4
         ],
         "xaxis": "x5",
         "y": [
          0.9425546774150442,
          0.9584866280910707,
          0.9575003878238277,
          0.9154878815450925,
          0.9220757661249319,
          0.9074348974981462,
          0.9064140609430006,
          0.9206775856024759,
          0.9584866280910707,
          0.909624407624575
         ],
         "yaxis": "y5"
        },
        {
         "marker": {
          "color": [
           0,
           1,
           2,
           3,
           4,
           5,
           6,
           7,
           8,
           9
          ],
          "colorbar": {
           "title": {
            "text": "Trial"
           },
           "x": 1,
           "xpad": 40
          },
          "colorscale": [
           [
            0,
            "rgb(247,251,255)"
           ],
           [
            0.125,
            "rgb(222,235,247)"
           ],
           [
            0.25,
            "rgb(198,219,239)"
           ],
           [
            0.375,
            "rgb(158,202,225)"
           ],
           [
            0.5,
            "rgb(107,174,214)"
           ],
           [
            0.625,
            "rgb(66,146,198)"
           ],
           [
            0.75,
            "rgb(33,113,181)"
           ],
           [
            0.875,
            "rgb(8,81,156)"
           ],
           [
            1,
            "rgb(8,48,107)"
           ]
          ],
          "line": {
           "color": "Grey",
           "width": 0.5
          },
          "showscale": false
         },
         "mode": "markers",
         "showlegend": false,
         "type": "scatter",
         "x": [
          594,
          443,
          565,
          332,
          443,
          944,
          342,
          516,
          951,
          927
         ],
         "xaxis": "x6",
         "y": [
          0.9425546774150442,
          0.9584866280910707,
          0.9575003878238277,
          0.9154878815450925,
          0.9220757661249319,
          0.9074348974981462,
          0.9064140609430006,
          0.9206775856024759,
          0.9584866280910707,
          0.909624407624575
         ],
         "yaxis": "y6"
        },
        {
         "marker": {
          "color": [
           0,
           1,
           2,
           3,
           4,
           5,
           6,
           7,
           8,
           9
          ],
          "colorbar": {
           "title": {
            "text": "Trial"
           },
           "x": 1,
           "xpad": 40
          },
          "colorscale": [
           [
            0,
            "rgb(247,251,255)"
           ],
           [
            0.125,
            "rgb(222,235,247)"
           ],
           [
            0.25,
            "rgb(198,219,239)"
           ],
           [
            0.375,
            "rgb(158,202,225)"
           ],
           [
            0.5,
            "rgb(107,174,214)"
           ],
           [
            0.625,
            "rgb(66,146,198)"
           ],
           [
            0.75,
            "rgb(33,113,181)"
           ],
           [
            0.875,
            "rgb(8,81,156)"
           ],
           [
            1,
            "rgb(8,48,107)"
           ]
          ],
          "line": {
           "color": "Grey",
           "width": 0.5
          },
          "showscale": false
         },
         "mode": "markers",
         "showlegend": false,
         "type": "scatter",
         "x": [
          2240,
          1520,
          2640,
          2400,
          2340,
          1380,
          1400,
          20,
          840,
          580
         ],
         "xaxis": "x7",
         "y": [
          0.9425546774150442,
          0.9584866280910707,
          0.9575003878238277,
          0.9154878815450925,
          0.9220757661249319,
          0.9074348974981462,
          0.9064140609430006,
          0.9206775856024759,
          0.9584866280910707,
          0.909624407624575
         ],
         "yaxis": "y7"
        },
        {
         "marker": {
          "color": [
           0,
           1,
           2,
           3,
           4,
           5,
           6,
           7,
           8,
           9
          ],
          "colorbar": {
           "title": {
            "text": "Trial"
           },
           "x": 1,
           "xpad": 40
          },
          "colorscale": [
           [
            0,
            "rgb(247,251,255)"
           ],
           [
            0.125,
            "rgb(222,235,247)"
           ],
           [
            0.25,
            "rgb(198,219,239)"
           ],
           [
            0.375,
            "rgb(158,202,225)"
           ],
           [
            0.5,
            "rgb(107,174,214)"
           ],
           [
            0.625,
            "rgb(66,146,198)"
           ],
           [
            0.75,
            "rgb(33,113,181)"
           ],
           [
            0.875,
            "rgb(8,81,156)"
           ],
           [
            1,
            "rgb(8,48,107)"
           ]
          ],
          "line": {
           "color": "Grey",
           "width": 0.5
          },
          "showscale": false
         },
         "mode": "markers",
         "showlegend": false,
         "type": "scatter",
         "x": [
          80,
          50,
          65,
          15,
          60,
          20,
          20,
          0,
          95,
          0
         ],
         "xaxis": "x8",
         "y": [
          0.9425546774150442,
          0.9584866280910707,
          0.9575003878238277,
          0.9154878815450925,
          0.9220757661249319,
          0.9074348974981462,
          0.9064140609430006,
          0.9206775856024759,
          0.9584866280910707,
          0.909624407624575
         ],
         "yaxis": "y8"
        },
        {
         "marker": {
          "color": [
           0,
           1,
           2,
           3,
           4,
           5,
           6,
           7,
           8,
           9
          ],
          "colorbar": {
           "title": {
            "text": "Trial"
           },
           "x": 1,
           "xpad": 40
          },
          "colorscale": [
           [
            0,
            "rgb(247,251,255)"
           ],
           [
            0.125,
            "rgb(222,235,247)"
           ],
           [
            0.25,
            "rgb(198,219,239)"
           ],
           [
            0.375,
            "rgb(158,202,225)"
           ],
           [
            0.5,
            "rgb(107,174,214)"
           ],
           [
            0.625,
            "rgb(66,146,198)"
           ],
           [
            0.75,
            "rgb(33,113,181)"
           ],
           [
            0.875,
            "rgb(8,81,156)"
           ],
           [
            1,
            "rgb(8,48,107)"
           ]
          ],
          "line": {
           "color": "Grey",
           "width": 0.5
          },
          "showscale": false
         },
         "mode": "markers",
         "showlegend": false,
         "type": "scatter",
         "x": [
          95,
          90,
          85,
          65,
          85,
          70,
          0,
          65,
          85,
          85
         ],
         "xaxis": "x9",
         "y": [
          0.9425546774150442,
          0.9584866280910707,
          0.9575003878238277,
          0.9154878815450925,
          0.9220757661249319,
          0.9074348974981462,
          0.9064140609430006,
          0.9206775856024759,
          0.9584866280910707,
          0.909624407624575
         ],
         "yaxis": "y9"
        }
       ],
       "layout": {
        "template": {
         "data": {
          "bar": [
           {
            "error_x": {
             "color": "#2a3f5f"
            },
            "error_y": {
             "color": "#2a3f5f"
            },
            "marker": {
             "line": {
              "color": "#E5ECF6",
              "width": 0.5
             },
             "pattern": {
              "fillmode": "overlay",
              "size": 10,
              "solidity": 0.2
             }
            },
            "type": "bar"
           }
          ],
          "barpolar": [
           {
            "marker": {
             "line": {
              "color": "#E5ECF6",
              "width": 0.5
             },
             "pattern": {
              "fillmode": "overlay",
              "size": 10,
              "solidity": 0.2
             }
            },
            "type": "barpolar"
           }
          ],
          "carpet": [
           {
            "aaxis": {
             "endlinecolor": "#2a3f5f",
             "gridcolor": "white",
             "linecolor": "white",
             "minorgridcolor": "white",
             "startlinecolor": "#2a3f5f"
            },
            "baxis": {
             "endlinecolor": "#2a3f5f",
             "gridcolor": "white",
             "linecolor": "white",
             "minorgridcolor": "white",
             "startlinecolor": "#2a3f5f"
            },
            "type": "carpet"
           }
          ],
          "choropleth": [
           {
            "colorbar": {
             "outlinewidth": 0,
             "ticks": ""
            },
            "type": "choropleth"
           }
          ],
          "contour": [
           {
            "colorbar": {
             "outlinewidth": 0,
             "ticks": ""
            },
            "colorscale": [
             [
              0,
              "#0d0887"
             ],
             [
              0.1111111111111111,
              "#46039f"
             ],
             [
              0.2222222222222222,
              "#7201a8"
             ],
             [
              0.3333333333333333,
              "#9c179e"
             ],
             [
              0.4444444444444444,
              "#bd3786"
             ],
             [
              0.5555555555555556,
              "#d8576b"
             ],
             [
              0.6666666666666666,
              "#ed7953"
             ],
             [
              0.7777777777777778,
              "#fb9f3a"
             ],
             [
              0.8888888888888888,
              "#fdca26"
             ],
             [
              1,
              "#f0f921"
             ]
            ],
            "type": "contour"
           }
          ],
          "contourcarpet": [
           {
            "colorbar": {
             "outlinewidth": 0,
             "ticks": ""
            },
            "type": "contourcarpet"
           }
          ],
          "heatmap": [
           {
            "colorbar": {
             "outlinewidth": 0,
             "ticks": ""
            },
            "colorscale": [
             [
              0,
              "#0d0887"
             ],
             [
              0.1111111111111111,
              "#46039f"
             ],
             [
              0.2222222222222222,
              "#7201a8"
             ],
             [
              0.3333333333333333,
              "#9c179e"
             ],
             [
              0.4444444444444444,
              "#bd3786"
             ],
             [
              0.5555555555555556,
              "#d8576b"
             ],
             [
              0.6666666666666666,
              "#ed7953"
             ],
             [
              0.7777777777777778,
              "#fb9f3a"
             ],
             [
              0.8888888888888888,
              "#fdca26"
             ],
             [
              1,
              "#f0f921"
             ]
            ],
            "type": "heatmap"
           }
          ],
          "heatmapgl": [
           {
            "colorbar": {
             "outlinewidth": 0,
             "ticks": ""
            },
            "colorscale": [
             [
              0,
              "#0d0887"
             ],
             [
              0.1111111111111111,
              "#46039f"
             ],
             [
              0.2222222222222222,
              "#7201a8"
             ],
             [
              0.3333333333333333,
              "#9c179e"
             ],
             [
              0.4444444444444444,
              "#bd3786"
             ],
             [
              0.5555555555555556,
              "#d8576b"
             ],
             [
              0.6666666666666666,
              "#ed7953"
             ],
             [
              0.7777777777777778,
              "#fb9f3a"
             ],
             [
              0.8888888888888888,
              "#fdca26"
             ],
             [
              1,
              "#f0f921"
             ]
            ],
            "type": "heatmapgl"
           }
          ],
          "histogram": [
           {
            "marker": {
             "pattern": {
              "fillmode": "overlay",
              "size": 10,
              "solidity": 0.2
             }
            },
            "type": "histogram"
           }
          ],
          "histogram2d": [
           {
            "colorbar": {
             "outlinewidth": 0,
             "ticks": ""
            },
            "colorscale": [
             [
              0,
              "#0d0887"
             ],
             [
              0.1111111111111111,
              "#46039f"
             ],
             [
              0.2222222222222222,
              "#7201a8"
             ],
             [
              0.3333333333333333,
              "#9c179e"
             ],
             [
              0.4444444444444444,
              "#bd3786"
             ],
             [
              0.5555555555555556,
              "#d8576b"
             ],
             [
              0.6666666666666666,
              "#ed7953"
             ],
             [
              0.7777777777777778,
              "#fb9f3a"
             ],
             [
              0.8888888888888888,
              "#fdca26"
             ],
             [
              1,
              "#f0f921"
             ]
            ],
            "type": "histogram2d"
           }
          ],
          "histogram2dcontour": [
           {
            "colorbar": {
             "outlinewidth": 0,
             "ticks": ""
            },
            "colorscale": [
             [
              0,
              "#0d0887"
             ],
             [
              0.1111111111111111,
              "#46039f"
             ],
             [
              0.2222222222222222,
              "#7201a8"
             ],
             [
              0.3333333333333333,
              "#9c179e"
             ],
             [
              0.4444444444444444,
              "#bd3786"
             ],
             [
              0.5555555555555556,
              "#d8576b"
             ],
             [
              0.6666666666666666,
              "#ed7953"
             ],
             [
              0.7777777777777778,
              "#fb9f3a"
             ],
             [
              0.8888888888888888,
              "#fdca26"
             ],
             [
              1,
              "#f0f921"
             ]
            ],
            "type": "histogram2dcontour"
           }
          ],
          "mesh3d": [
           {
            "colorbar": {
             "outlinewidth": 0,
             "ticks": ""
            },
            "type": "mesh3d"
           }
          ],
          "parcoords": [
           {
            "line": {
             "colorbar": {
              "outlinewidth": 0,
              "ticks": ""
             }
            },
            "type": "parcoords"
           }
          ],
          "pie": [
           {
            "automargin": true,
            "type": "pie"
           }
          ],
          "scatter": [
           {
            "fillpattern": {
             "fillmode": "overlay",
             "size": 10,
             "solidity": 0.2
            },
            "type": "scatter"
           }
          ],
          "scatter3d": [
           {
            "line": {
             "colorbar": {
              "outlinewidth": 0,
              "ticks": ""
             }
            },
            "marker": {
             "colorbar": {
              "outlinewidth": 0,
              "ticks": ""
             }
            },
            "type": "scatter3d"
           }
          ],
          "scattercarpet": [
           {
            "marker": {
             "colorbar": {
              "outlinewidth": 0,
              "ticks": ""
             }
            },
            "type": "scattercarpet"
           }
          ],
          "scattergeo": [
           {
            "marker": {
             "colorbar": {
              "outlinewidth": 0,
              "ticks": ""
             }
            },
            "type": "scattergeo"
           }
          ],
          "scattergl": [
           {
            "marker": {
             "colorbar": {
              "outlinewidth": 0,
              "ticks": ""
             }
            },
            "type": "scattergl"
           }
          ],
          "scattermapbox": [
           {
            "marker": {
             "colorbar": {
              "outlinewidth": 0,
              "ticks": ""
             }
            },
            "type": "scattermapbox"
           }
          ],
          "scatterpolar": [
           {
            "marker": {
             "colorbar": {
              "outlinewidth": 0,
              "ticks": ""
             }
            },
            "type": "scatterpolar"
           }
          ],
          "scatterpolargl": [
           {
            "marker": {
             "colorbar": {
              "outlinewidth": 0,
              "ticks": ""
             }
            },
            "type": "scatterpolargl"
           }
          ],
          "scatterternary": [
           {
            "marker": {
             "colorbar": {
              "outlinewidth": 0,
              "ticks": ""
             }
            },
            "type": "scatterternary"
           }
          ],
          "surface": [
           {
            "colorbar": {
             "outlinewidth": 0,
             "ticks": ""
            },
            "colorscale": [
             [
              0,
              "#0d0887"
             ],
             [
              0.1111111111111111,
              "#46039f"
             ],
             [
              0.2222222222222222,
              "#7201a8"
             ],
             [
              0.3333333333333333,
              "#9c179e"
             ],
             [
              0.4444444444444444,
              "#bd3786"
             ],
             [
              0.5555555555555556,
              "#d8576b"
             ],
             [
              0.6666666666666666,
              "#ed7953"
             ],
             [
              0.7777777777777778,
              "#fb9f3a"
             ],
             [
              0.8888888888888888,
              "#fdca26"
             ],
             [
              1,
              "#f0f921"
             ]
            ],
            "type": "surface"
           }
          ],
          "table": [
           {
            "cells": {
             "fill": {
              "color": "#EBF0F8"
             },
             "line": {
              "color": "white"
             }
            },
            "header": {
             "fill": {
              "color": "#C8D4E3"
             },
             "line": {
              "color": "white"
             }
            },
            "type": "table"
           }
          ]
         },
         "layout": {
          "annotationdefaults": {
           "arrowcolor": "#2a3f5f",
           "arrowhead": 0,
           "arrowwidth": 1
          },
          "autotypenumbers": "strict",
          "coloraxis": {
           "colorbar": {
            "outlinewidth": 0,
            "ticks": ""
           }
          },
          "colorscale": {
           "diverging": [
            [
             0,
             "#8e0152"
            ],
            [
             0.1,
             "#c51b7d"
            ],
            [
             0.2,
             "#de77ae"
            ],
            [
             0.3,
             "#f1b6da"
            ],
            [
             0.4,
             "#fde0ef"
            ],
            [
             0.5,
             "#f7f7f7"
            ],
            [
             0.6,
             "#e6f5d0"
            ],
            [
             0.7,
             "#b8e186"
            ],
            [
             0.8,
             "#7fbc41"
            ],
            [
             0.9,
             "#4d9221"
            ],
            [
             1,
             "#276419"
            ]
           ],
           "sequential": [
            [
             0,
             "#0d0887"
            ],
            [
             0.1111111111111111,
             "#46039f"
            ],
            [
             0.2222222222222222,
             "#7201a8"
            ],
            [
             0.3333333333333333,
             "#9c179e"
            ],
            [
             0.4444444444444444,
             "#bd3786"
            ],
            [
             0.5555555555555556,
             "#d8576b"
            ],
            [
             0.6666666666666666,
             "#ed7953"
            ],
            [
             0.7777777777777778,
             "#fb9f3a"
            ],
            [
             0.8888888888888888,
             "#fdca26"
            ],
            [
             1,
             "#f0f921"
            ]
           ],
           "sequentialminus": [
            [
             0,
             "#0d0887"
            ],
            [
             0.1111111111111111,
             "#46039f"
            ],
            [
             0.2222222222222222,
             "#7201a8"
            ],
            [
             0.3333333333333333,
             "#9c179e"
            ],
            [
             0.4444444444444444,
             "#bd3786"
            ],
            [
             0.5555555555555556,
             "#d8576b"
            ],
            [
             0.6666666666666666,
             "#ed7953"
            ],
            [
             0.7777777777777778,
             "#fb9f3a"
            ],
            [
             0.8888888888888888,
             "#fdca26"
            ],
            [
             1,
             "#f0f921"
            ]
           ]
          },
          "colorway": [
           "#636efa",
           "#EF553B",
           "#00cc96",
           "#ab63fa",
           "#FFA15A",
           "#19d3f3",
           "#FF6692",
           "#B6E880",
           "#FF97FF",
           "#FECB52"
          ],
          "font": {
           "color": "#2a3f5f"
          },
          "geo": {
           "bgcolor": "white",
           "lakecolor": "white",
           "landcolor": "#E5ECF6",
           "showlakes": true,
           "showland": true,
           "subunitcolor": "white"
          },
          "hoverlabel": {
           "align": "left"
          },
          "hovermode": "closest",
          "mapbox": {
           "style": "light"
          },
          "paper_bgcolor": "white",
          "plot_bgcolor": "#E5ECF6",
          "polar": {
           "angularaxis": {
            "gridcolor": "white",
            "linecolor": "white",
            "ticks": ""
           },
           "bgcolor": "#E5ECF6",
           "radialaxis": {
            "gridcolor": "white",
            "linecolor": "white",
            "ticks": ""
           }
          },
          "scene": {
           "xaxis": {
            "backgroundcolor": "#E5ECF6",
            "gridcolor": "white",
            "gridwidth": 2,
            "linecolor": "white",
            "showbackground": true,
            "ticks": "",
            "zerolinecolor": "white"
           },
           "yaxis": {
            "backgroundcolor": "#E5ECF6",
            "gridcolor": "white",
            "gridwidth": 2,
            "linecolor": "white",
            "showbackground": true,
            "ticks": "",
            "zerolinecolor": "white"
           },
           "zaxis": {
            "backgroundcolor": "#E5ECF6",
            "gridcolor": "white",
            "gridwidth": 2,
            "linecolor": "white",
            "showbackground": true,
            "ticks": "",
            "zerolinecolor": "white"
           }
          },
          "shapedefaults": {
           "line": {
            "color": "#2a3f5f"
           }
          },
          "ternary": {
           "aaxis": {
            "gridcolor": "white",
            "linecolor": "white",
            "ticks": ""
           },
           "baxis": {
            "gridcolor": "white",
            "linecolor": "white",
            "ticks": ""
           },
           "bgcolor": "#E5ECF6",
           "caxis": {
            "gridcolor": "white",
            "linecolor": "white",
            "ticks": ""
           }
          },
          "title": {
           "x": 0.05
          },
          "xaxis": {
           "automargin": true,
           "gridcolor": "white",
           "linecolor": "white",
           "ticks": "",
           "title": {
            "standoff": 15
           },
           "zerolinecolor": "white",
           "zerolinewidth": 2
          },
          "yaxis": {
           "automargin": true,
           "gridcolor": "white",
           "linecolor": "white",
           "ticks": "",
           "title": {
            "standoff": 15
           },
           "zerolinecolor": "white",
           "zerolinewidth": 2
          }
         }
        },
        "title": {
         "text": "Slice Plot"
        },
        "width": 2700,
        "xaxis": {
         "anchor": "y",
         "domain": [
          0,
          0.09135802469135802
         ],
         "title": {
          "text": "bagging_fraction"
         }
        },
        "xaxis2": {
         "anchor": "y2",
         "domain": [
          0.11358024691358025,
          0.20493827160493827
         ],
         "title": {
          "text": "bagging_freq"
         }
        },
        "xaxis3": {
         "anchor": "y3",
         "domain": [
          0.2271604938271605,
          0.31851851851851853
         ],
         "title": {
          "text": "feature_fraction"
         }
        },
        "xaxis4": {
         "anchor": "y4",
         "domain": [
          0.34074074074074073,
          0.43209876543209874
         ],
         "title": {
          "text": "learning_rate"
         }
        },
        "xaxis5": {
         "anchor": "y5",
         "domain": [
          0.454320987654321,
          0.5456790123456791
         ],
         "title": {
          "text": "max_depth"
         }
        },
        "xaxis6": {
         "anchor": "y6",
         "domain": [
          0.5679012345679012,
          0.6592592592592592
         ],
         "title": {
          "text": "n_estimators"
         }
        },
        "xaxis7": {
         "anchor": "y7",
         "domain": [
          0.6814814814814815,
          0.7728395061728395
         ],
         "title": {
          "text": "num_leaves"
         }
        },
        "xaxis8": {
         "anchor": "y8",
         "domain": [
          0.7950617283950617,
          0.8864197530864197
         ],
         "title": {
          "text": "reg_alpha"
         }
        },
        "xaxis9": {
         "anchor": "y9",
         "domain": [
          0.908641975308642,
          1
         ],
         "title": {
          "text": "reg_lambda"
         }
        },
        "yaxis": {
         "anchor": "x",
         "domain": [
          0,
          1
         ],
         "title": {
          "text": "Objective Value"
         }
        },
        "yaxis2": {
         "anchor": "x2",
         "domain": [
          0,
          1
         ],
         "matches": "y",
         "showticklabels": false
        },
        "yaxis3": {
         "anchor": "x3",
         "domain": [
          0,
          1
         ],
         "matches": "y",
         "showticklabels": false
        },
        "yaxis4": {
         "anchor": "x4",
         "domain": [
          0,
          1
         ],
         "matches": "y",
         "showticklabels": false
        },
        "yaxis5": {
         "anchor": "x5",
         "domain": [
          0,
          1
         ],
         "matches": "y",
         "showticklabels": false
        },
        "yaxis6": {
         "anchor": "x6",
         "domain": [
          0,
          1
         ],
         "matches": "y",
         "showticklabels": false
        },
        "yaxis7": {
         "anchor": "x7",
         "domain": [
          0,
          1
         ],
         "matches": "y",
         "showticklabels": false
        },
        "yaxis8": {
         "anchor": "x8",
         "domain": [
          0,
          1
         ],
         "matches": "y",
         "showticklabels": false
        },
        "yaxis9": {
         "anchor": "x9",
         "domain": [
          0,
          1
         ],
         "matches": "y",
         "showticklabels": false
        }
       }
      }
     },
     "metadata": {},
     "output_type": "display_data"
    }
   ],
   "source": [
    "plot_slice = optuna.visualization.plot_slice(study)\n",
    "plot_slice.show()"
   ]
  },
  {
   "cell_type": "code",
   "execution_count": 13,
   "metadata": {},
   "outputs": [
    {
     "name": "stdout",
     "output_type": "stream",
     "text": [
      "Best params: {'learning_rate': 0.19900495462488169, 'max_depth': 13, 'num_leaves': 2440, 'reg_lambda': 80, 'reg_alpha': 35, 'bagging_fraction': 0.9, 'bagging_freq': 5, 'feature_fraction': 0.4, 'objective': 'regression', 'metric': 'mse', 'verbose': -1}\n",
      "Training until validation scores don't improve for 20 rounds\n",
      "Early stopping, best iteration is:\n",
      "[77]\tvalid_0's l2: 0.927379\n"
     ]
    }
   ],
   "source": [
    "best_params = study.best_params\n",
    "\n",
    "n_estimators = best_params['n_estimators']\n",
    "best_params.pop('n_estimators')\n",
    "best_params['objective'] = 'regression'\n",
    "best_params['metric'] = 'mse'\n",
    "best_params['verbose'] = -1\n",
    "\n",
    "print(f\"Best params: {best_params}\")\n",
    "\n",
    "# Train model with best hyperparameters\n",
    "dtrain = lgb.Dataset(X_train, label=y_train)\n",
    "dval = lgb.Dataset(X_test, label=y_test, reference=dtrain)\n",
    "\n",
    "gbm = lgb.train(best_params, dtrain, num_boost_round=n_estimators, valid_sets=[dval], callbacks=[lgb.early_stopping(stopping_rounds=20)])\n",
    "\n",
    "# Predict on test set\n",
    "y_pred = gbm.predict(X_test)\n",
    "\n",
    "# Calculate the pearson correlation between the predicted values and the maen phenotype of the test set\n",
    "correlation = np.corrcoef(y_pred, mean_pheno_test)[0,1]\n",
    "\n"
   ]
  },
  {
   "cell_type": "code",
   "execution_count": 14,
   "metadata": {},
   "outputs": [
    {
     "data": {
      "text/plain": [
       "array([[1.        , 0.23637552],\n",
       "       [0.23637552, 1.        ]])"
      ]
     },
     "execution_count": 14,
     "metadata": {},
     "output_type": "execute_result"
    }
   ],
   "source": [
    "np.corrcoef(y_pred, mean_pheno_test)"
   ]
  },
  {
   "cell_type": "code",
   "execution_count": null,
   "metadata": {},
   "outputs": [],
   "source": [
    "core"
   ]
  }
 ],
 "metadata": {
  "kernelspec": {
   "display_name": "base",
   "language": "python",
   "name": "python3"
  },
  "language_info": {
   "codemirror_mode": {
    "name": "ipython",
    "version": 3
   },
   "file_extension": ".py",
   "mimetype": "text/x-python",
   "name": "python",
   "nbconvert_exporter": "python",
   "pygments_lexer": "ipython3",
   "version": "3.9.18"
  }
 },
 "nbformat": 4,
 "nbformat_minor": 2
}
