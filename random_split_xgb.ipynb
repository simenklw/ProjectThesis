{
 "cells": [
  {
   "cell_type": "code",
   "execution_count": 1,
   "metadata": {},
   "outputs": [],
   "source": [
    "import numpy as np\n",
    "import pandas as pd\n",
    "import tqdm \n",
    "import cProfile\n",
    "import xgboost as xgb\n",
    "import lightgbm as lgb\n",
    "from sklearn.model_selection import GroupKFold, train_test_split, KFold, cross_val_score\n",
    "from sklearn.metrics import mean_squared_error\n",
    "import optuna\n",
    "import logging\n",
    "import time\n",
    "from scipy.stats import pearsonr\n",
    "\n",
    "from split import prep_data_before_train, random_split, subset\n",
    "\n",
    "data = pd.read_feather(\"data/processed/massBV.feather\")\n",
    "\n",
    "X, y, ringnrs, mean_pheno = prep_data_before_train(data, \"mass\")\n",
    "del data\n",
    "X.drop(columns = [\"hatchisland\"], inplace = True)\n",
    "X[\"ringnr\"] = ringnrs   \n",
    "\n",
    "target = pd.DataFrame(y)\n",
    "target[\"mean_pheno\"] = mean_pheno\n",
    "target[\"ringnr\"] = ringnrs\n",
    "\n",
    "folds = random_split(\"mass\", num_folds=10, seed=42)\n",
    "\n",
    "X = pd.merge(X,folds, on = \"ringnr\", how = \"inner\") \n",
    "X = pd.merge(X,target, on = \"ringnr\", how = \"inner\")\n",
    "\n",
    "X = subset(X, num_snps=20000)"
   ]
  },
  {
   "cell_type": "markdown",
   "metadata": {},
   "source": [
    "First do hyperparameter optimization using Optuna, we will only do one split of the data for this. Then we will train the model on the full data using the best hyperparameters. For this part we will use group kfold cross validation to test on all the folds."
   ]
  },
  {
   "cell_type": "code",
   "execution_count": 2,
   "metadata": {},
   "outputs": [],
   "source": [
    "X_hyp = X.drop(columns = [\"ringnr\", \"fold\", \"ID\", \"mean_pheno\"])\n",
    "y_hyp = X[[\"ID\", \"mean_pheno\"]]\n",
    "\n",
    "X_train, X_val, y_train, y_val = train_test_split(X_hyp, y_hyp, test_size = 0.2, random_state = 42)"
   ]
  },
  {
   "cell_type": "code",
   "execution_count": 3,
   "metadata": {},
   "outputs": [
    {
     "name": "stderr",
     "output_type": "stream",
     "text": [
      "[I 2024-09-29 18:19:57,908] A new study created in memory with name: no-name-82f1675e-60eb-4264-b0a2-c66cfb962fdd\n",
      "[I 2024-09-29 18:33:21,061] Trial 0 finished with value: 0.28661326378838714 and parameters: {'learning_rate': 0.0026575889484098413, 'max_depth': 4, 'subsample': 0.9758238997316266, 'colsample_bytree': 0.7360547823605588, 'min_child_weight': 5}. Best is trial 0 with value: 0.28661326378838714.\n",
      "[I 2024-09-29 18:33:40,509] Trial 1 finished with value: 0.19185539204851193 and parameters: {'learning_rate': 0.03556141109065721, 'max_depth': 9, 'subsample': 0.5144214507766243, 'colsample_bytree': 0.9286454663284888, 'min_child_weight': 14}. Best is trial 0 with value: 0.28661326378838714.\n",
      "[I 2024-09-29 18:33:42,676] Trial 3 finished with value: 0.28076753209965877 and parameters: {'learning_rate': 0.003986621892265073, 'max_depth': 8, 'subsample': 0.8686463607475218, 'colsample_bytree': 0.5183450572339015, 'min_child_weight': 21}. Best is trial 0 with value: 0.28661326378838714.\n",
      "[I 2024-09-29 18:33:47,325] Trial 2 finished with value: 0.29514785790066955 and parameters: {'learning_rate': 0.006074441492938331, 'max_depth': 10, 'subsample': 0.7996440654764556, 'colsample_bytree': 0.6555180235231135, 'min_child_weight': 18}. Best is trial 2 with value: 0.29514785790066955.\n",
      "[I 2024-09-29 18:42:25,043] Trial 4 finished with value: 0.25597297830619925 and parameters: {'learning_rate': 0.03889150532677214, 'max_depth': 4, 'subsample': 0.6513676100038929, 'colsample_bytree': 0.6670701132837933, 'min_child_weight': 19}. Best is trial 2 with value: 0.29514785790066955.\n",
      "[I 2024-09-29 18:42:25,210] Trial 5 finished with value: 0.2622642241124945 and parameters: {'learning_rate': 0.052624734398278854, 'max_depth': 3, 'subsample': 0.765778706063297, 'colsample_bytree': 0.9072344089455668, 'min_child_weight': 24}. Best is trial 2 with value: 0.29514785790066955.\n",
      "[I 2024-09-29 18:42:28,512] Trial 6 finished with value: 0.24861501032275907 and parameters: {'learning_rate': 0.08468036611444045, 'max_depth': 8, 'subsample': 0.6862520381581225, 'colsample_bytree': 0.9034903954798067, 'min_child_weight': 9}. Best is trial 2 with value: 0.29514785790066955.\n",
      "[I 2024-09-29 18:42:34,092] Trial 7 finished with value: 0.3094760781922671 and parameters: {'learning_rate': 0.001626005169035001, 'max_depth': 6, 'subsample': 0.5683352575495317, 'colsample_bytree': 0.5463646395610486, 'min_child_weight': 1}. Best is trial 7 with value: 0.3094760781922671.\n",
      "[I 2024-09-29 18:50:37,379] Trial 10 finished with value: 0.287364984647844 and parameters: {'learning_rate': 0.0050026460181351205, 'max_depth': 5, 'subsample': 0.7680903497446363, 'colsample_bytree': 0.7442652772764462, 'min_child_weight': 15}. Best is trial 7 with value: 0.3094760781922671.\n",
      "[I 2024-09-29 18:50:39,097] Trial 11 finished with value: 0.23666716852077338 and parameters: {'learning_rate': 0.0653020788913873, 'max_depth': 4, 'subsample': 0.9993890459446064, 'colsample_bytree': 0.7694422628602653, 'min_child_weight': 19}. Best is trial 7 with value: 0.3094760781922671.\n",
      "[I 2024-09-29 18:50:43,197] Trial 9 finished with value: 0.27688397662564296 and parameters: {'learning_rate': 0.01681784441667706, 'max_depth': 5, 'subsample': 0.6390647040404028, 'colsample_bytree': 0.6273498146582616, 'min_child_weight': 30}. Best is trial 7 with value: 0.3094760781922671.\n",
      "[I 2024-09-29 18:50:45,760] Trial 8 finished with value: 0.2509246010829903 and parameters: {'learning_rate': 0.08905920228461106, 'max_depth': 9, 'subsample': 0.7333904104899652, 'colsample_bytree': 0.8276894507269253, 'min_child_weight': 28}. Best is trial 7 with value: 0.3094760781922671.\n",
      "[I 2024-09-29 18:59:08,897] Trial 13 finished with value: 0.28451688029284716 and parameters: {'learning_rate': 0.0011007148125841857, 'max_depth': 6, 'subsample': 0.504806662395737, 'colsample_bytree': 0.503383726062221, 'min_child_weight': 1}. Best is trial 7 with value: 0.3094760781922671.\n",
      "[I 2024-09-29 18:59:26,485] Trial 12 finished with value: 0.29643704265806364 and parameters: {'learning_rate': 0.002736989633149566, 'max_depth': 8, 'subsample': 0.7778247111334456, 'colsample_bytree': 0.5810106731002247, 'min_child_weight': 15}. Best is trial 7 with value: 0.3094760781922671.\n",
      "[I 2024-09-29 18:59:35,581] Trial 15 finished with value: 0.27850449329460375 and parameters: {'learning_rate': 0.001066522764949603, 'max_depth': 7, 'subsample': 0.5097517171524042, 'colsample_bytree': 0.5070097931881146, 'min_child_weight': 1}. Best is trial 7 with value: 0.3094760781922671.\n",
      "[I 2024-09-29 18:59:59,161] Trial 14 finished with value: 0.2953996038541027 and parameters: {'learning_rate': 0.0010712487460332338, 'max_depth': 10, 'subsample': 0.512291319837304, 'colsample_bytree': 0.5091164322008175, 'min_child_weight': 3}. Best is trial 7 with value: 0.3094760781922671.\n",
      "[I 2024-09-29 19:07:39,335] Trial 17 finished with value: 0.31429192027121844 and parameters: {'learning_rate': 0.0013765521522519826, 'max_depth': 7, 'subsample': 0.593876716521791, 'colsample_bytree': 0.5593209061489248, 'min_child_weight': 10}. Best is trial 17 with value: 0.31429192027121844.\n",
      "[I 2024-09-29 19:07:43,533] Trial 16 finished with value: 0.2967422563184626 and parameters: {'learning_rate': 0.008648566369068167, 'max_depth': 10, 'subsample': 0.6002411538590419, 'colsample_bytree': 0.5869525117578904, 'min_child_weight': 10}. Best is trial 17 with value: 0.31429192027121844.\n",
      "[I 2024-09-29 19:07:48,749] Trial 18 finished with value: 0.3008577172402906 and parameters: {'learning_rate': 0.002013712795165958, 'max_depth': 7, 'subsample': 0.593138021368973, 'colsample_bytree': 0.5937313913053571, 'min_child_weight': 10}. Best is trial 17 with value: 0.31429192027121844.\n",
      "[I 2024-09-29 19:07:54,066] Trial 19 finished with value: 0.2935484274458058 and parameters: {'learning_rate': 0.002151833898412884, 'max_depth': 7, 'subsample': 0.5783608651004922, 'colsample_bytree': 0.5704683758576818, 'min_child_weight': 9}. Best is trial 17 with value: 0.31429192027121844.\n",
      "[I 2024-09-29 19:14:56,394] Trial 22 finished with value: 0.280391541103268 and parameters: {'learning_rate': 0.00160128202701448, 'max_depth': 2, 'subsample': 0.5555777153402403, 'colsample_bytree': 0.5609900967535577, 'min_child_weight': 6}. Best is trial 17 with value: 0.31429192027121844.\n",
      "[I 2024-09-29 19:14:58,891] Trial 21 finished with value: 0.2728220862444417 and parameters: {'learning_rate': 0.002018105690562054, 'max_depth': 2, 'subsample': 0.5759663605790507, 'colsample_bytree': 0.5698903380684428, 'min_child_weight': 7}. Best is trial 17 with value: 0.31429192027121844.\n",
      "[I 2024-09-29 19:14:59,437] Trial 20 finished with value: 0.27774509456989227 and parameters: {'learning_rate': 0.001913021135133048, 'max_depth': 2, 'subsample': 0.5827481750178813, 'colsample_bytree': 0.5690567683222868, 'min_child_weight': 8}. Best is trial 17 with value: 0.31429192027121844.\n",
      "[I 2024-09-29 19:14:59,542] Trial 23 finished with value: 0.2753959267735982 and parameters: {'learning_rate': 0.0016907239272690863, 'max_depth': 2, 'subsample': 0.5753895546699992, 'colsample_bytree': 0.6838025019568374, 'min_child_weight': 5}. Best is trial 17 with value: 0.31429192027121844.\n",
      "[I 2024-09-29 19:23:02,649] Trial 25 finished with value: 0.2885684238050206 and parameters: {'learning_rate': 0.0016617205651668554, 'max_depth': 6, 'subsample': 0.6176998731420471, 'colsample_bytree': 0.6301996530861974, 'min_child_weight': 12}. Best is trial 17 with value: 0.31429192027121844.\n",
      "[I 2024-09-29 19:23:04,442] Trial 27 finished with value: 0.28461739047481105 and parameters: {'learning_rate': 0.0033923258656950524, 'max_depth': 6, 'subsample': 0.6287854737522572, 'colsample_bytree': 0.6312681438379253, 'min_child_weight': 12}. Best is trial 17 with value: 0.31429192027121844.\n",
      "[I 2024-09-29 19:23:05,360] Trial 24 finished with value: 0.3104089488056455 and parameters: {'learning_rate': 0.001848936774325, 'max_depth': 6, 'subsample': 0.6005116333679441, 'colsample_bytree': 0.6262299099994599, 'min_child_weight': 12}. Best is trial 17 with value: 0.31429192027121844.\n",
      "[I 2024-09-29 19:23:06,209] Trial 26 finished with value: 0.28227747949176357 and parameters: {'learning_rate': 0.0030481103773433603, 'max_depth': 6, 'subsample': 0.6364733362335198, 'colsample_bytree': 0.6295938241432493, 'min_child_weight': 12}. Best is trial 17 with value: 0.31429192027121844.\n",
      "[I 2024-09-29 19:27:51,752] Trial 28 finished with value: 0.2952729629028574 and parameters: {'learning_rate': 0.0033541031301410756, 'max_depth': 6, 'subsample': 0.6577903781400687, 'colsample_bytree': 0.5420222691095794, 'min_child_weight': 12}. Best is trial 17 with value: 0.31429192027121844.\n",
      "[I 2024-09-29 19:28:02,325] Trial 29 finished with value: 0.30138363691412706 and parameters: {'learning_rate': 0.0032603668988875436, 'max_depth': 7, 'subsample': 0.675843472103458, 'colsample_bytree': 0.5415641991000073, 'min_child_weight': 3}. Best is trial 17 with value: 0.31429192027121844.\n"
     ]
    }
   ],
   "source": [
    "def objective(trial):\n",
    "    params = {\n",
    "        \"objective\": \"reg:pseudohubererror\",\n",
    "        \"n_estimators\": 1000,\n",
    "        \"verbosity\": 0, \n",
    "        \"learning_rate\": trial.suggest_float(\"learning_rate\", 1e-3, 0.1, log=True),\n",
    "        \"max_depth\": trial.suggest_int(\"max_depth\", 2, 10),\n",
    "        \"subsample\": trial.suggest_float(\"subsample\", 0.5, 1.0),\n",
    "        \"colsample_bytree\": trial.suggest_float(\"colsample_bytree\", 0.5, 1.0),\n",
    "        \"min_child_weight\": trial.suggest_int(\"min_child_weight\", 1, 30)  \n",
    "    }\n",
    "\n",
    "    model = xgb.XGBRegressor(**params)  \n",
    "    model.fit(X_train, y_train[\"ID\"])\n",
    "    preds = model.predict(X_val)\n",
    "    corr, _ = pearsonr(preds, y_val[\"mean_pheno\"])\n",
    "    return corr\n",
    "\n",
    "study = optuna.create_study(direction = \"maximize\")\n",
    "study.optimize(objective, n_trials = 30, n_jobs = 4)"
   ]
  },
  {
   "cell_type": "code",
   "execution_count": 5,
   "metadata": {},
   "outputs": [
    {
     "data": {
      "application/vnd.plotly.v1+json": {
       "config": {
        "plotlyServerURL": "https://plot.ly"
       },
       "data": [
        {
         "marker": {
          "color": [
           0,
           1,
           2,
           3,
           4,
           5,
           6,
           7,
           8,
           9,
           10,
           11,
           12,
           13,
           14,
           15,
           16,
           17,
           18,
           19,
           20,
           21,
           22,
           23,
           24,
           25,
           26,
           27,
           28,
           29
          ],
          "colorbar": {
           "title": {
            "text": "Trial"
           },
           "x": 1,
           "xpad": 40
          },
          "colorscale": [
           [
            0,
            "rgb(247,251,255)"
           ],
           [
            0.125,
            "rgb(222,235,247)"
           ],
           [
            0.25,
            "rgb(198,219,239)"
           ],
           [
            0.375,
            "rgb(158,202,225)"
           ],
           [
            0.5,
            "rgb(107,174,214)"
           ],
           [
            0.625,
            "rgb(66,146,198)"
           ],
           [
            0.75,
            "rgb(33,113,181)"
           ],
           [
            0.875,
            "rgb(8,81,156)"
           ],
           [
            1,
            "rgb(8,48,107)"
           ]
          ],
          "line": {
           "color": "Grey",
           "width": 0.5
          },
          "showscale": true
         },
         "mode": "markers",
         "showlegend": false,
         "type": "scatter",
         "x": [
          0.7360547823605588,
          0.9286454663284888,
          0.6555180235231135,
          0.5183450572339015,
          0.6670701132837933,
          0.9072344089455668,
          0.9034903954798067,
          0.5463646395610486,
          0.8276894507269253,
          0.6273498146582616,
          0.7442652772764462,
          0.7694422628602653,
          0.5810106731002247,
          0.503383726062221,
          0.5091164322008175,
          0.5070097931881146,
          0.5869525117578904,
          0.5593209061489248,
          0.5937313913053571,
          0.5704683758576818,
          0.5690567683222868,
          0.5698903380684428,
          0.5609900967535577,
          0.6838025019568374,
          0.6262299099994599,
          0.6301996530861974,
          0.6295938241432493,
          0.6312681438379253,
          0.5420222691095794,
          0.5415641991000073
         ],
         "xaxis": "x",
         "y": [
          0.28661326378838714,
          0.19185539204851193,
          0.29514785790066955,
          0.28076753209965877,
          0.25597297830619925,
          0.2622642241124945,
          0.24861501032275907,
          0.3094760781922671,
          0.2509246010829903,
          0.27688397662564296,
          0.287364984647844,
          0.23666716852077338,
          0.29643704265806364,
          0.28451688029284716,
          0.2953996038541027,
          0.27850449329460375,
          0.2967422563184626,
          0.31429192027121844,
          0.3008577172402906,
          0.2935484274458058,
          0.27774509456989227,
          0.2728220862444417,
          0.280391541103268,
          0.2753959267735982,
          0.3104089488056455,
          0.2885684238050206,
          0.28227747949176357,
          0.28461739047481105,
          0.2952729629028574,
          0.30138363691412706
         ],
         "yaxis": "y"
        },
        {
         "marker": {
          "color": [
           0,
           1,
           2,
           3,
           4,
           5,
           6,
           7,
           8,
           9,
           10,
           11,
           12,
           13,
           14,
           15,
           16,
           17,
           18,
           19,
           20,
           21,
           22,
           23,
           24,
           25,
           26,
           27,
           28,
           29
          ],
          "colorbar": {
           "title": {
            "text": "Trial"
           },
           "x": 1,
           "xpad": 40
          },
          "colorscale": [
           [
            0,
            "rgb(247,251,255)"
           ],
           [
            0.125,
            "rgb(222,235,247)"
           ],
           [
            0.25,
            "rgb(198,219,239)"
           ],
           [
            0.375,
            "rgb(158,202,225)"
           ],
           [
            0.5,
            "rgb(107,174,214)"
           ],
           [
            0.625,
            "rgb(66,146,198)"
           ],
           [
            0.75,
            "rgb(33,113,181)"
           ],
           [
            0.875,
            "rgb(8,81,156)"
           ],
           [
            1,
            "rgb(8,48,107)"
           ]
          ],
          "line": {
           "color": "Grey",
           "width": 0.5
          },
          "showscale": false
         },
         "mode": "markers",
         "showlegend": false,
         "type": "scatter",
         "x": [
          0.0026575889484098413,
          0.03556141109065721,
          0.006074441492938331,
          0.003986621892265073,
          0.03889150532677214,
          0.052624734398278854,
          0.08468036611444045,
          0.001626005169035001,
          0.08905920228461106,
          0.01681784441667706,
          0.0050026460181351205,
          0.0653020788913873,
          0.002736989633149566,
          0.0011007148125841857,
          0.0010712487460332338,
          0.001066522764949603,
          0.008648566369068167,
          0.0013765521522519826,
          0.002013712795165958,
          0.002151833898412884,
          0.001913021135133048,
          0.002018105690562054,
          0.00160128202701448,
          0.0016907239272690863,
          0.001848936774325,
          0.0016617205651668554,
          0.0030481103773433603,
          0.0033923258656950524,
          0.0033541031301410756,
          0.0032603668988875436
         ],
         "xaxis": "x2",
         "y": [
          0.28661326378838714,
          0.19185539204851193,
          0.29514785790066955,
          0.28076753209965877,
          0.25597297830619925,
          0.2622642241124945,
          0.24861501032275907,
          0.3094760781922671,
          0.2509246010829903,
          0.27688397662564296,
          0.287364984647844,
          0.23666716852077338,
          0.29643704265806364,
          0.28451688029284716,
          0.2953996038541027,
          0.27850449329460375,
          0.2967422563184626,
          0.31429192027121844,
          0.3008577172402906,
          0.2935484274458058,
          0.27774509456989227,
          0.2728220862444417,
          0.280391541103268,
          0.2753959267735982,
          0.3104089488056455,
          0.2885684238050206,
          0.28227747949176357,
          0.28461739047481105,
          0.2952729629028574,
          0.30138363691412706
         ],
         "yaxis": "y2"
        },
        {
         "marker": {
          "color": [
           0,
           1,
           2,
           3,
           4,
           5,
           6,
           7,
           8,
           9,
           10,
           11,
           12,
           13,
           14,
           15,
           16,
           17,
           18,
           19,
           20,
           21,
           22,
           23,
           24,
           25,
           26,
           27,
           28,
           29
          ],
          "colorbar": {
           "title": {
            "text": "Trial"
           },
           "x": 1,
           "xpad": 40
          },
          "colorscale": [
           [
            0,
            "rgb(247,251,255)"
           ],
           [
            0.125,
            "rgb(222,235,247)"
           ],
           [
            0.25,
            "rgb(198,219,239)"
           ],
           [
            0.375,
            "rgb(158,202,225)"
           ],
           [
            0.5,
            "rgb(107,174,214)"
           ],
           [
            0.625,
            "rgb(66,146,198)"
           ],
           [
            0.75,
            "rgb(33,113,181)"
           ],
           [
            0.875,
            "rgb(8,81,156)"
           ],
           [
            1,
            "rgb(8,48,107)"
           ]
          ],
          "line": {
           "color": "Grey",
           "width": 0.5
          },
          "showscale": false
         },
         "mode": "markers",
         "showlegend": false,
         "type": "scatter",
         "x": [
          4,
          9,
          10,
          8,
          4,
          3,
          8,
          6,
          9,
          5,
          5,
          4,
          8,
          6,
          10,
          7,
          10,
          7,
          7,
          7,
          2,
          2,
          2,
          2,
          6,
          6,
          6,
          6,
          6,
          7
         ],
         "xaxis": "x3",
         "y": [
          0.28661326378838714,
          0.19185539204851193,
          0.29514785790066955,
          0.28076753209965877,
          0.25597297830619925,
          0.2622642241124945,
          0.24861501032275907,
          0.3094760781922671,
          0.2509246010829903,
          0.27688397662564296,
          0.287364984647844,
          0.23666716852077338,
          0.29643704265806364,
          0.28451688029284716,
          0.2953996038541027,
          0.27850449329460375,
          0.2967422563184626,
          0.31429192027121844,
          0.3008577172402906,
          0.2935484274458058,
          0.27774509456989227,
          0.2728220862444417,
          0.280391541103268,
          0.2753959267735982,
          0.3104089488056455,
          0.2885684238050206,
          0.28227747949176357,
          0.28461739047481105,
          0.2952729629028574,
          0.30138363691412706
         ],
         "yaxis": "y3"
        },
        {
         "marker": {
          "color": [
           0,
           1,
           2,
           3,
           4,
           5,
           6,
           7,
           8,
           9,
           10,
           11,
           12,
           13,
           14,
           15,
           16,
           17,
           18,
           19,
           20,
           21,
           22,
           23,
           24,
           25,
           26,
           27,
           28,
           29
          ],
          "colorbar": {
           "title": {
            "text": "Trial"
           },
           "x": 1,
           "xpad": 40
          },
          "colorscale": [
           [
            0,
            "rgb(247,251,255)"
           ],
           [
            0.125,
            "rgb(222,235,247)"
           ],
           [
            0.25,
            "rgb(198,219,239)"
           ],
           [
            0.375,
            "rgb(158,202,225)"
           ],
           [
            0.5,
            "rgb(107,174,214)"
           ],
           [
            0.625,
            "rgb(66,146,198)"
           ],
           [
            0.75,
            "rgb(33,113,181)"
           ],
           [
            0.875,
            "rgb(8,81,156)"
           ],
           [
            1,
            "rgb(8,48,107)"
           ]
          ],
          "line": {
           "color": "Grey",
           "width": 0.5
          },
          "showscale": false
         },
         "mode": "markers",
         "showlegend": false,
         "type": "scatter",
         "x": [
          5,
          14,
          18,
          21,
          19,
          24,
          9,
          1,
          28,
          30,
          15,
          19,
          15,
          1,
          3,
          1,
          10,
          10,
          10,
          9,
          8,
          7,
          6,
          5,
          12,
          12,
          12,
          12,
          12,
          3
         ],
         "xaxis": "x4",
         "y": [
          0.28661326378838714,
          0.19185539204851193,
          0.29514785790066955,
          0.28076753209965877,
          0.25597297830619925,
          0.2622642241124945,
          0.24861501032275907,
          0.3094760781922671,
          0.2509246010829903,
          0.27688397662564296,
          0.287364984647844,
          0.23666716852077338,
          0.29643704265806364,
          0.28451688029284716,
          0.2953996038541027,
          0.27850449329460375,
          0.2967422563184626,
          0.31429192027121844,
          0.3008577172402906,
          0.2935484274458058,
          0.27774509456989227,
          0.2728220862444417,
          0.280391541103268,
          0.2753959267735982,
          0.3104089488056455,
          0.2885684238050206,
          0.28227747949176357,
          0.28461739047481105,
          0.2952729629028574,
          0.30138363691412706
         ],
         "yaxis": "y4"
        },
        {
         "marker": {
          "color": [
           0,
           1,
           2,
           3,
           4,
           5,
           6,
           7,
           8,
           9,
           10,
           11,
           12,
           13,
           14,
           15,
           16,
           17,
           18,
           19,
           20,
           21,
           22,
           23,
           24,
           25,
           26,
           27,
           28,
           29
          ],
          "colorbar": {
           "title": {
            "text": "Trial"
           },
           "x": 1,
           "xpad": 40
          },
          "colorscale": [
           [
            0,
            "rgb(247,251,255)"
           ],
           [
            0.125,
            "rgb(222,235,247)"
           ],
           [
            0.25,
            "rgb(198,219,239)"
           ],
           [
            0.375,
            "rgb(158,202,225)"
           ],
           [
            0.5,
            "rgb(107,174,214)"
           ],
           [
            0.625,
            "rgb(66,146,198)"
           ],
           [
            0.75,
            "rgb(33,113,181)"
           ],
           [
            0.875,
            "rgb(8,81,156)"
           ],
           [
            1,
            "rgb(8,48,107)"
           ]
          ],
          "line": {
           "color": "Grey",
           "width": 0.5
          },
          "showscale": false
         },
         "mode": "markers",
         "showlegend": false,
         "type": "scatter",
         "x": [
          0.9758238997316266,
          0.5144214507766243,
          0.7996440654764556,
          0.8686463607475218,
          0.6513676100038929,
          0.765778706063297,
          0.6862520381581225,
          0.5683352575495317,
          0.7333904104899652,
          0.6390647040404028,
          0.7680903497446363,
          0.9993890459446064,
          0.7778247111334456,
          0.504806662395737,
          0.512291319837304,
          0.5097517171524042,
          0.6002411538590419,
          0.593876716521791,
          0.593138021368973,
          0.5783608651004922,
          0.5827481750178813,
          0.5759663605790507,
          0.5555777153402403,
          0.5753895546699992,
          0.6005116333679441,
          0.6176998731420471,
          0.6364733362335198,
          0.6287854737522572,
          0.6577903781400687,
          0.675843472103458
         ],
         "xaxis": "x5",
         "y": [
          0.28661326378838714,
          0.19185539204851193,
          0.29514785790066955,
          0.28076753209965877,
          0.25597297830619925,
          0.2622642241124945,
          0.24861501032275907,
          0.3094760781922671,
          0.2509246010829903,
          0.27688397662564296,
          0.287364984647844,
          0.23666716852077338,
          0.29643704265806364,
          0.28451688029284716,
          0.2953996038541027,
          0.27850449329460375,
          0.2967422563184626,
          0.31429192027121844,
          0.3008577172402906,
          0.2935484274458058,
          0.27774509456989227,
          0.2728220862444417,
          0.280391541103268,
          0.2753959267735982,
          0.3104089488056455,
          0.2885684238050206,
          0.28227747949176357,
          0.28461739047481105,
          0.2952729629028574,
          0.30138363691412706
         ],
         "yaxis": "y5"
        }
       ],
       "layout": {
        "template": {
         "data": {
          "bar": [
           {
            "error_x": {
             "color": "#2a3f5f"
            },
            "error_y": {
             "color": "#2a3f5f"
            },
            "marker": {
             "line": {
              "color": "#E5ECF6",
              "width": 0.5
             },
             "pattern": {
              "fillmode": "overlay",
              "size": 10,
              "solidity": 0.2
             }
            },
            "type": "bar"
           }
          ],
          "barpolar": [
           {
            "marker": {
             "line": {
              "color": "#E5ECF6",
              "width": 0.5
             },
             "pattern": {
              "fillmode": "overlay",
              "size": 10,
              "solidity": 0.2
             }
            },
            "type": "barpolar"
           }
          ],
          "carpet": [
           {
            "aaxis": {
             "endlinecolor": "#2a3f5f",
             "gridcolor": "white",
             "linecolor": "white",
             "minorgridcolor": "white",
             "startlinecolor": "#2a3f5f"
            },
            "baxis": {
             "endlinecolor": "#2a3f5f",
             "gridcolor": "white",
             "linecolor": "white",
             "minorgridcolor": "white",
             "startlinecolor": "#2a3f5f"
            },
            "type": "carpet"
           }
          ],
          "choropleth": [
           {
            "colorbar": {
             "outlinewidth": 0,
             "ticks": ""
            },
            "type": "choropleth"
           }
          ],
          "contour": [
           {
            "colorbar": {
             "outlinewidth": 0,
             "ticks": ""
            },
            "colorscale": [
             [
              0,
              "#0d0887"
             ],
             [
              0.1111111111111111,
              "#46039f"
             ],
             [
              0.2222222222222222,
              "#7201a8"
             ],
             [
              0.3333333333333333,
              "#9c179e"
             ],
             [
              0.4444444444444444,
              "#bd3786"
             ],
             [
              0.5555555555555556,
              "#d8576b"
             ],
             [
              0.6666666666666666,
              "#ed7953"
             ],
             [
              0.7777777777777778,
              "#fb9f3a"
             ],
             [
              0.8888888888888888,
              "#fdca26"
             ],
             [
              1,
              "#f0f921"
             ]
            ],
            "type": "contour"
           }
          ],
          "contourcarpet": [
           {
            "colorbar": {
             "outlinewidth": 0,
             "ticks": ""
            },
            "type": "contourcarpet"
           }
          ],
          "heatmap": [
           {
            "colorbar": {
             "outlinewidth": 0,
             "ticks": ""
            },
            "colorscale": [
             [
              0,
              "#0d0887"
             ],
             [
              0.1111111111111111,
              "#46039f"
             ],
             [
              0.2222222222222222,
              "#7201a8"
             ],
             [
              0.3333333333333333,
              "#9c179e"
             ],
             [
              0.4444444444444444,
              "#bd3786"
             ],
             [
              0.5555555555555556,
              "#d8576b"
             ],
             [
              0.6666666666666666,
              "#ed7953"
             ],
             [
              0.7777777777777778,
              "#fb9f3a"
             ],
             [
              0.8888888888888888,
              "#fdca26"
             ],
             [
              1,
              "#f0f921"
             ]
            ],
            "type": "heatmap"
           }
          ],
          "heatmapgl": [
           {
            "colorbar": {
             "outlinewidth": 0,
             "ticks": ""
            },
            "colorscale": [
             [
              0,
              "#0d0887"
             ],
             [
              0.1111111111111111,
              "#46039f"
             ],
             [
              0.2222222222222222,
              "#7201a8"
             ],
             [
              0.3333333333333333,
              "#9c179e"
             ],
             [
              0.4444444444444444,
              "#bd3786"
             ],
             [
              0.5555555555555556,
              "#d8576b"
             ],
             [
              0.6666666666666666,
              "#ed7953"
             ],
             [
              0.7777777777777778,
              "#fb9f3a"
             ],
             [
              0.8888888888888888,
              "#fdca26"
             ],
             [
              1,
              "#f0f921"
             ]
            ],
            "type": "heatmapgl"
           }
          ],
          "histogram": [
           {
            "marker": {
             "pattern": {
              "fillmode": "overlay",
              "size": 10,
              "solidity": 0.2
             }
            },
            "type": "histogram"
           }
          ],
          "histogram2d": [
           {
            "colorbar": {
             "outlinewidth": 0,
             "ticks": ""
            },
            "colorscale": [
             [
              0,
              "#0d0887"
             ],
             [
              0.1111111111111111,
              "#46039f"
             ],
             [
              0.2222222222222222,
              "#7201a8"
             ],
             [
              0.3333333333333333,
              "#9c179e"
             ],
             [
              0.4444444444444444,
              "#bd3786"
             ],
             [
              0.5555555555555556,
              "#d8576b"
             ],
             [
              0.6666666666666666,
              "#ed7953"
             ],
             [
              0.7777777777777778,
              "#fb9f3a"
             ],
             [
              0.8888888888888888,
              "#fdca26"
             ],
             [
              1,
              "#f0f921"
             ]
            ],
            "type": "histogram2d"
           }
          ],
          "histogram2dcontour": [
           {
            "colorbar": {
             "outlinewidth": 0,
             "ticks": ""
            },
            "colorscale": [
             [
              0,
              "#0d0887"
             ],
             [
              0.1111111111111111,
              "#46039f"
             ],
             [
              0.2222222222222222,
              "#7201a8"
             ],
             [
              0.3333333333333333,
              "#9c179e"
             ],
             [
              0.4444444444444444,
              "#bd3786"
             ],
             [
              0.5555555555555556,
              "#d8576b"
             ],
             [
              0.6666666666666666,
              "#ed7953"
             ],
             [
              0.7777777777777778,
              "#fb9f3a"
             ],
             [
              0.8888888888888888,
              "#fdca26"
             ],
             [
              1,
              "#f0f921"
             ]
            ],
            "type": "histogram2dcontour"
           }
          ],
          "mesh3d": [
           {
            "colorbar": {
             "outlinewidth": 0,
             "ticks": ""
            },
            "type": "mesh3d"
           }
          ],
          "parcoords": [
           {
            "line": {
             "colorbar": {
              "outlinewidth": 0,
              "ticks": ""
             }
            },
            "type": "parcoords"
           }
          ],
          "pie": [
           {
            "automargin": true,
            "type": "pie"
           }
          ],
          "scatter": [
           {
            "fillpattern": {
             "fillmode": "overlay",
             "size": 10,
             "solidity": 0.2
            },
            "type": "scatter"
           }
          ],
          "scatter3d": [
           {
            "line": {
             "colorbar": {
              "outlinewidth": 0,
              "ticks": ""
             }
            },
            "marker": {
             "colorbar": {
              "outlinewidth": 0,
              "ticks": ""
             }
            },
            "type": "scatter3d"
           }
          ],
          "scattercarpet": [
           {
            "marker": {
             "colorbar": {
              "outlinewidth": 0,
              "ticks": ""
             }
            },
            "type": "scattercarpet"
           }
          ],
          "scattergeo": [
           {
            "marker": {
             "colorbar": {
              "outlinewidth": 0,
              "ticks": ""
             }
            },
            "type": "scattergeo"
           }
          ],
          "scattergl": [
           {
            "marker": {
             "colorbar": {
              "outlinewidth": 0,
              "ticks": ""
             }
            },
            "type": "scattergl"
           }
          ],
          "scattermapbox": [
           {
            "marker": {
             "colorbar": {
              "outlinewidth": 0,
              "ticks": ""
             }
            },
            "type": "scattermapbox"
           }
          ],
          "scatterpolar": [
           {
            "marker": {
             "colorbar": {
              "outlinewidth": 0,
              "ticks": ""
             }
            },
            "type": "scatterpolar"
           }
          ],
          "scatterpolargl": [
           {
            "marker": {
             "colorbar": {
              "outlinewidth": 0,
              "ticks": ""
             }
            },
            "type": "scatterpolargl"
           }
          ],
          "scatterternary": [
           {
            "marker": {
             "colorbar": {
              "outlinewidth": 0,
              "ticks": ""
             }
            },
            "type": "scatterternary"
           }
          ],
          "surface": [
           {
            "colorbar": {
             "outlinewidth": 0,
             "ticks": ""
            },
            "colorscale": [
             [
              0,
              "#0d0887"
             ],
             [
              0.1111111111111111,
              "#46039f"
             ],
             [
              0.2222222222222222,
              "#7201a8"
             ],
             [
              0.3333333333333333,
              "#9c179e"
             ],
             [
              0.4444444444444444,
              "#bd3786"
             ],
             [
              0.5555555555555556,
              "#d8576b"
             ],
             [
              0.6666666666666666,
              "#ed7953"
             ],
             [
              0.7777777777777778,
              "#fb9f3a"
             ],
             [
              0.8888888888888888,
              "#fdca26"
             ],
             [
              1,
              "#f0f921"
             ]
            ],
            "type": "surface"
           }
          ],
          "table": [
           {
            "cells": {
             "fill": {
              "color": "#EBF0F8"
             },
             "line": {
              "color": "white"
             }
            },
            "header": {
             "fill": {
              "color": "#C8D4E3"
             },
             "line": {
              "color": "white"
             }
            },
            "type": "table"
           }
          ]
         },
         "layout": {
          "annotationdefaults": {
           "arrowcolor": "#2a3f5f",
           "arrowhead": 0,
           "arrowwidth": 1
          },
          "autotypenumbers": "strict",
          "coloraxis": {
           "colorbar": {
            "outlinewidth": 0,
            "ticks": ""
           }
          },
          "colorscale": {
           "diverging": [
            [
             0,
             "#8e0152"
            ],
            [
             0.1,
             "#c51b7d"
            ],
            [
             0.2,
             "#de77ae"
            ],
            [
             0.3,
             "#f1b6da"
            ],
            [
             0.4,
             "#fde0ef"
            ],
            [
             0.5,
             "#f7f7f7"
            ],
            [
             0.6,
             "#e6f5d0"
            ],
            [
             0.7,
             "#b8e186"
            ],
            [
             0.8,
             "#7fbc41"
            ],
            [
             0.9,
             "#4d9221"
            ],
            [
             1,
             "#276419"
            ]
           ],
           "sequential": [
            [
             0,
             "#0d0887"
            ],
            [
             0.1111111111111111,
             "#46039f"
            ],
            [
             0.2222222222222222,
             "#7201a8"
            ],
            [
             0.3333333333333333,
             "#9c179e"
            ],
            [
             0.4444444444444444,
             "#bd3786"
            ],
            [
             0.5555555555555556,
             "#d8576b"
            ],
            [
             0.6666666666666666,
             "#ed7953"
            ],
            [
             0.7777777777777778,
             "#fb9f3a"
            ],
            [
             0.8888888888888888,
             "#fdca26"
            ],
            [
             1,
             "#f0f921"
            ]
           ],
           "sequentialminus": [
            [
             0,
             "#0d0887"
            ],
            [
             0.1111111111111111,
             "#46039f"
            ],
            [
             0.2222222222222222,
             "#7201a8"
            ],
            [
             0.3333333333333333,
             "#9c179e"
            ],
            [
             0.4444444444444444,
             "#bd3786"
            ],
            [
             0.5555555555555556,
             "#d8576b"
            ],
            [
             0.6666666666666666,
             "#ed7953"
            ],
            [
             0.7777777777777778,
             "#fb9f3a"
            ],
            [
             0.8888888888888888,
             "#fdca26"
            ],
            [
             1,
             "#f0f921"
            ]
           ]
          },
          "colorway": [
           "#636efa",
           "#EF553B",
           "#00cc96",
           "#ab63fa",
           "#FFA15A",
           "#19d3f3",
           "#FF6692",
           "#B6E880",
           "#FF97FF",
           "#FECB52"
          ],
          "font": {
           "color": "#2a3f5f"
          },
          "geo": {
           "bgcolor": "white",
           "lakecolor": "white",
           "landcolor": "#E5ECF6",
           "showlakes": true,
           "showland": true,
           "subunitcolor": "white"
          },
          "hoverlabel": {
           "align": "left"
          },
          "hovermode": "closest",
          "mapbox": {
           "style": "light"
          },
          "paper_bgcolor": "white",
          "plot_bgcolor": "#E5ECF6",
          "polar": {
           "angularaxis": {
            "gridcolor": "white",
            "linecolor": "white",
            "ticks": ""
           },
           "bgcolor": "#E5ECF6",
           "radialaxis": {
            "gridcolor": "white",
            "linecolor": "white",
            "ticks": ""
           }
          },
          "scene": {
           "xaxis": {
            "backgroundcolor": "#E5ECF6",
            "gridcolor": "white",
            "gridwidth": 2,
            "linecolor": "white",
            "showbackground": true,
            "ticks": "",
            "zerolinecolor": "white"
           },
           "yaxis": {
            "backgroundcolor": "#E5ECF6",
            "gridcolor": "white",
            "gridwidth": 2,
            "linecolor": "white",
            "showbackground": true,
            "ticks": "",
            "zerolinecolor": "white"
           },
           "zaxis": {
            "backgroundcolor": "#E5ECF6",
            "gridcolor": "white",
            "gridwidth": 2,
            "linecolor": "white",
            "showbackground": true,
            "ticks": "",
            "zerolinecolor": "white"
           }
          },
          "shapedefaults": {
           "line": {
            "color": "#2a3f5f"
           }
          },
          "ternary": {
           "aaxis": {
            "gridcolor": "white",
            "linecolor": "white",
            "ticks": ""
           },
           "baxis": {
            "gridcolor": "white",
            "linecolor": "white",
            "ticks": ""
           },
           "bgcolor": "#E5ECF6",
           "caxis": {
            "gridcolor": "white",
            "linecolor": "white",
            "ticks": ""
           }
          },
          "title": {
           "x": 0.05
          },
          "xaxis": {
           "automargin": true,
           "gridcolor": "white",
           "linecolor": "white",
           "ticks": "",
           "title": {
            "standoff": 15
           },
           "zerolinecolor": "white",
           "zerolinewidth": 2
          },
          "yaxis": {
           "automargin": true,
           "gridcolor": "white",
           "linecolor": "white",
           "ticks": "",
           "title": {
            "standoff": 15
           },
           "zerolinecolor": "white",
           "zerolinewidth": 2
          }
         }
        },
        "title": {
         "text": "Slice Plot"
        },
        "width": 1500,
        "xaxis": {
         "anchor": "y",
         "domain": [
          0,
          0.16799999999999998
         ],
         "title": {
          "text": "colsample_bytree"
         }
        },
        "xaxis2": {
         "anchor": "y2",
         "domain": [
          0.208,
          0.376
         ],
         "title": {
          "text": "learning_rate"
         },
         "type": "log"
        },
        "xaxis3": {
         "anchor": "y3",
         "domain": [
          0.416,
          0.584
         ],
         "title": {
          "text": "max_depth"
         }
        },
        "xaxis4": {
         "anchor": "y4",
         "domain": [
          0.624,
          0.792
         ],
         "title": {
          "text": "min_child_weight"
         }
        },
        "xaxis5": {
         "anchor": "y5",
         "domain": [
          0.832,
          1
         ],
         "title": {
          "text": "subsample"
         }
        },
        "yaxis": {
         "anchor": "x",
         "domain": [
          0,
          1
         ],
         "title": {
          "text": "Objective Value"
         }
        },
        "yaxis2": {
         "anchor": "x2",
         "domain": [
          0,
          1
         ],
         "matches": "y",
         "showticklabels": false
        },
        "yaxis3": {
         "anchor": "x3",
         "domain": [
          0,
          1
         ],
         "matches": "y",
         "showticklabels": false
        },
        "yaxis4": {
         "anchor": "x4",
         "domain": [
          0,
          1
         ],
         "matches": "y",
         "showticklabels": false
        },
        "yaxis5": {
         "anchor": "x5",
         "domain": [
          0,
          1
         ],
         "matches": "y",
         "showticklabels": false
        }
       }
      }
     },
     "metadata": {},
     "output_type": "display_data"
    }
   ],
   "source": [
    "plot_slice = optuna.visualization.plot_slice(study)\n",
    "plot_slice.show()"
   ]
  },
  {
   "cell_type": "code",
   "execution_count": 6,
   "metadata": {},
   "outputs": [
    {
     "data": {
      "text/plain": [
       "{'learning_rate': 0.0013765521522519826,\n",
       " 'max_depth': 7,\n",
       " 'subsample': 0.593876716521791,\n",
       " 'colsample_bytree': 0.5593209061489248,\n",
       " 'min_child_weight': 10}"
      ]
     },
     "execution_count": 6,
     "metadata": {},
     "output_type": "execute_result"
    }
   ],
   "source": [
    "study.best_params"
   ]
  },
  {
   "cell_type": "code",
   "execution_count": 8,
   "metadata": {},
   "outputs": [
    {
     "name": "stdout",
     "output_type": "stream",
     "text": [
      "Fold 0\n",
      "Fold 0 correlation: 0.4447325169641788\n",
      "Fold 1\n",
      "Fold 1 correlation: 0.22528727876288612\n",
      "Fold 2\n",
      "Fold 2 correlation: 0.2380093886010157\n",
      "Fold 3\n",
      "Fold 3 correlation: 0.19558930593096285\n",
      "Fold 4\n",
      "Fold 4 correlation: 0.23161099665906018\n",
      "Fold 5\n",
      "Fold 5 correlation: 0.20023949414613387\n",
      "Fold 6\n",
      "Fold 6 correlation: 0.3650968079901169\n",
      "Fold 7\n",
      "Fold 7 correlation: 0.29604622344118814\n",
      "Fold 8\n",
      "Fold 8 correlation: 0.2938050850066555\n",
      "Fold 9\n",
      "Fold 9 correlation: 0.24788837659812338\n",
      "[0.4447325169641788, 0.22528727876288612, 0.2380093886010157, 0.19558930593096285, 0.23161099665906018, 0.20023949414613387, 0.3650968079901169, 0.29604622344118814, 0.2938050850066555, 0.24788837659812338]\n"
     ]
    }
   ],
   "source": [
    "group_kfold = GroupKFold(n_splits=10)\n",
    "correlation_results = []\n",
    "\n",
    "for i, (train_index, test_index) in enumerate(group_kfold.split(X, groups=X['fold'])):\n",
    "    print(f\"Fold {i}\")\n",
    "    X_train, X_test = X.drop(columns=['ringnr', 'fold', 'ID', 'mean_pheno']).iloc[train_index], X.drop(columns=['ringnr', 'fold', 'ID', 'mean_pheno']).iloc[test_index]\n",
    "    y_train, y_test = X[[\"ID\",\"mean_pheno\"]].iloc[train_index], X[[\"ID\",\"mean_pheno\"]].iloc[test_index]\n",
    "    \n",
    "\n",
    "    model = xgb.XGBRegressor(\n",
    "        objective=\"reg:pseudohubererror\",\n",
    "        n_estimators=1000,\n",
    "        verbosity=0,\n",
    "        **study.best_params\n",
    "    )\n",
    "    model.fit(X_train, y_train[\"ID\"])\n",
    "    \n",
    "    preds = model.predict(X_test)\n",
    "    corr, _ = pearsonr(preds, y_test[\"mean_pheno\"])\n",
    "    print(f\"Fold {i} correlation: {corr}\")\n",
    "    correlation_results.append(corr)\n",
    "\n",
    "print(correlation_results)"
   ]
  },
  {
   "cell_type": "code",
   "execution_count": 10,
   "metadata": {},
   "outputs": [
    {
     "data": {
      "text/plain": [
       "0.2738305474100321"
      ]
     },
     "execution_count": 10,
     "metadata": {},
     "output_type": "execute_result"
    }
   ],
   "source": [
    "np.mean(correlation_results)"
   ]
  },
  {
   "cell_type": "code",
   "execution_count": 8,
   "metadata": {},
   "outputs": [
    {
     "data": {
      "text/plain": [
       "0.2777777777777778"
      ]
     },
     "execution_count": 8,
     "metadata": {},
     "output_type": "execute_result"
    }
   ],
   "source": [
    "5/18"
   ]
  }
 ],
 "metadata": {
  "kernelspec": {
   "display_name": "base",
   "language": "python",
   "name": "python3"
  },
  "language_info": {
   "codemirror_mode": {
    "name": "ipython",
    "version": 3
   },
   "file_extension": ".py",
   "mimetype": "text/x-python",
   "name": "python",
   "nbconvert_exporter": "python",
   "pygments_lexer": "ipython3",
   "version": "3.9.18"
  }
 },
 "nbformat": 4,
 "nbformat_minor": 2
}
