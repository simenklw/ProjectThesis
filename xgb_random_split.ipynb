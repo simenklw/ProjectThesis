{
 "cells": [
  {
   "cell_type": "code",
   "execution_count": 1,
   "metadata": {},
   "outputs": [],
   "source": [
    "import numpy as np\n",
    "import pandas as pd\n",
    "import xgboost as xgb\n",
    "from sklearn.metrics import mean_absolute_error\n",
    "import optuna\n",
    "from scipy.stats import pearsonr\n",
    "\n",
    "from split import prep_data_before_train, random_split, subset\n",
    "\n",
    "phenotype = \"mass\"\n",
    "\n",
    "data = pd.read_feather(f\"data/processed/{phenotype}BV.feather\")\n",
    "\n",
    "df, y, ringnrs, mean_pheno = prep_data_before_train(data, phenotype)\n",
    "del data\n",
    "df.drop(columns = [\"hatchisland\"], inplace = True)\n",
    "df[\"ringnr\"] = ringnrs   \n",
    "\n",
    "target = pd.DataFrame(y)\n",
    "target[\"mean_pheno\"] = mean_pheno\n",
    "target[\"ringnr\"] = ringnrs\n",
    "\n",
    "folds = random_split(phenotype, num_folds=10, seed=42)\n",
    "\n",
    "df = pd.merge(df,folds, on = \"ringnr\", how = \"inner\") \n",
    "df = pd.merge(df,target, on = \"ringnr\", how = \"inner\")\n",
    "\n",
    "df = subset(df, num_snps=2000)"
   ]
  },
  {
   "cell_type": "code",
   "execution_count": 2,
   "metadata": {},
   "outputs": [
    {
     "data": {
      "text/html": [
       "<div>\n",
       "<style scoped>\n",
       "    .dataframe tbody tr th:only-of-type {\n",
       "        vertical-align: middle;\n",
       "    }\n",
       "\n",
       "    .dataframe tbody tr th {\n",
       "        vertical-align: top;\n",
       "    }\n",
       "\n",
       "    .dataframe thead th {\n",
       "        text-align: right;\n",
       "    }\n",
       "</style>\n",
       "<table border=\"1\" class=\"dataframe\">\n",
       "  <thead>\n",
       "    <tr style=\"text-align: right;\">\n",
       "      <th></th>\n",
       "      <th>SNPa352024_T</th>\n",
       "      <th>SNPa51204_C</th>\n",
       "      <th>SNPa371349_T</th>\n",
       "      <th>SNPa86522_T</th>\n",
       "      <th>SNPa395916_T</th>\n",
       "      <th>SNPa302259_A</th>\n",
       "      <th>SNPa524601_A</th>\n",
       "      <th>SNPa483891_T</th>\n",
       "      <th>SNPa207156_T</th>\n",
       "      <th>SNPa77054_G</th>\n",
       "      <th>...</th>\n",
       "      <th>SNPa203182_G</th>\n",
       "      <th>SNPa403306_G</th>\n",
       "      <th>SNPa190407_A</th>\n",
       "      <th>SNPa212927_G</th>\n",
       "      <th>SNPa450571_C</th>\n",
       "      <th>SNPa203827_A</th>\n",
       "      <th>ringnr</th>\n",
       "      <th>fold</th>\n",
       "      <th>ID</th>\n",
       "      <th>mean_pheno</th>\n",
       "    </tr>\n",
       "  </thead>\n",
       "  <tbody>\n",
       "    <tr>\n",
       "      <th>0</th>\n",
       "      <td>0</td>\n",
       "      <td>0</td>\n",
       "      <td>1</td>\n",
       "      <td>2</td>\n",
       "      <td>1</td>\n",
       "      <td>0</td>\n",
       "      <td>0</td>\n",
       "      <td>1</td>\n",
       "      <td>0</td>\n",
       "      <td>0</td>\n",
       "      <td>...</td>\n",
       "      <td>0</td>\n",
       "      <td>1</td>\n",
       "      <td>1</td>\n",
       "      <td>0</td>\n",
       "      <td>0</td>\n",
       "      <td>0</td>\n",
       "      <td>8118424</td>\n",
       "      <td>0</td>\n",
       "      <td>0.519577</td>\n",
       "      <td>32.600000</td>\n",
       "    </tr>\n",
       "    <tr>\n",
       "      <th>1</th>\n",
       "      <td>0</td>\n",
       "      <td>0</td>\n",
       "      <td>1</td>\n",
       "      <td>2</td>\n",
       "      <td>0</td>\n",
       "      <td>0</td>\n",
       "      <td>0</td>\n",
       "      <td>1</td>\n",
       "      <td>0</td>\n",
       "      <td>1</td>\n",
       "      <td>...</td>\n",
       "      <td>0</td>\n",
       "      <td>1</td>\n",
       "      <td>1</td>\n",
       "      <td>0</td>\n",
       "      <td>0</td>\n",
       "      <td>0</td>\n",
       "      <td>8118425</td>\n",
       "      <td>8</td>\n",
       "      <td>-1.044296</td>\n",
       "      <td>30.300000</td>\n",
       "    </tr>\n",
       "    <tr>\n",
       "      <th>2</th>\n",
       "      <td>0</td>\n",
       "      <td>0</td>\n",
       "      <td>0</td>\n",
       "      <td>1</td>\n",
       "      <td>0</td>\n",
       "      <td>0</td>\n",
       "      <td>0</td>\n",
       "      <td>0</td>\n",
       "      <td>0</td>\n",
       "      <td>1</td>\n",
       "      <td>...</td>\n",
       "      <td>0</td>\n",
       "      <td>0</td>\n",
       "      <td>2</td>\n",
       "      <td>0</td>\n",
       "      <td>0</td>\n",
       "      <td>0</td>\n",
       "      <td>8118426</td>\n",
       "      <td>9</td>\n",
       "      <td>0.918158</td>\n",
       "      <td>33.316667</td>\n",
       "    </tr>\n",
       "    <tr>\n",
       "      <th>3</th>\n",
       "      <td>0</td>\n",
       "      <td>0</td>\n",
       "      <td>0</td>\n",
       "      <td>0</td>\n",
       "      <td>0</td>\n",
       "      <td>0</td>\n",
       "      <td>0</td>\n",
       "      <td>1</td>\n",
       "      <td>0</td>\n",
       "      <td>1</td>\n",
       "      <td>...</td>\n",
       "      <td>1</td>\n",
       "      <td>0</td>\n",
       "      <td>0</td>\n",
       "      <td>0</td>\n",
       "      <td>0</td>\n",
       "      <td>2</td>\n",
       "      <td>8118429</td>\n",
       "      <td>5</td>\n",
       "      <td>-0.093239</td>\n",
       "      <td>31.300000</td>\n",
       "    </tr>\n",
       "    <tr>\n",
       "      <th>4</th>\n",
       "      <td>0</td>\n",
       "      <td>0</td>\n",
       "      <td>0</td>\n",
       "      <td>2</td>\n",
       "      <td>1</td>\n",
       "      <td>0</td>\n",
       "      <td>0</td>\n",
       "      <td>1</td>\n",
       "      <td>0</td>\n",
       "      <td>0</td>\n",
       "      <td>...</td>\n",
       "      <td>0</td>\n",
       "      <td>1</td>\n",
       "      <td>1</td>\n",
       "      <td>0</td>\n",
       "      <td>0</td>\n",
       "      <td>0</td>\n",
       "      <td>8118430</td>\n",
       "      <td>3</td>\n",
       "      <td>-1.010615</td>\n",
       "      <td>29.900000</td>\n",
       "    </tr>\n",
       "  </tbody>\n",
       "</table>\n",
       "<p>5 rows × 2004 columns</p>\n",
       "</div>"
      ],
      "text/plain": [
       "   SNPa352024_T  SNPa51204_C  SNPa371349_T  SNPa86522_T  SNPa395916_T  \\\n",
       "0             0            0             1            2             1   \n",
       "1             0            0             1            2             0   \n",
       "2             0            0             0            1             0   \n",
       "3             0            0             0            0             0   \n",
       "4             0            0             0            2             1   \n",
       "\n",
       "   SNPa302259_A  SNPa524601_A  SNPa483891_T  SNPa207156_T  SNPa77054_G  ...  \\\n",
       "0             0             0             1             0            0  ...   \n",
       "1             0             0             1             0            1  ...   \n",
       "2             0             0             0             0            1  ...   \n",
       "3             0             0             1             0            1  ...   \n",
       "4             0             0             1             0            0  ...   \n",
       "\n",
       "   SNPa203182_G  SNPa403306_G  SNPa190407_A  SNPa212927_G  SNPa450571_C  \\\n",
       "0             0             1             1             0             0   \n",
       "1             0             1             1             0             0   \n",
       "2             0             0             2             0             0   \n",
       "3             1             0             0             0             0   \n",
       "4             0             1             1             0             0   \n",
       "\n",
       "   SNPa203827_A   ringnr  fold        ID  mean_pheno  \n",
       "0             0  8118424     0  0.519577   32.600000  \n",
       "1             0  8118425     8 -1.044296   30.300000  \n",
       "2             0  8118426     9  0.918158   33.316667  \n",
       "3             2  8118429     5 -0.093239   31.300000  \n",
       "4             0  8118430     3 -1.010615   29.900000  \n",
       "\n",
       "[5 rows x 2004 columns]"
      ]
     },
     "execution_count": 2,
     "metadata": {},
     "output_type": "execute_result"
    }
   ],
   "source": [
    "df.head()"
   ]
  },
  {
   "cell_type": "code",
   "execution_count": null,
   "metadata": {},
   "outputs": [
    {
     "name": "stderr",
     "output_type": "stream",
     "text": [
      "[I 2024-10-23 13:26:26,990] A new study created in memory with name: no-name-a69b0b17-246f-4c66-8333-ab19ace1d348\n"
     ]
    },
    {
     "name": "stdout",
     "output_type": "stream",
     "text": [
      "Validation Fold 1 - MAE: 0.7506806026625344\n",
      "Validation Fold 1 - MAE: 0.7422806491840818\n",
      "Validation Fold 1 - MAE: 0.7500361045936805\n",
      "Validation Fold 1 - MAE: 0.7520256787134997\n",
      "Validation Fold 2 - MAE: 0.6885911428604867\n",
      "Validation Fold 2 - MAE: 0.6747338930040979\n",
      "Validation Fold 3 - MAE: 0.7382539801587296\n",
      "Validation Fold 2 - MAE: 0.6761096148480559\n",
      "Validation Fold 2 - MAE: 0.6713405383275036\n",
      "Validation Fold 3 - MAE: 0.7181295378613338\n",
      "Validation Fold 4 - MAE: 0.7589415692890458\n",
      "Validation Fold 3 - MAE: 0.716087588577699\n",
      "Validation Fold 4 - MAE: 0.7726890017066684\n",
      "Validation Fold 5 - MAE: 0.7850182826444922\n",
      "Validation Fold 3 - MAE: 0.7056000635594711\n",
      "Validation Fold 6 - MAE: 0.7836449742113688\n",
      "Validation Fold 5 - MAE: 0.7656686333055722\n",
      "Validation Fold 4 - MAE: 0.7720341703893593\n",
      "Validation Fold 4 - MAE: 0.7594102413223602\n",
      "Validation Fold 7 - MAE: 0.7500738820989467\n",
      "Validation Fold 6 - MAE: 0.781817537306741\n",
      "Validation Fold 5 - MAE: 0.7675737383500771\n",
      "Validation Fold 8 - MAE: 0.7824667178560014\n",
      "Validation Fold 5 - MAE: 0.7526224261701455\n",
      "Validation Fold 7 - MAE: 0.7567593043613288\n"
     ]
    },
    {
     "name": "stderr",
     "output_type": "stream",
     "text": [
      "[I 2024-10-23 13:30:57,804] Trial 1 finished with value: 0.7655400057746145 and parameters: {'learning_rate': 0.02817567287043857, 'max_depth': 5, 'subsample': 0.6677755861963288, 'colsample_bytree': 0.7892268649775355, 'min_child_weight': 28}. Best is trial 1 with value: 0.7655400057746145.\n"
     ]
    },
    {
     "name": "stdout",
     "output_type": "stream",
     "text": [
      "Validation Fold 9 - MAE: 0.8521889001899239\n",
      "Validation Fold 6 - MAE: 0.7683992492326938\n",
      "Validation Fold 8 - MAE: 0.7856870843195026\n",
      "Validation Fold 6 - MAE: 0.7638462460875868\n",
      "Validation Fold 1 - MAE: 0.7396736635763658\n",
      "Validation Fold 7 - MAE: 0.7624585324868534\n"
     ]
    },
    {
     "name": "stderr",
     "output_type": "stream",
     "text": [
      "[I 2024-10-23 13:31:52,204] Trial 2 finished with value: 0.7598450027453633 and parameters: {'learning_rate': 0.013488855185003186, 'max_depth': 7, 'subsample': 0.7494111847538755, 'colsample_bytree': 0.7921994720260556, 'min_child_weight': 1}. Best is trial 2 with value: 0.7598450027453633.\n"
     ]
    },
    {
     "name": "stdout",
     "output_type": "stream",
     "text": [
      "Validation Fold 9 - MAE: 0.8408393836589431\n",
      "Validation Fold 2 - MAE: 0.6693858366075546\n",
      "Validation Fold 7 - MAE: 0.7498359013250225\n",
      "Validation Fold 1 - MAE: 0.7761999926054122\n",
      "Validation Fold 8 - MAE: 0.7804014438223638\n",
      "Validation Fold 2 - MAE: 0.6955146300537813\n",
      "Validation Fold 3 - MAE: 0.7080011555176169\n",
      "Validation Fold 8 - MAE: 0.7784032645394272\n",
      "Validation Fold 3 - MAE: 0.7096798696227503\n"
     ]
    },
    {
     "name": "stderr",
     "output_type": "stream",
     "text": [
      "[I 2024-10-23 13:33:14,199] Trial 3 finished with value: 0.760214466102273 and parameters: {'learning_rate': 0.012661886053263544, 'max_depth': 12, 'subsample': 0.6640741619061117, 'colsample_bytree': 0.8812053861023668, 'min_child_weight': 5}. Best is trial 2 with value: 0.7598450027453633.\n"
     ]
    },
    {
     "name": "stdout",
     "output_type": "stream",
     "text": [
      "Validation Fold 9 - MAE: 0.8488297526196737\n",
      "Validation Fold 4 - MAE: 0.7539193092074653\n",
      "Validation Fold 4 - MAE: 0.7622380612930261\n",
      "Validation Fold 1 - MAE: 0.7273773932174779\n",
      "Validation Fold 5 - MAE: 0.7585602322716539\n"
     ]
    },
    {
     "name": "stderr",
     "output_type": "stream",
     "text": [
      "[I 2024-10-23 13:33:56,534] Trial 0 finished with value: 0.754199173168217 and parameters: {'learning_rate': 0.005421511099921678, 'max_depth': 12, 'subsample': 0.5992622294605381, 'colsample_bytree': 0.8079552243654899, 'min_child_weight': 2}. Best is trial 0 with value: 0.754199173168217.\n"
     ]
    },
    {
     "name": "stdout",
     "output_type": "stream",
     "text": [
      "Validation Fold 9 - MAE: 0.8547081984689371\n",
      "Validation Fold 5 - MAE: 0.7602094501894592\n",
      "Validation Fold 6 - MAE: 0.7642770972749339\n",
      "Validation Fold 2 - MAE: 0.6978881347646985\n",
      "Validation Fold 1 - MAE: 0.7506130024070998\n",
      "Validation Fold 6 - MAE: 0.7741653989611286\n",
      "Validation Fold 7 - MAE: 0.7862087624893267\n",
      "Validation Fold 8 - MAE: 0.8002596683529943\n",
      "Validation Fold 3 - MAE: 0.7392299164616299\n",
      "Validation Fold 2 - MAE: 0.6725950671732602\n",
      "Validation Fold 7 - MAE: 0.742937603904176\n"
     ]
    },
    {
     "name": "stderr",
     "output_type": "stream",
     "text": [
      "[I 2024-10-23 13:35:40,622] Trial 5 finished with value: 0.7715872807195319 and parameters: {'learning_rate': 0.0011394978215269825, 'max_depth': 2, 'subsample': 0.5570349212340941, 'colsample_bytree': 0.7778543579302232, 'min_child_weight': 21}. Best is trial 0 with value: 0.754199173168217.\n"
     ]
    },
    {
     "name": "stdout",
     "output_type": "stream",
     "text": [
      "Validation Fold 9 - MAE: 0.8913472125119073\n",
      "Validation Fold 8 - MAE: 0.7836646196271098\n",
      "Validation Fold 4 - MAE: 0.7888167755284998\n",
      "Validation Fold 3 - MAE: 0.7047058064955846\n",
      "Validation Fold 1 - MAE: 0.7376539730730408\n"
     ]
    },
    {
     "name": "stderr",
     "output_type": "stream",
     "text": [
      "[I 2024-10-23 13:36:31,610] Trial 4 finished with value: 0.7542161048796677 and parameters: {'learning_rate': 0.009333142357953616, 'max_depth': 9, 'subsample': 0.7342556675539299, 'colsample_bytree': 0.509186867080998, 'min_child_weight': 21}. Best is trial 0 with value: 0.754199173168217.\n"
     ]
    },
    {
     "name": "stdout",
     "output_type": "stream",
     "text": [
      "Validation Fold 9 - MAE: 0.8559879063261341\n",
      "Validation Fold 5 - MAE: 0.7977274492016387\n",
      "Validation Fold 4 - MAE: 0.7546427074119433\n",
      "Validation Fold 2 - MAE: 0.6836582158393786\n",
      "Validation Fold 1 - MAE: 0.7494765129099271\n",
      "Validation Fold 6 - MAE: 0.7889175604605135\n",
      "Validation Fold 5 - MAE: 0.7583642850873588\n",
      "Validation Fold 3 - MAE: 0.7070865588700844\n",
      "Validation Fold 2 - MAE: 0.7104605683401773\n",
      "Validation Fold 7 - MAE: 0.7466212858873708\n",
      "Validation Fold 6 - MAE: 0.7541707399857297\n",
      "Validation Fold 4 - MAE: 0.7755092220379657\n",
      "Validation Fold 3 - MAE: 0.7323350725751147\n",
      "Validation Fold 5 - MAE: 0.778219109685751\n",
      "Validation Fold 8 - MAE: 0.8096337328303752\n",
      "Validation Fold 7 - MAE: 0.7539032035340535\n",
      "Validation Fold 4 - MAE: 0.7704922280407107\n",
      "Validation Fold 6 - MAE: 0.7791670257997604\n"
     ]
    },
    {
     "name": "stderr",
     "output_type": "stream",
     "text": [
      "[I 2024-10-23 13:39:11,364] Trial 6 finished with value: 0.7766077222167509 and parameters: {'learning_rate': 0.0656534718619669, 'max_depth': 12, 'subsample': 0.829638489988696, 'colsample_bytree': 0.684722669718568, 'min_child_weight': 27}. Best is trial 0 with value: 0.754199173168217.\n"
     ]
    },
    {
     "name": "stdout",
     "output_type": "stream",
     "text": [
      "Validation Fold 9 - MAE: 0.8932572515985541\n",
      "Validation Fold 8 - MAE: 0.7727343047928515\n",
      "Validation Fold 5 - MAE: 0.801383682069194\n",
      "Validation Fold 7 - MAE: 0.7576660715943512\n"
     ]
    },
    {
     "name": "stderr",
     "output_type": "stream",
     "text": [
      "[I 2024-10-23 13:39:47,942] Trial 7 finished with value: 0.7532981996311817 and parameters: {'learning_rate': 0.004084303875771014, 'max_depth': 10, 'subsample': 0.8335115610799266, 'colsample_bytree': 0.642253960873082, 'min_child_weight': 8}. Best is trial 7 with value: 0.7532981996311817.\n"
     ]
    },
    {
     "name": "stdout",
     "output_type": "stream",
     "text": [
      "Validation Fold 9 - MAE: 0.8579546797927536\n",
      "Validation Fold 6 - MAE: 0.802266803010086\n",
      "Validation Fold 8 - MAE: 0.7788930539237503\n",
      "Validation Fold 7 - MAE: 0.7695041238296945\n"
     ]
    },
    {
     "name": "stderr",
     "output_type": "stream",
     "text": [
      "[I 2024-10-23 13:40:21,635] Trial 8 finished with value: 0.760818490134416 and parameters: {'learning_rate': 0.014161253676039171, 'max_depth': 7, 'subsample': 0.8099103999132531, 'colsample_bytree': 0.669814176642056, 'min_child_weight': 6}. Best is trial 7 with value: 0.7532981996311817.\n"
     ]
    },
    {
     "name": "stdout",
     "output_type": "stream",
     "text": [
      "Validation Fold 9 - MAE: 0.8495131803856617\n",
      "Validation Fold 8 - MAE: 0.7929156362594332\n"
     ]
    },
    {
     "name": "stderr",
     "output_type": "stream",
     "text": [
      "[I 2024-10-23 13:40:50,745] Trial 9 finished with value: 0.7774515212785167 and parameters: {'learning_rate': 0.06274295006057257, 'max_depth': 9, 'subsample': 0.7987803559886201, 'colsample_bytree': 0.563247456889068, 'min_child_weight': 27}. Best is trial 7 with value: 0.7532981996311817.\n"
     ]
    },
    {
     "name": "stdout",
     "output_type": "stream",
     "text": [
      "Validation Fold 9 - MAE: 0.8682290644723125\n"
     ]
    },
    {
     "name": "stderr",
     "output_type": "stream",
     "text": [
      "[I 2024-10-23 13:41:16,571] A new study created in memory with name: no-name-0fd9f02a-f236-4592-ad11-69b28b43f906\n"
     ]
    },
    {
     "name": "stdout",
     "output_type": "stream",
     "text": [
      "Test Fold 0 - MAE: 0.7327876996940899\n",
      "Test Fold 0 - Correlation: 0.24021677554077234\n",
      "Validation Fold 0 - MAE: 0.7344003926110568\n",
      "Validation Fold 0 - MAE: 0.7234088097857866\n",
      "Validation Fold 0 - MAE: 0.7379149803868614\n",
      "Validation Fold 0 - MAE: 0.7325609880288834\n",
      "Validation Fold 2 - MAE: 0.6799938198163887\n",
      "Validation Fold 2 - MAE: 0.7006205056548013\n",
      "Validation Fold 2 - MAE: 0.6796859180536163\n",
      "Validation Fold 2 - MAE: 0.6888953658688273\n",
      "Validation Fold 3 - MAE: 0.6969096162396905\n",
      "Validation Fold 3 - MAE: 0.7188333911933378\n",
      "Validation Fold 3 - MAE: 0.6989869190053483\n",
      "Validation Fold 3 - MAE: 0.7032084218309606\n",
      "Validation Fold 4 - MAE: 0.7524391424789695\n",
      "Validation Fold 4 - MAE: 0.7691611688306915\n",
      "Validation Fold 4 - MAE: 0.7612913282047944\n",
      "Validation Fold 4 - MAE: 0.7579003403898884\n",
      "Validation Fold 5 - MAE: 0.7655469862210217\n",
      "Validation Fold 6 - MAE: 0.7611463860899028\n",
      "Validation Fold 5 - MAE: 0.7787844504554428\n",
      "Validation Fold 5 - MAE: 0.7680101537455369\n",
      "Validation Fold 5 - MAE: 0.754339638970384\n",
      "Validation Fold 7 - MAE: 0.7656962445763155\n",
      "Validation Fold 6 - MAE: 0.778645799048307\n",
      "Validation Fold 6 - MAE: 0.7764783874664302\n",
      "Validation Fold 6 - MAE: 0.7608471082481337\n",
      "Validation Fold 8 - MAE: 0.7854936061362024\n",
      "Validation Fold 7 - MAE: 0.7382398762105118\n",
      "Validation Fold 7 - MAE: 0.7735166343858523\n",
      "Validation Fold 7 - MAE: 0.7320921211777295\n"
     ]
    },
    {
     "name": "stderr",
     "output_type": "stream",
     "text": [
      "[I 2024-10-23 13:45:40,502] Trial 0 finished with value: 0.7576776548860807 and parameters: {'learning_rate': 0.0070055524756118285, 'max_depth': 3, 'subsample': 0.6054746084852715, 'colsample_bytree': 0.5891477920722838, 'min_child_weight': 8}. Best is trial 0 with value: 0.7576776548860807.\n"
     ]
    },
    {
     "name": "stdout",
     "output_type": "stream",
     "text": [
      "Validation Fold 9 - MAE: 0.8774726998051782\n",
      "Validation Fold 8 - MAE: 0.7973811553021968\n",
      "Validation Fold 8 - MAE: 0.7967500885646936\n",
      "Validation Fold 8 - MAE: 0.7727379683653379\n",
      "Validation Fold 0 - MAE: 0.7221219387430304\n"
     ]
    },
    {
     "name": "stderr",
     "output_type": "stream",
     "text": [
      "[I 2024-10-23 13:46:37,328] Trial 1 finished with value: 0.7623674611814839 and parameters: {'learning_rate': 0.05069227741812235, 'max_depth': 9, 'subsample': 0.9552988144886079, 'colsample_bytree': 0.9807585152742724, 'min_child_weight': 17}. Best is trial 0 with value: 0.7576776548860807.\n"
     ]
    },
    {
     "name": "stdout",
     "output_type": "stream",
     "text": [
      "Validation Fold 9 - MAE: 0.8562319941522787\n"
     ]
    },
    {
     "name": "stderr",
     "output_type": "stream",
     "text": [
      "[I 2024-10-23 13:46:42,883] Trial 3 finished with value: 0.7618731595118461 and parameters: {'learning_rate': 0.0012973621131237803, 'max_depth': 12, 'subsample': 0.6479720522886887, 'colsample_bytree': 0.6441676218154967, 'min_child_weight': 18}. Best is trial 0 with value: 0.7576776548860807.\n"
     ]
    },
    {
     "name": "stdout",
     "output_type": "stream",
     "text": [
      "Validation Fold 9 - MAE: 0.883485856961014\n"
     ]
    },
    {
     "name": "stderr",
     "output_type": "stream",
     "text": [
      "[I 2024-10-23 13:46:43,833] Trial 2 finished with value: 0.7513137446725344 and parameters: {'learning_rate': 0.012077640983008136, 'max_depth': 8, 'subsample': 0.9827228892952833, 'colsample_bytree': 0.535980512050267, 'min_child_weight': 11}. Best is trial 2 with value: 0.7513137446725344.\n"
     ]
    },
    {
     "name": "stdout",
     "output_type": "stream",
     "text": [
      "Validation Fold 9 - MAE: 0.8399799180051327\n",
      "Validation Fold 2 - MAE: 0.6758094940339608\n",
      "Validation Fold 0 - MAE: 0.7383217977716692\n",
      "Validation Fold 0 - MAE: 0.7407536186381355\n",
      "Validation Fold 0 - MAE: 0.7268694799137125\n",
      "Validation Fold 3 - MAE: 0.6941456113181564\n",
      "Validation Fold 2 - MAE: 0.6851818198140348\n",
      "Validation Fold 2 - MAE: 0.6908907142913843\n",
      "Validation Fold 4 - MAE: 0.7602989904168006\n",
      "Validation Fold 2 - MAE: 0.6912699470196154\n",
      "Validation Fold 3 - MAE: 0.6906895863476494\n",
      "Validation Fold 3 - MAE: 0.7029029369159888\n",
      "Validation Fold 5 - MAE: 0.7609335118422719\n",
      "Validation Fold 3 - MAE: 0.6912731156754869\n",
      "Validation Fold 4 - MAE: 0.7598987499225828\n",
      "Validation Fold 4 - MAE: 0.7597538987781931\n",
      "Validation Fold 6 - MAE: 0.7548686668059403\n",
      "Validation Fold 4 - MAE: 0.7595958040286463\n",
      "Validation Fold 5 - MAE: 0.7757913484324378\n",
      "Validation Fold 5 - MAE: 0.7540759189000553\n",
      "Validation Fold 7 - MAE: 0.7498708523071599\n",
      "Validation Fold 5 - MAE: 0.7643897622245163\n",
      "Validation Fold 6 - MAE: 0.7847903774091813\n",
      "Validation Fold 6 - MAE: 0.7618587755911337\n",
      "Validation Fold 8 - MAE: 0.7818124431118197\n",
      "Validation Fold 6 - MAE: 0.7702012109033817\n",
      "Validation Fold 7 - MAE: 0.741657760910515\n",
      "Validation Fold 7 - MAE: 0.7771127232016406\n"
     ]
    },
    {
     "name": "stderr",
     "output_type": "stream",
     "text": [
      "[I 2024-10-23 13:51:31,205] Trial 4 finished with value: 0.7512596476190169 and parameters: {'learning_rate': 0.00863276853309714, 'max_depth': 11, 'subsample': 0.608662912109782, 'colsample_bytree': 0.5176043498138648, 'min_child_weight': 16}. Best is trial 4 with value: 0.7512596476190169.\n"
     ]
    },
    {
     "name": "stdout",
     "output_type": "stream",
     "text": [
      "Validation Fold 9 - MAE: 0.8614753199920132\n",
      "Validation Fold 8 - MAE: 0.7864543210740323\n",
      "Validation Fold 8 - MAE: 0.796789234131802\n",
      "Validation Fold 7 - MAE: 0.7550225207877371\n",
      "Validation Fold 0 - MAE: 0.7400399650818628\n"
     ]
    },
    {
     "name": "stderr",
     "output_type": "stream",
     "text": [
      "[I 2024-10-23 13:52:42,386] Trial 5 finished with value: 0.7569940767533233 and parameters: {'learning_rate': 0.01767145610286903, 'max_depth': 9, 'subsample': 0.706349035808308, 'colsample_bytree': 0.6949893360846221, 'min_child_weight': 19}. Best is trial 4 with value: 0.7512596476190169.\n"
     ]
    },
    {
     "name": "stdout",
     "output_type": "stream",
     "text": [
      "Validation Fold 9 - MAE: 0.8501609290978075\n"
     ]
    },
    {
     "name": "stderr",
     "output_type": "stream",
     "text": [
      "[I 2024-10-23 13:52:43,731] Trial 6 finished with value: 0.7632389243855209 and parameters: {'learning_rate': 0.0011333354735192968, 'max_depth': 11, 'subsample': 0.7640651147261996, 'colsample_bytree': 0.9748188319079087, 'min_child_weight': 27}. Best is trial 4 with value: 0.7512596476190169.\n"
     ]
    },
    {
     "name": "stdout",
     "output_type": "stream",
     "text": [
      "Validation Fold 9 - MAE: 0.885012499021354\n",
      "Validation Fold 8 - MAE: 0.7895137780909508\n",
      "Validation Fold 2 - MAE: 0.6918384011180084\n"
     ]
    }
   ],
   "source": [
    "# Function to perform hyperparameter optimization using Optuna\n",
    "def objective(trial, X_train, y_train):\n",
    "    params = {\n",
    "        \"objective\": \"reg:pseudohubererror\",\n",
    "        \"n_estimators\": 600,\n",
    "        \"verbosity\": 0, \n",
    "        \"learning_rate\": trial.suggest_float(\"learning_rate\", 1e-3, 0.1, log=True),\n",
    "        \"max_depth\": trial.suggest_int(\"max_depth\", 2, 12),\n",
    "        \"subsample\": trial.suggest_float(\"subsample\", 0.5, 1.0),\n",
    "        \"colsample_bytree\": trial.suggest_float(\"colsample_bytree\", 0.5, 1.0),\n",
    "        \"min_child_weight\": trial.suggest_int(\"min_child_weight\", 1, 30)  \n",
    "    }\n",
    "\n",
    "    model = xgb.XGBRegressor(**params, random_state = 42) \n",
    "    \n",
    "    # Perform cross-validation on the 9 inner folds\n",
    "    mae_list = []\n",
    "    for val_fold in range(0, 10):\n",
    "        if val_fold == test_fold:\n",
    "            continue\n",
    "        X_train_fold = X_train[X_train['fold'] != val_fold].drop(columns=['fold'])\n",
    "        y_train_fold = y_train[X_train['fold'] != val_fold]\n",
    "        X_val_fold = X_train[X_train['fold'] == val_fold].drop(columns=['fold'])\n",
    "        y_val_fold = y_train[X_train['fold'] == val_fold]\n",
    "        \n",
    "        model.fit(X_train_fold, y_train_fold)\n",
    "        y_pred = model.predict(X_val_fold)\n",
    "        mae = mean_absolute_error(y_val_fold, y_pred)\n",
    "        mae_list.append(mae)\n",
    "        print(f'Validation Fold {val_fold} - MAE: {mae}')\n",
    "    \n",
    "    return sum(mae_list) / len(mae_list)\n",
    "\n",
    "# Outer loop: Iterate through each fold for testing\n",
    "outer_mae = []\n",
    "outer_corr = []\n",
    "output_file = f\"xgb_random_split_{phenotype}.csv\"\n",
    "\n",
    "for test_fold in range(0, 10):\n",
    "    # Split data into training (9 folds) and testing (1 fold)\n",
    "    X_train = df[df['fold'] != test_fold].drop(columns=['ringnr', 'ID', 'mean_pheno'])\n",
    "    y_train = df[df['fold'] != test_fold][['ID', 'mean_pheno']]\n",
    "    \n",
    "    X_test = df[df['fold'] == test_fold].drop(columns=['ringnr', 'ID', 'mean_pheno'])\n",
    "    y_test = df[df['fold'] == test_fold][['ID', 'mean_pheno']]\n",
    "    \n",
    "    # Perform hyperparameter optimization using Optuna\n",
    "    study = optuna.create_study(direction='minimize')\n",
    "    study.optimize(lambda trial: objective(trial, X_train, y_train['ID']), n_trials=10, n_jobs=4)\n",
    "    \n",
    "    # Train the model with the best parameters on the 9 folds\n",
    "    best_params = study.best_params\n",
    "    best_model = xgb.XGBRegressor(\n",
    "        objective=\"reg:pseudohubererror\",\n",
    "        n_estimators=600,\n",
    "        verbosity=0,\n",
    "        **study.best_params,\n",
    "        random_state=42\n",
    "    )\n",
    "    best_model.fit(X_train.drop(columns=['fold']), y_train['ID'])\n",
    "    \n",
    "    # Evaluate on the test fold\n",
    "    y_pred = best_model.predict(X_test.drop(columns=['fold']))\n",
    "    test_mae = mean_absolute_error(y_test['ID'], y_pred)\n",
    "    outer_mae.append(test_mae)\n",
    "    corr = pearsonr(y_test['mean_pheno'], y_pred)[0]\n",
    "    outer_corr.append(corr)\n",
    "\n",
    "    print(f'Test Fold {test_fold} - MAE: {test_mae}')\n",
    "    print(f'Test Fold {test_fold} - Correlation: {corr}')\n",
    "\n",
    "    \n",
    "    with open(output_file, 'a') as f:\n",
    "        f.write(f'{test_fold},{test_mae},{corr}\\n')"
   ]
  }
 ],
 "metadata": {
  "kernelspec": {
   "display_name": "base",
   "language": "python",
   "name": "python3"
  },
  "language_info": {
   "codemirror_mode": {
    "name": "ipython",
    "version": 3
   },
   "file_extension": ".py",
   "mimetype": "text/x-python",
   "name": "python",
   "nbconvert_exporter": "python",
   "pygments_lexer": "ipython3",
   "version": "3.9.18"
  }
 },
 "nbformat": 4,
 "nbformat_minor": 2
}
