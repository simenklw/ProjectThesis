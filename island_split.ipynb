{
 "cells": [
  {
   "cell_type": "code",
   "execution_count": 1,
   "metadata": {},
   "outputs": [],
   "source": [
    "import numpy as np\n",
    "import pandas as pd\n",
    "import tqdm \n",
    "import cProfile\n",
    "import lightgbm as lgb\n",
    "from sklearn.model_selection import GroupKFold, train_test_split, KFold, cross_val_score\n",
    "from sklearn.metrics import mean_squared_error\n",
    "import optuna\n",
    "import logging\n",
    "from scipy.stats import pearsonr"
   ]
  },
  {
   "cell_type": "code",
   "execution_count": 12,
   "metadata": {},
   "outputs": [],
   "source": [
    "pheno = \"wing\"  \n",
    "\n",
    "data = pd.read_feather(f\"data/processed/{pheno}BV.feather\")  "
   ]
  },
  {
   "cell_type": "code",
   "execution_count": 13,
   "metadata": {},
   "outputs": [],
   "source": [
    "data = data[['ID', 'mean_pheno']]"
   ]
  },
  {
   "cell_type": "code",
   "execution_count": 14,
   "metadata": {},
   "outputs": [
    {
     "data": {
      "text/plain": [
       "0.30804649953559093"
      ]
     },
     "execution_count": 14,
     "metadata": {},
     "output_type": "execute_result"
    }
   ],
   "source": [
    "np.var(data)[0]/np.var(data)[1]"
   ]
  },
  {
   "cell_type": "code",
   "execution_count": 3,
   "metadata": {},
   "outputs": [
    {
     "name": "stdout",
     "output_type": "stream",
     "text": [
      "0 27\n",
      "1 26\n",
      "2 28\n",
      "3 38\n",
      "4 24\n",
      "5 20\n",
      "6 23\n",
      "7 22\n"
     ]
    }
   ],
   "source": [
    "#def island_split(pheno:str = \"mass\") -> pd.DataFrame:\n",
    "\n",
    "#pheno = \"mass\"  \n",
    "\n",
    "#data = pd.read_feather(f\"data/processed/{pheno}BV.feather\")  \n",
    "#data = data[[\"ringnr\", \"hatchisland\"]]\n",
    "\n",
    "\n",
    "#proceed with only the islands where the values count for hatchisland is greater than 10\n",
    "#island_counts = data.hatchisland.value_counts()\n",
    "#island_counts = island_counts[island_counts > 10]\n",
    "#display(island_counts)\n",
    "for i, island in enumerate(island_counts.index):\n",
    "   print(i, island)\n",
    "   #      fold = data[data.hatchisland == island][\"ringnr\"]\n",
    "##    fold_name = f\"island_fold_{island}_{pheno}.csv\"\n",
    "#    fold.to_csv(f\"data/interim/folds/{fold_name}\", index=False)\n",
    "#    print(f\"Island {island} has {len(fold)} samples + {i}\")"
   ]
  },
  {
   "cell_type": "code",
   "execution_count": 33,
   "metadata": {},
   "outputs": [],
   "source": [
    "from split import island_split"
   ]
  },
  {
   "cell_type": "code",
   "execution_count": 39,
   "metadata": {},
   "outputs": [],
   "source": [
    "folds = island_split(pheno=\"mass\")  "
   ]
  },
  {
   "cell_type": "code",
   "execution_count": 43,
   "metadata": {},
   "outputs": [
    {
     "data": {
      "text/plain": [
       "8"
      ]
     },
     "execution_count": 43,
     "metadata": {},
     "output_type": "execute_result"
    }
   ],
   "source": [
    "len(folds.fold.unique())"
   ]
  },
  {
   "cell_type": "code",
   "execution_count": 32,
   "metadata": {},
   "outputs": [
    {
     "data": {
      "text/plain": [
       "27    719\n",
       "26    418\n",
       "28    247\n",
       "38    153\n",
       "24    108\n",
       "20    103\n",
       "23    100\n",
       "22     37\n",
       "Name: hatchisland, dtype: int64"
      ]
     },
     "execution_count": 32,
     "metadata": {},
     "output_type": "execute_result"
    }
   ],
   "source": [
    "island_counts\n",
    "\n"
   ]
  },
  {
   "cell_type": "code",
   "execution_count": 22,
   "metadata": {},
   "outputs": [],
   "source": [
    "#for island in islands:\n",
    "#    fold = df[df.hatchisland == island]\n",
    "#    display(fold.head())"
   ]
  },
  {
   "cell_type": "code",
   "execution_count": 29,
   "metadata": {},
   "outputs": [
    {
     "name": "stdout",
     "output_type": "stream",
     "text": [
      "Phenotype: mass\n",
      "Mean of phnotype: 31.759. Variance of phenotype: 4.647. Variance of BV: 1.434. Correlation: 0.95124696456946\n",
      "\n",
      "\n",
      "Phenotype: tarsus\n",
      "Mean of phnotype: 19.466. Variance of phenotype: 0.642. Variance of BV: 0.592. Correlation: 0.987517996538674\n",
      "\n",
      "\n",
      "Phenotype: wing\n",
      "Mean of phnotype: 79.714. Variance of phenotype: 5.278. Variance of BV: 1.626. Correlation: 0.739816241885609\n",
      "\n",
      "\n"
     ]
    }
   ],
   "source": [
    "phenotypes = ['mass','tarsus','wing']\n",
    "\n",
    "for phenotype in phenotypes:\n",
    "    data = pd.read_feather(f\"data/processed/{phenotype}BV.feather\")\n",
    "\n",
    "    mean_pheno = np.round(np.mean(data['mean_pheno']),3)\n",
    "    var_pheno = np.round(np.var(data['mean_pheno']),3)\n",
    "    var_BV = np.round(np.var(data['ID']),3)\n",
    "    corr = pearsonr(data['mean_pheno'],data['ID'])[0]\n",
    "\n",
    "    print(f\"Phenotype: {phenotype}\")    \n",
    "    print(f\"Mean of phnotype: {mean_pheno}. Variance of phenotype: {var_pheno}. Variance of BV: {var_BV}. Correlation: {corr}\")\n",
    "    print(\"\\n\")"
   ]
  },
  {
   "cell_type": "code",
   "execution_count": null,
   "metadata": {},
   "outputs": [
    {
     "data": {
      "text/plain": [
       "1000.0"
      ]
     },
     "execution_count": 1,
     "metadata": {},
     "output_type": "execute_result"
    }
   ],
   "source": [
    "import numpy as np"
   ]
  },
  {
   "cell_type": "code",
   "execution_count": 15,
   "metadata": {},
   "outputs": [
    {
     "data": {
      "text/plain": [
       "array([   10,    20,    41,    84,   172,   350,   713,  1453,  2959,\n",
       "        6027, 12275, 24999])"
      ]
     },
     "execution_count": 15,
     "metadata": {},
     "output_type": "execute_result"
    }
   ],
   "source": [
    "start = np.log10(10)\n",
    "stop = np.log10(25000)\n",
    "\n",
    "np.logspace(start, stop, num=12, dtype=int, endpoint=True)"
   ]
  },
  {
   "cell_type": "code",
   "execution_count": 22,
   "metadata": {},
   "outputs": [
    {
     "data": {
      "text/plain": [
       "array([ 1000,  3500,  6000,  8500, 11000, 13500, 16000, 18500, 21000,\n",
       "       23500, 26000])"
      ]
     },
     "execution_count": 22,
     "metadata": {},
     "output_type": "execute_result"
    }
   ],
   "source": [
    "np.arange(1000, 27000, 2500)"
   ]
  }
 ],
 "metadata": {
  "kernelspec": {
   "display_name": "base",
   "language": "python",
   "name": "python3"
  },
  "language_info": {
   "codemirror_mode": {
    "name": "ipython",
    "version": 3
   },
   "file_extension": ".py",
   "mimetype": "text/x-python",
   "name": "python",
   "nbconvert_exporter": "python",
   "pygments_lexer": "ipython3",
   "version": "3.9.18"
  }
 },
 "nbformat": 4,
 "nbformat_minor": 2
}
