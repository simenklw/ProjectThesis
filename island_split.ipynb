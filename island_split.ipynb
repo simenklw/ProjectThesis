{
 "cells": [
  {
   "cell_type": "code",
   "execution_count": 1,
   "metadata": {},
   "outputs": [],
   "source": [
    "import numpy as np\n",
    "import pandas as pd\n",
    "import tqdm \n",
    "import cProfile\n",
    "import lightgbm as lgb\n",
    "from sklearn.model_selection import GroupKFold, train_test_split, KFold, cross_val_score\n",
    "from sklearn.metrics import mean_squared_error\n",
    "import optuna\n",
    "import logging\n",
    "import time\n",
    "from scipy.stats import pearsonr\n",
    "\n",
    "data = pd.read_feather(\"data/processed/massBV.feather\")"
   ]
  },
  {
   "cell_type": "code",
   "execution_count": 2,
   "metadata": {},
   "outputs": [],
   "source": [
    "def prep_data_before_train(data: pd.DataFrame, phenotype: str) -> tuple:\n",
    "    \"\"\"\n",
    "    prepare data for training, returns target vector and covariate-matrix and ringnrs for grouping\n",
    "    :param data: all data from dataloader script\n",
    "    :param phenotype: the phenotype to be predicted\n",
    "    :return: X, Y, ringnrs, X contain covariates and Y contains the phenotype\n",
    "    \"\"\"\n",
    "    ringnrs = data.ringnr\n",
    "    mean_pheno = data.mean_pheno\n",
    "    X = data.drop(\n",
    "        columns=[\n",
    "            \"ID\",\n",
    "            \"mass\",\n",
    "            \"tarsus\",\n",
    "            \"ringnr\",\n",
    "            \"mean_pheno\",\n",
    "            \"IID\",\n",
    "            \"FID\",\n",
    "            \"MAT\",\n",
    "            \"PAT\",\n",
    "            \"SEX\",\n",
    "            \"PHENOTYPE\",\n",
    "        ],\n",
    "        errors=\"ignore\",\n",
    "    )\n",
    "\n",
    "    try:\n",
    "        Y = data.loc[:, phenotype]\n",
    "    except KeyError:\n",
    "        try:\n",
    "            Y = data.ID\n",
    "        except AttributeError:\n",
    "            Y = data.mass\n",
    "    del data\n",
    "    try:\n",
    "        X.hatchyear = X.hatchyear.astype(\"int\")\n",
    "        X.island_current = X.island_current.astype(\"int\")\n",
    "    except AttributeError:\n",
    "        pass\n",
    "    Y = (Y - np.mean(Y))/np.std(Y)\n",
    "    X = X.fillna(0)\n",
    "    X = X.T\n",
    "    X = X.astype(\"int\")\n",
    "    X = X.T \n",
    "    return X, Y, ringnrs, mean_pheno"
   ]
  },
  {
   "cell_type": "code",
   "execution_count": 3,
   "metadata": {},
   "outputs": [],
   "source": [
    "X, y, ringnrs, mean_pheno = prep_data_before_train(data, \"mass\")\n",
    "del data\n",
    "X.drop(columns = [\"hatchisland\"], inplace = True)\n",
    "X[\"ringnr\"] = ringnrs   \n",
    "\n",
    "target = pd.DataFrame(y)\n",
    "target[\"mean_pheno\"] = mean_pheno\n",
    "target[\"ringnr\"] = ringnrs"
   ]
  },
  {
   "cell_type": "code",
   "execution_count": 4,
   "metadata": {},
   "outputs": [],
   "source": [
    "def island_split(pheno:str = \"mass\") -> pd.DataFrame:\n",
    "    data = pd.read_feather(f\"data/processed/{pheno}BV.feather\")  \n",
    "\n",
    "    table = pd.crosstab(data[\"hatchisland\"],data[\"hatchisland\"])\n",
    "    diag = np.diag(table)\n",
    "\n",
    "    # get the indexes of the 8 highest values in the diagonal\n",
    "    idx = np.argpartition(diag, -8)[-8:]\n",
    "\n",
    "    #islands with highest number of individuals\n",
    "    islands = table.index[idx]\n",
    "\n",
    "    # get the column hatchisland and ringnr for the 8 islands with the highest number of individuals\n",
    "    x = data.loc[data[\"hatchisland\"].isin(islands),[\"hatchisland\",\"ringnr\"]]\n",
    "    del data\n",
    "\n",
    "    #Now we will manually make folds for a 8-fold cross validation based on the hatchisland column\n",
    "    #The idea is to make 8 folds where each fold contains all individuals from one of the 8 islands with the highest number of individuals.\n",
    "    #This way we can make sure that the model is trained on all islands and tested on all islands. The size of the folds will be different.\n",
    "\n",
    "    #We will make a new column in the data frame called \"fold\" which will contain the fold number for each individual.\n",
    "    #The fold number will be between 1 and 8.\n",
    "\n",
    "\n",
    "    #initialize the fold column with zeros\n",
    "    x[\"fold\"] = 0\n",
    "\n",
    "    #initialize the fold number\n",
    "    fold = 1\n",
    "\n",
    "    #loop over the 8 islands with the highest number of individuals\n",
    "    for island in islands:\n",
    "        #get the indexes of the individuals from the current island\n",
    "        idx = x.loc[x[\"hatchisland\"] == island].index\n",
    "        #set the fold number for the individuals from the current island\n",
    "        x.loc[idx,\"fold\"] = fold\n",
    "        #increment the fold number\n",
    "        fold += 1\n",
    "\n",
    "    return x[[\"ringnr\",\"fold\"]]\n",
    "\n",
    "splits = island_split()"
   ]
  },
  {
   "cell_type": "code",
   "execution_count": 5,
   "metadata": {},
   "outputs": [],
   "source": [
    "X = pd.merge(X,splits, on = \"ringnr\", how = \"inner\") \n",
    "X = pd.merge(X,target, on = \"ringnr\", how = \"inner\")  "
   ]
  },
  {
   "cell_type": "code",
   "execution_count": 6,
   "metadata": {},
   "outputs": [],
   "source": [
    "def subset(X:pd.DataFrame, seed:int = 42, snp_prop:float = 0.2) -> pd.DataFrame:\n",
    "    \"\"\"\n",
    "    Function to subset the data into a smaller dataset for testing purposes, \n",
    "    sampling only a subset of the features\n",
    "    \"\"\"\n",
    "    np.random.seed(seed)\n",
    "    sample_columns = np.random.choice(X.columns[:-4], int(len(X.columns[:-4])*snp_prop), replace = False)\n",
    "    sample_columns = np.append(sample_columns, [\"ringnr\",\"fold\", \"ID\", \"mean_pheno\"])\n",
    "\n",
    "    return X[sample_columns]"
   ]
  },
  {
   "cell_type": "code",
   "execution_count": 7,
   "metadata": {},
   "outputs": [],
   "source": [
    "X = subset(X, snp_prop = 0.1)"
   ]
  },
  {
   "cell_type": "code",
   "execution_count": 8,
   "metadata": {},
   "outputs": [
    {
     "data": {
      "text/html": [
       "<div>\n",
       "<style scoped>\n",
       "    .dataframe tbody tr th:only-of-type {\n",
       "        vertical-align: middle;\n",
       "    }\n",
       "\n",
       "    .dataframe tbody tr th {\n",
       "        vertical-align: top;\n",
       "    }\n",
       "\n",
       "    .dataframe thead th {\n",
       "        text-align: right;\n",
       "    }\n",
       "</style>\n",
       "<table border=\"1\" class=\"dataframe\">\n",
       "  <thead>\n",
       "    <tr style=\"text-align: right;\">\n",
       "      <th></th>\n",
       "      <th>SNPa352024_T</th>\n",
       "      <th>SNPa51204_C</th>\n",
       "      <th>SNPa371349_T</th>\n",
       "      <th>SNPa86522_T</th>\n",
       "      <th>SNPa395916_T</th>\n",
       "      <th>SNPa302259_A</th>\n",
       "      <th>SNPa524601_A</th>\n",
       "      <th>SNPa483891_T</th>\n",
       "      <th>SNPa207156_T</th>\n",
       "      <th>SNPa77054_G</th>\n",
       "      <th>...</th>\n",
       "      <th>SNPa437479_G</th>\n",
       "      <th>SNPa179086_T</th>\n",
       "      <th>SNPa392716_T</th>\n",
       "      <th>SNPa415615_G</th>\n",
       "      <th>SNPa280074_G</th>\n",
       "      <th>SNPa220371_G</th>\n",
       "      <th>ringnr</th>\n",
       "      <th>fold</th>\n",
       "      <th>ID</th>\n",
       "      <th>mean_pheno</th>\n",
       "    </tr>\n",
       "  </thead>\n",
       "  <tbody>\n",
       "    <tr>\n",
       "      <th>0</th>\n",
       "      <td>0</td>\n",
       "      <td>0</td>\n",
       "      <td>1</td>\n",
       "      <td>2</td>\n",
       "      <td>1</td>\n",
       "      <td>0</td>\n",
       "      <td>0</td>\n",
       "      <td>1</td>\n",
       "      <td>0</td>\n",
       "      <td>0</td>\n",
       "      <td>...</td>\n",
       "      <td>1</td>\n",
       "      <td>1</td>\n",
       "      <td>1</td>\n",
       "      <td>1</td>\n",
       "      <td>0</td>\n",
       "      <td>0</td>\n",
       "      <td>8118424</td>\n",
       "      <td>8</td>\n",
       "      <td>0.519577</td>\n",
       "      <td>32.600000</td>\n",
       "    </tr>\n",
       "    <tr>\n",
       "      <th>1</th>\n",
       "      <td>0</td>\n",
       "      <td>0</td>\n",
       "      <td>1</td>\n",
       "      <td>2</td>\n",
       "      <td>0</td>\n",
       "      <td>0</td>\n",
       "      <td>0</td>\n",
       "      <td>1</td>\n",
       "      <td>0</td>\n",
       "      <td>1</td>\n",
       "      <td>...</td>\n",
       "      <td>1</td>\n",
       "      <td>0</td>\n",
       "      <td>1</td>\n",
       "      <td>1</td>\n",
       "      <td>1</td>\n",
       "      <td>0</td>\n",
       "      <td>8118425</td>\n",
       "      <td>8</td>\n",
       "      <td>-1.044296</td>\n",
       "      <td>30.300000</td>\n",
       "    </tr>\n",
       "    <tr>\n",
       "      <th>2</th>\n",
       "      <td>0</td>\n",
       "      <td>0</td>\n",
       "      <td>0</td>\n",
       "      <td>1</td>\n",
       "      <td>0</td>\n",
       "      <td>0</td>\n",
       "      <td>0</td>\n",
       "      <td>0</td>\n",
       "      <td>0</td>\n",
       "      <td>1</td>\n",
       "      <td>...</td>\n",
       "      <td>2</td>\n",
       "      <td>1</td>\n",
       "      <td>1</td>\n",
       "      <td>0</td>\n",
       "      <td>0</td>\n",
       "      <td>1</td>\n",
       "      <td>8118426</td>\n",
       "      <td>8</td>\n",
       "      <td>0.918158</td>\n",
       "      <td>33.316667</td>\n",
       "    </tr>\n",
       "    <tr>\n",
       "      <th>3</th>\n",
       "      <td>0</td>\n",
       "      <td>0</td>\n",
       "      <td>0</td>\n",
       "      <td>0</td>\n",
       "      <td>0</td>\n",
       "      <td>0</td>\n",
       "      <td>0</td>\n",
       "      <td>1</td>\n",
       "      <td>0</td>\n",
       "      <td>1</td>\n",
       "      <td>...</td>\n",
       "      <td>1</td>\n",
       "      <td>1</td>\n",
       "      <td>1</td>\n",
       "      <td>1</td>\n",
       "      <td>0</td>\n",
       "      <td>0</td>\n",
       "      <td>8118429</td>\n",
       "      <td>8</td>\n",
       "      <td>-0.093239</td>\n",
       "      <td>31.300000</td>\n",
       "    </tr>\n",
       "    <tr>\n",
       "      <th>4</th>\n",
       "      <td>0</td>\n",
       "      <td>0</td>\n",
       "      <td>0</td>\n",
       "      <td>2</td>\n",
       "      <td>1</td>\n",
       "      <td>0</td>\n",
       "      <td>0</td>\n",
       "      <td>1</td>\n",
       "      <td>0</td>\n",
       "      <td>0</td>\n",
       "      <td>...</td>\n",
       "      <td>1</td>\n",
       "      <td>2</td>\n",
       "      <td>1</td>\n",
       "      <td>1</td>\n",
       "      <td>0</td>\n",
       "      <td>0</td>\n",
       "      <td>8118430</td>\n",
       "      <td>8</td>\n",
       "      <td>-1.010615</td>\n",
       "      <td>29.900000</td>\n",
       "    </tr>\n",
       "    <tr>\n",
       "      <th>...</th>\n",
       "      <td>...</td>\n",
       "      <td>...</td>\n",
       "      <td>...</td>\n",
       "      <td>...</td>\n",
       "      <td>...</td>\n",
       "      <td>...</td>\n",
       "      <td>...</td>\n",
       "      <td>...</td>\n",
       "      <td>...</td>\n",
       "      <td>...</td>\n",
       "      <td>...</td>\n",
       "      <td>...</td>\n",
       "      <td>...</td>\n",
       "      <td>...</td>\n",
       "      <td>...</td>\n",
       "      <td>...</td>\n",
       "      <td>...</td>\n",
       "      <td>...</td>\n",
       "      <td>...</td>\n",
       "      <td>...</td>\n",
       "      <td>...</td>\n",
       "    </tr>\n",
       "    <tr>\n",
       "      <th>1880</th>\n",
       "      <td>0</td>\n",
       "      <td>0</td>\n",
       "      <td>0</td>\n",
       "      <td>0</td>\n",
       "      <td>0</td>\n",
       "      <td>0</td>\n",
       "      <td>0</td>\n",
       "      <td>0</td>\n",
       "      <td>0</td>\n",
       "      <td>1</td>\n",
       "      <td>...</td>\n",
       "      <td>1</td>\n",
       "      <td>1</td>\n",
       "      <td>0</td>\n",
       "      <td>0</td>\n",
       "      <td>1</td>\n",
       "      <td>0</td>\n",
       "      <td>8N87368</td>\n",
       "      <td>5</td>\n",
       "      <td>0.523029</td>\n",
       "      <td>32.900000</td>\n",
       "    </tr>\n",
       "    <tr>\n",
       "      <th>1881</th>\n",
       "      <td>0</td>\n",
       "      <td>0</td>\n",
       "      <td>0</td>\n",
       "      <td>1</td>\n",
       "      <td>0</td>\n",
       "      <td>0</td>\n",
       "      <td>1</td>\n",
       "      <td>0</td>\n",
       "      <td>1</td>\n",
       "      <td>1</td>\n",
       "      <td>...</td>\n",
       "      <td>0</td>\n",
       "      <td>2</td>\n",
       "      <td>0</td>\n",
       "      <td>0</td>\n",
       "      <td>1</td>\n",
       "      <td>0</td>\n",
       "      <td>8N87369</td>\n",
       "      <td>5</td>\n",
       "      <td>-0.241355</td>\n",
       "      <td>30.900000</td>\n",
       "    </tr>\n",
       "    <tr>\n",
       "      <th>1882</th>\n",
       "      <td>0</td>\n",
       "      <td>0</td>\n",
       "      <td>0</td>\n",
       "      <td>0</td>\n",
       "      <td>1</td>\n",
       "      <td>1</td>\n",
       "      <td>0</td>\n",
       "      <td>0</td>\n",
       "      <td>1</td>\n",
       "      <td>2</td>\n",
       "      <td>...</td>\n",
       "      <td>1</td>\n",
       "      <td>1</td>\n",
       "      <td>0</td>\n",
       "      <td>0</td>\n",
       "      <td>0</td>\n",
       "      <td>1</td>\n",
       "      <td>8N87371</td>\n",
       "      <td>5</td>\n",
       "      <td>0.515544</td>\n",
       "      <td>32.500000</td>\n",
       "    </tr>\n",
       "    <tr>\n",
       "      <th>1883</th>\n",
       "      <td>0</td>\n",
       "      <td>0</td>\n",
       "      <td>0</td>\n",
       "      <td>1</td>\n",
       "      <td>0</td>\n",
       "      <td>0</td>\n",
       "      <td>0</td>\n",
       "      <td>0</td>\n",
       "      <td>1</td>\n",
       "      <td>1</td>\n",
       "      <td>...</td>\n",
       "      <td>0</td>\n",
       "      <td>1</td>\n",
       "      <td>0</td>\n",
       "      <td>0</td>\n",
       "      <td>0</td>\n",
       "      <td>1</td>\n",
       "      <td>8N87372</td>\n",
       "      <td>5</td>\n",
       "      <td>0.494145</td>\n",
       "      <td>32.800000</td>\n",
       "    </tr>\n",
       "    <tr>\n",
       "      <th>1884</th>\n",
       "      <td>0</td>\n",
       "      <td>0</td>\n",
       "      <td>0</td>\n",
       "      <td>2</td>\n",
       "      <td>0</td>\n",
       "      <td>0</td>\n",
       "      <td>0</td>\n",
       "      <td>1</td>\n",
       "      <td>1</td>\n",
       "      <td>1</td>\n",
       "      <td>...</td>\n",
       "      <td>2</td>\n",
       "      <td>0</td>\n",
       "      <td>0</td>\n",
       "      <td>0</td>\n",
       "      <td>0</td>\n",
       "      <td>0</td>\n",
       "      <td>8N87709</td>\n",
       "      <td>8</td>\n",
       "      <td>0.602443</td>\n",
       "      <td>33.200000</td>\n",
       "    </tr>\n",
       "  </tbody>\n",
       "</table>\n",
       "<p>1885 rows × 18288 columns</p>\n",
       "</div>"
      ],
      "text/plain": [
       "      SNPa352024_T  SNPa51204_C  SNPa371349_T  SNPa86522_T  SNPa395916_T  \\\n",
       "0                0            0             1            2             1   \n",
       "1                0            0             1            2             0   \n",
       "2                0            0             0            1             0   \n",
       "3                0            0             0            0             0   \n",
       "4                0            0             0            2             1   \n",
       "...            ...          ...           ...          ...           ...   \n",
       "1880             0            0             0            0             0   \n",
       "1881             0            0             0            1             0   \n",
       "1882             0            0             0            0             1   \n",
       "1883             0            0             0            1             0   \n",
       "1884             0            0             0            2             0   \n",
       "\n",
       "      SNPa302259_A  SNPa524601_A  SNPa483891_T  SNPa207156_T  SNPa77054_G  \\\n",
       "0                0             0             1             0            0   \n",
       "1                0             0             1             0            1   \n",
       "2                0             0             0             0            1   \n",
       "3                0             0             1             0            1   \n",
       "4                0             0             1             0            0   \n",
       "...            ...           ...           ...           ...          ...   \n",
       "1880             0             0             0             0            1   \n",
       "1881             0             1             0             1            1   \n",
       "1882             1             0             0             1            2   \n",
       "1883             0             0             0             1            1   \n",
       "1884             0             0             1             1            1   \n",
       "\n",
       "      ...  SNPa437479_G  SNPa179086_T  SNPa392716_T  SNPa415615_G  \\\n",
       "0     ...             1             1             1             1   \n",
       "1     ...             1             0             1             1   \n",
       "2     ...             2             1             1             0   \n",
       "3     ...             1             1             1             1   \n",
       "4     ...             1             2             1             1   \n",
       "...   ...           ...           ...           ...           ...   \n",
       "1880  ...             1             1             0             0   \n",
       "1881  ...             0             2             0             0   \n",
       "1882  ...             1             1             0             0   \n",
       "1883  ...             0             1             0             0   \n",
       "1884  ...             2             0             0             0   \n",
       "\n",
       "      SNPa280074_G  SNPa220371_G   ringnr  fold        ID  mean_pheno  \n",
       "0                0             0  8118424     8  0.519577   32.600000  \n",
       "1                1             0  8118425     8 -1.044296   30.300000  \n",
       "2                0             1  8118426     8  0.918158   33.316667  \n",
       "3                0             0  8118429     8 -0.093239   31.300000  \n",
       "4                0             0  8118430     8 -1.010615   29.900000  \n",
       "...            ...           ...      ...   ...       ...         ...  \n",
       "1880             1             0  8N87368     5  0.523029   32.900000  \n",
       "1881             1             0  8N87369     5 -0.241355   30.900000  \n",
       "1882             0             1  8N87371     5  0.515544   32.500000  \n",
       "1883             0             1  8N87372     5  0.494145   32.800000  \n",
       "1884             0             0  8N87709     8  0.602443   33.200000  \n",
       "\n",
       "[1885 rows x 18288 columns]"
      ]
     },
     "execution_count": 8,
     "metadata": {},
     "output_type": "execute_result"
    }
   ],
   "source": [
    "X"
   ]
  },
  {
   "cell_type": "code",
   "execution_count": 9,
   "metadata": {},
   "outputs": [
    {
     "name": "stderr",
     "output_type": "stream",
     "text": [
      "[I 2024-09-25 16:02:19,076] A new study created in memory with name: no-name-3a0c19d1-5c6f-4cae-bd8c-d4495e2ee272\n",
      "INFO:__main__:Starting trial 0\n",
      "INFO:__main__:Starting trial 1\n",
      "INFO:__main__:Starting trial 2\n",
      "INFO:__main__:Starting trial 3\n"
     ]
    },
    {
     "name": "stdout",
     "output_type": "stream",
     "text": [
      "Outer CV: Test island 1\n",
      "Training until validation scores don't improve for 20 rounds\n",
      "Training until validation scores don't improve for 20 rounds\n",
      "Training until validation scores don't improve for 20 rounds\n",
      "Early stopping, best iteration is:\n",
      "[16]\tvalid_0's l1: 30.918\n",
      "Early stopping, best iteration is:\n",
      "[26]\tvalid_0's l1: 30.9004\n",
      "Training until validation scores don't improve for 20 rounds\n",
      "Early stopping, best iteration is:\n",
      "[1]\tvalid_0's l1: 30.9132\n",
      "Early stopping, best iteration is:\n",
      "[22]\tvalid_0's l1: 30.9034\n",
      "Training until validation scores don't improve for 20 rounds\n",
      "Training until validation scores don't improve for 20 rounds\n",
      "Early stopping, best iteration is:\n",
      "[38]\tvalid_0's l1: 32.2624\n",
      "Training until validation scores don't improve for 20 rounds\n",
      "Early stopping, best iteration is:\n",
      "[1]\tvalid_0's l1: 32.2789\n",
      "Training until validation scores don't improve for 20 rounds\n",
      "Early stopping, best iteration is:\n",
      "[12]\tvalid_0's l1: 32.2767\n",
      "Early stopping, best iteration is:\n",
      "[39]\tvalid_0's l1: 32.2595\n",
      "Training until validation scores don't improve for 20 rounds\n",
      "Early stopping, best iteration is:\n",
      "[1]\tvalid_0's l1: 31.7976\n",
      "Training until validation scores don't improve for 20 rounds\n",
      "Early stopping, best iteration is:\n",
      "[20]\tvalid_0's l1: 31.7749\n",
      "Training until validation scores don't improve for 20 rounds\n",
      "Training until validation scores don't improve for 20 rounds\n",
      "Early stopping, best iteration is:\n",
      "[15]\tvalid_0's l1: 31.7963\n",
      "Early stopping, best iteration is:\n",
      "[20]\tvalid_0's l1: 31.7797\n",
      "Training until validation scores don't improve for 20 rounds\n",
      "Early stopping, best iteration is:\n",
      "[1]\tvalid_0's l1: 31.7271\n",
      "Training until validation scores don't improve for 20 rounds\n",
      "Early stopping, best iteration is:\n",
      "[11]\tvalid_0's l1: 31.7067\n",
      "Training until validation scores don't improve for 20 rounds\n",
      "Training until validation scores don't improve for 20 rounds\n",
      "Early stopping, best iteration is:\n",
      "[1]\tvalid_0's l1: 31.7271\n",
      "Training until validation scores don't improve for 20 rounds\n",
      "Early stopping, best iteration is:\n",
      "[45]\tvalid_0's l1: 31.719\n",
      "Early stopping, best iteration is:\n",
      "[58]\tvalid_0's l1: 31.3777\n",
      "Training until validation scores don't improve for 20 rounds\n",
      "Early stopping, best iteration is:\n",
      "[75]\tvalid_0's l1: 31.3017\n",
      "Training until validation scores don't improve for 20 rounds\n",
      "Training until validation scores don't improve for 20 rounds\n",
      "Training until validation scores don't improve for 20 rounds\n",
      "Training until validation scores don't improve for 20 rounds\n",
      "Early stopping, best iteration is:\n",
      "[10]\tvalid_0's l1: 31.508\n",
      "Early stopping, best iteration is:\n",
      "[40]\tvalid_0's l1: 31.398\n",
      "Early stopping, best iteration is:\n",
      "[4]\tvalid_0's l1: 31.5131\n",
      "Early stopping, best iteration is:\n",
      "[15]\tvalid_0's l1: 31.4164\n",
      "Training until validation scores don't improve for 20 rounds\n",
      "Early stopping, best iteration is:\n",
      "[8]\tvalid_0's l1: 32.1217\n"
     ]
    },
    {
     "name": "stderr",
     "output_type": "stream",
     "text": [
      "INFO:__main__:Finished trial 1 in 100.95 seconds\n",
      "[I 2024-09-25 16:04:00,277] Trial 1 finished with value: 0.0263793986742906 and parameters: {'n_estimators': 871, 'learning_rate': 0.08151246561117508, 'max_depth': 5, 'num_leaves': 1580, 'reg_lambda': 45, 'reg_alpha': 40, 'bagging_fraction': 0.2, 'bagging_freq': 8, 'feature_fraction': 0.7}. Best is trial 1 with value: 0.0263793986742906.\n",
      "INFO:__main__:Starting trial 4\n"
     ]
    },
    {
     "name": "stdout",
     "output_type": "stream",
     "text": [
      "Training until validation scores don't improve for 20 rounds\n",
      "Training until validation scores don't improve for 20 rounds\n",
      "Training until validation scores don't improve for 20 rounds\n",
      "Early stopping, best iteration is:\n",
      "[1]\tvalid_0's l1: 31.5264\n",
      "Early stopping, best iteration is:\n",
      "[1]\tvalid_0's l1: 31.5269\n",
      "Early stopping, best iteration is:\n",
      "[81]\tvalid_0's l1: 32.0591\n"
     ]
    },
    {
     "name": "stderr",
     "output_type": "stream",
     "text": [
      "INFO:__main__:Finished trial 0 in 107.24 seconds\n",
      "[I 2024-09-25 16:04:06,499] Trial 0 finished with value: 0.021597741964949117 and parameters: {'n_estimators': 628, 'learning_rate': 0.12880717336396239, 'max_depth': 7, 'num_leaves': 2700, 'reg_lambda': 100, 'reg_alpha': 0, 'bagging_fraction': 0.2, 'bagging_freq': 1, 'feature_fraction': 0.8}. Best is trial 1 with value: 0.0263793986742906.\n",
      "INFO:__main__:Starting trial 5\n"
     ]
    },
    {
     "name": "stdout",
     "output_type": "stream",
     "text": [
      "Training until validation scores don't improve for 20 rounds\n",
      "Early stopping, best iteration is:\n",
      "[6]\tvalid_0's l1: 30.9153\n",
      "Training until validation scores don't improve for 20 rounds\n",
      "Early stopping, best iteration is:\n",
      "[1]\tvalid_0's l1: 32.1473\n"
     ]
    },
    {
     "name": "stderr",
     "output_type": "stream",
     "text": [
      "c:\\Users\\simen\\anaconda3\\lib\\site-packages\\numpy\\lib\\function_base.py:2897: RuntimeWarning: invalid value encountered in divide\n",
      "  c /= stddev[:, None]\n",
      "c:\\Users\\simen\\anaconda3\\lib\\site-packages\\numpy\\lib\\function_base.py:2898: RuntimeWarning: invalid value encountered in divide\n",
      "  c /= stddev[None, :]\n",
      "INFO:__main__:Finished trial 3 in 119.60 seconds\n",
      "[W 2024-09-25 16:04:19,118] Trial 3 failed with parameters: {'n_estimators': 699, 'learning_rate': 0.23238097139525118, 'max_depth': 4, 'num_leaves': 2440, 'reg_lambda': 45, 'reg_alpha': 55, 'bagging_fraction': 0.30000000000000004, 'bagging_freq': 6, 'feature_fraction': 0.2} because of the following error: The value nan is not acceptable.\n",
      "[W 2024-09-25 16:04:19,119] Trial 3 failed with value nan.\n",
      "INFO:__main__:Starting trial 6\n"
     ]
    },
    {
     "name": "stdout",
     "output_type": "stream",
     "text": [
      "Training until validation scores don't improve for 20 rounds\n",
      "Training until validation scores don't improve for 20 rounds\n",
      "Early stopping, best iteration is:\n",
      "[7]\tvalid_0's l1: 30.9151\n",
      "Training until validation scores don't improve for 20 rounds\n",
      "Early stopping, best iteration is:\n",
      "[63]\tvalid_0's l1: 32.1336\n"
     ]
    },
    {
     "name": "stderr",
     "output_type": "stream",
     "text": [
      "INFO:__main__:Finished trial 2 in 129.07 seconds\n",
      "[I 2024-09-25 16:04:28,505] Trial 2 finished with value: -0.01797896137977426 and parameters: {'n_estimators': 385, 'learning_rate': 0.04330199180737844, 'max_depth': 10, 'num_leaves': 240, 'reg_lambda': 85, 'reg_alpha': 65, 'bagging_fraction': 0.4, 'bagging_freq': 3, 'feature_fraction': 0.6000000000000001}. Best is trial 1 with value: 0.0263793986742906.\n",
      "INFO:__main__:Starting trial 7\n"
     ]
    },
    {
     "name": "stdout",
     "output_type": "stream",
     "text": [
      "Early stopping, best iteration is:\n",
      "[1]\tvalid_0's l1: 32.2826\n",
      "Training until validation scores don't improve for 20 rounds\n",
      "Early stopping, best iteration is:\n",
      "[14]\tvalid_0's l1: 30.8894\n",
      "Training until validation scores don't improve for 20 rounds\n",
      "Early stopping, best iteration is:\n",
      "[11]\tvalid_0's l1: 32.2766\n",
      "Training until validation scores don't improve for 20 rounds\n",
      "Training until validation scores don't improve for 20 rounds\n",
      "Early stopping, best iteration is:\n",
      "[20]\tvalid_0's l1: 30.9007\n",
      "Early stopping, best iteration is:\n",
      "[52]\tvalid_0's l1: 31.7894\n",
      "Training until validation scores don't improve for 20 rounds\n",
      "Training until validation scores don't improve for 20 rounds\n",
      "Early stopping, best iteration is:\n",
      "[16]\tvalid_0's l1: 32.2786\n",
      "Early stopping, best iteration is:\n",
      "[15]\tvalid_0's l1: 31.7876\n",
      "Training until validation scores don't improve for 20 rounds\n",
      "Training until validation scores don't improve for 20 rounds\n",
      "Early stopping, best iteration is:\n",
      "[3]\tvalid_0's l1: 32.2738\n",
      "Training until validation scores don't improve for 20 rounds\n",
      "Early stopping, best iteration is:\n",
      "[1]\tvalid_0's l1: 31.7976\n",
      "Training until validation scores don't improve for 20 rounds\n",
      "Early stopping, best iteration is:\n",
      "[45]\tvalid_0's l1: 31.7091\n",
      "Training until validation scores don't improve for 20 rounds\n",
      "Early stopping, best iteration is:\n",
      "[171]\tvalid_0's l1: 31.6981\n",
      "Training until validation scores don't improve for 20 rounds\n",
      "Early stopping, best iteration is:\n",
      "[1]\tvalid_0's l1: 31.7271\n",
      "Early stopping, best iteration is:\n",
      "[39]\tvalid_0's l1: 31.7898\n",
      "Training until validation scores don't improve for 20 rounds\n",
      "Early stopping, best iteration is:\n",
      "[45]\tvalid_0's l1: 31.3749\n",
      "Training until validation scores don't improve for 20 rounds\n",
      "Training until validation scores don't improve for 20 rounds\n",
      "Training until validation scores don't improve for 20 rounds\n",
      "Early stopping, best iteration is:\n",
      "[11]\tvalid_0's l1: 31.7084\n",
      "Early stopping, best iteration is:\n",
      "[42]\tvalid_0's l1: 31.4093\n",
      "Training until validation scores don't improve for 20 rounds\n",
      "Early stopping, best iteration is:\n",
      "[1]\tvalid_0's l1: 31.5271\n",
      "Training until validation scores don't improve for 20 rounds\n",
      "Early stopping, best iteration is:\n",
      "[14]\tvalid_0's l1: 31.3762\n",
      "Training until validation scores don't improve for 20 rounds\n",
      "Early stopping, best iteration is:\n",
      "[1]\tvalid_0's l1: 31.5333\n"
     ]
    },
    {
     "name": "stderr",
     "output_type": "stream",
     "text": [
      "c:\\Users\\simen\\anaconda3\\lib\\site-packages\\numpy\\lib\\function_base.py:2897: RuntimeWarning: invalid value encountered in divide\n",
      "  c /= stddev[:, None]\n",
      "c:\\Users\\simen\\anaconda3\\lib\\site-packages\\numpy\\lib\\function_base.py:2898: RuntimeWarning: invalid value encountered in divide\n",
      "  c /= stddev[None, :]\n"
     ]
    },
    {
     "name": "stdout",
     "output_type": "stream",
     "text": [
      "Training until validation scores don't improve for 20 rounds\n",
      "Early stopping, best iteration is:\n",
      "[18]\tvalid_0's l1: 32.1288\n"
     ]
    },
    {
     "name": "stderr",
     "output_type": "stream",
     "text": [
      "INFO:__main__:Finished trial 5 in 135.53 seconds\n",
      "[I 2024-09-25 16:06:22,146] Trial 5 finished with value: 0.033521431454540444 and parameters: {'n_estimators': 686, 'learning_rate': 0.039304553728825055, 'max_depth': 10, 'num_leaves': 1340, 'reg_lambda': 35, 'reg_alpha': 55, 'bagging_fraction': 0.8, 'bagging_freq': 3, 'feature_fraction': 0.30000000000000004}. Best is trial 5 with value: 0.033521431454540444.\n",
      "INFO:__main__:Starting trial 8\n"
     ]
    },
    {
     "name": "stdout",
     "output_type": "stream",
     "text": [
      "Training until validation scores don't improve for 20 rounds\n",
      "Early stopping, best iteration is:\n",
      "[1]\tvalid_0's l1: 31.5261\n",
      "Training until validation scores don't improve for 20 rounds\n",
      "Early stopping, best iteration is:\n",
      "[519]\tvalid_0's l1: 31.3003\n",
      "Early stopping, best iteration is:\n",
      "[1]\tvalid_0's l1: 32.1473\n"
     ]
    },
    {
     "name": "stderr",
     "output_type": "stream",
     "text": [
      "c:\\Users\\simen\\anaconda3\\lib\\site-packages\\numpy\\lib\\function_base.py:2897: RuntimeWarning: invalid value encountered in divide\n",
      "  c /= stddev[:, None]\n",
      "c:\\Users\\simen\\anaconda3\\lib\\site-packages\\numpy\\lib\\function_base.py:2898: RuntimeWarning: invalid value encountered in divide\n",
      "  c /= stddev[None, :]\n",
      "INFO:__main__:Finished trial 6 in 130.31 seconds\n",
      "[W 2024-09-25 16:06:29,688] Trial 6 failed with parameters: {'n_estimators': 942, 'learning_rate': 0.15584878330557325, 'max_depth': 8, 'num_leaves': 1660, 'reg_lambda': 5, 'reg_alpha': 85, 'bagging_fraction': 0.5, 'bagging_freq': 9, 'feature_fraction': 0.6000000000000001} because of the following error: The value nan is not acceptable.\n",
      "[W 2024-09-25 16:06:29,688] Trial 6 failed with value nan.\n",
      "INFO:__main__:Starting trial 9\n"
     ]
    },
    {
     "name": "stdout",
     "output_type": "stream",
     "text": [
      "Training until validation scores don't improve for 20 rounds\n",
      "Early stopping, best iteration is:\n",
      "[4]\tvalid_0's l1: 30.9085\n",
      "Training until validation scores don't improve for 20 rounds\n",
      "Early stopping, best iteration is:\n",
      "[4]\tvalid_0's l1: 32.1321\n"
     ]
    },
    {
     "name": "stderr",
     "output_type": "stream",
     "text": [
      "INFO:__main__:Finished trial 7 in 141.81 seconds\n",
      "[I 2024-09-25 16:06:50,519] Trial 7 finished with value: 0.03703586978230163 and parameters: {'n_estimators': 538, 'learning_rate': 0.20993867449441478, 'max_depth': 8, 'num_leaves': 2940, 'reg_lambda': 85, 'reg_alpha': 70, 'bagging_fraction': 0.8, 'bagging_freq': 7, 'feature_fraction': 0.30000000000000004}. Best is trial 7 with value: 0.03703586978230163.\n"
     ]
    },
    {
     "name": "stdout",
     "output_type": "stream",
     "text": [
      "Training until validation scores don't improve for 20 rounds\n",
      "Early stopping, best iteration is:\n",
      "[1]\tvalid_0's l1: 31.527\n",
      "Training until validation scores don't improve for 20 rounds\n",
      "Training until validation scores don't improve for 20 rounds\n",
      "Early stopping, best iteration is:\n",
      "[16]\tvalid_0's l1: 30.9056\n",
      "Early stopping, best iteration is:\n",
      "[3]\tvalid_0's l1: 32.2738\n",
      "Training until validation scores don't improve for 20 rounds\n",
      "Early stopping, best iteration is:\n",
      "[19]\tvalid_0's l1: 32.1325\n"
     ]
    },
    {
     "name": "stderr",
     "output_type": "stream",
     "text": [
      "INFO:__main__:Finished trial 4 in 190.90 seconds\n",
      "[I 2024-09-25 16:07:11,333] Trial 4 finished with value: 0.06602702429521179 and parameters: {'n_estimators': 561, 'learning_rate': 0.020008315073835763, 'max_depth': 13, 'num_leaves': 1500, 'reg_lambda': 55, 'reg_alpha': 30, 'bagging_fraction': 0.8, 'bagging_freq': 1, 'feature_fraction': 0.9}. Best is trial 4 with value: 0.06602702429521179.\n"
     ]
    },
    {
     "name": "stdout",
     "output_type": "stream",
     "text": [
      "Training until validation scores don't improve for 20 rounds\n",
      "Training until validation scores don't improve for 20 rounds\n",
      "Early stopping, best iteration is:\n",
      "[4]\tvalid_0's l1: 32.2721\n",
      "Early stopping, best iteration is:\n",
      "[12]\tvalid_0's l1: 31.7885\n",
      "Training until validation scores don't improve for 20 rounds\n",
      "Early stopping, best iteration is:\n",
      "[20]\tvalid_0's l1: 31.7698\n",
      "Training until validation scores don't improve for 20 rounds\n",
      "Early stopping, best iteration is:\n",
      "[2]\tvalid_0's l1: 31.7124\n",
      "Training until validation scores don't improve for 20 rounds\n",
      "Training until validation scores don't improve for 20 rounds\n",
      "Early stopping, best iteration is:\n",
      "[32]\tvalid_0's l1: 31.7022\n",
      "Early stopping, best iteration is:\n",
      "[44]\tvalid_0's l1: 31.3292\n",
      "Training until validation scores don't improve for 20 rounds\n",
      "Training until validation scores don't improve for 20 rounds\n",
      "Early stopping, best iteration is:\n",
      "[6]\tvalid_0's l1: 31.5217\n",
      "Early stopping, best iteration is:\n",
      "[116]\tvalid_0's l1: 31.3018\n",
      "Training until validation scores don't improve for 20 rounds\n",
      "Early stopping, best iteration is:\n",
      "[4]\tvalid_0's l1: 32.1282\n"
     ]
    },
    {
     "name": "stderr",
     "output_type": "stream",
     "text": [
      "INFO:__main__:Finished trial 8 in 109.32 seconds\n",
      "[I 2024-09-25 16:08:11,576] Trial 8 finished with value: 0.07203503530506836 and parameters: {'n_estimators': 676, 'learning_rate': 0.20272035567927704, 'max_depth': 12, 'num_leaves': 780, 'reg_lambda': 45, 'reg_alpha': 65, 'bagging_fraction': 0.8, 'bagging_freq': 1, 'feature_fraction': 0.30000000000000004}. Best is trial 8 with value: 0.07203503530506836.\n"
     ]
    },
    {
     "name": "stdout",
     "output_type": "stream",
     "text": [
      "Training until validation scores don't improve for 20 rounds\n",
      "Early stopping, best iteration is:\n",
      "[2]\tvalid_0's l1: 31.5311\n",
      "Training until validation scores don't improve for 20 rounds\n"
     ]
    },
    {
     "name": "stderr",
     "output_type": "stream",
     "text": [
      "INFO:__main__:Finished trial 9 in 111.59 seconds\n"
     ]
    },
    {
     "name": "stdout",
     "output_type": "stream",
     "text": [
      "Early stopping, best iteration is:\n",
      "[2]\tvalid_0's l1: 32.1334\n"
     ]
    },
    {
     "name": "stderr",
     "output_type": "stream",
     "text": [
      "[I 2024-09-25 16:08:21,408] Trial 9 finished with value: 0.06770483463815472 and parameters: {'n_estimators': 619, 'learning_rate': 0.08704589653258768, 'max_depth': 5, 'num_leaves': 1280, 'reg_lambda': 75, 'reg_alpha': 40, 'bagging_fraction': 0.5, 'bagging_freq': 4, 'feature_fraction': 0.6000000000000001}. Best is trial 8 with value: 0.07203503530506836.\n"
     ]
    },
    {
     "name": "stdout",
     "output_type": "stream",
     "text": [
      "Training until validation scores don't improve for 20 rounds\n",
      "Early stopping, best iteration is:\n",
      "[1]\tvalid_0's l1: 31.7575\n"
     ]
    },
    {
     "name": "stderr",
     "output_type": "stream",
     "text": [
      "[I 2024-09-25 16:08:29,547] A new study created in memory with name: no-name-278db0be-799b-4d5f-81c6-2d41a65199dc\n"
     ]
    },
    {
     "name": "stdout",
     "output_type": "stream",
     "text": [
      "Test correlation for island 1: -0.004547059821239054\n",
      "Outer CV: Test island 2\n"
     ]
    },
    {
     "name": "stderr",
     "output_type": "stream",
     "text": [
      "INFO:__main__:Starting trial 0\n",
      "INFO:__main__:Starting trial 1\n",
      "INFO:__main__:Starting trial 2\n",
      "INFO:__main__:Starting trial 3\n"
     ]
    },
    {
     "name": "stdout",
     "output_type": "stream",
     "text": [
      "Training until validation scores don't improve for 20 rounds\n",
      "Training until validation scores don't improve for 20 rounds\n"
     ]
    }
   ],
   "source": [
    "from sklearn.model_selection import train_test_split\n",
    "from sklearn.metrics import mean_absolute_error\n",
    "from sklearn.ensemble import RandomForestRegressor  # Replace with your model\n",
    "\n",
    "logging.basicConfig(level=logging.INFO)\n",
    "logger = logging.getLogger(__name__)\n",
    "\n",
    "# Assuming your dataframe 'df' has a column 'island' with values 1 to 8 representing the islands\n",
    "# and a 'fold' column representing the 8 folds, and a 'target' column for the target variable\n",
    "\n",
    "# Function to perform the nested cross-validation\n",
    "def nested_cv(df):\n",
    "    \n",
    "    outer_results = []\n",
    "    \n",
    "    folds = np.sort(df['fold'].unique())    \n",
    "    for outer_fold in folds:\n",
    "        print(f\"Outer CV: Test island {outer_fold}\")\n",
    "        \n",
    "        # Split data into outer train and test sets\n",
    "        outer_train_df = df[df['fold'] != outer_fold]\n",
    "        outer_test_df = df[df['fold'] == outer_fold]\n",
    "        \n",
    "        # Define the Optuna objective function\n",
    "        def objective(trial):\n",
    "            logger.info(f\"Starting trial {trial.number}\")\n",
    "\n",
    "            # Define hyperparameter search space\n",
    "            n_estimators = trial.suggest_int('n_estimators', 300, 1000)\n",
    "            learning_rate = trial.suggest_float('learning_rate', 0.01, 0.3)\n",
    "            max_depth = trial.suggest_int('max_depth', 3, 13)\n",
    "            num_leaves = trial.suggest_int('num_leaves', 20, 3000, step = 20)\n",
    "            reg_lambda = trial.suggest_int('reg_lambda', 0, 100, step = 5)\n",
    "            reg_alpha = trial.suggest_int('reg_alpha', 0 , 100, step = 5)\n",
    "            bagging_fraction = trial.suggest_float('bagging_fraction', 0.2, 0.9, step = 0.1)\n",
    "            bagging_freq = trial.suggest_int('bagging_freq', 1, 10, step = 1)\n",
    "            feature_fraction = trial.suggest_float('feature_fraction', 0.2, 0.9, step = 0.1)\n",
    "\n",
    "            #parameters\n",
    "            params = {\n",
    "                'objective': 'regression',\n",
    "                'metric': 'mae',    \n",
    "                #'n_estimators': n_estimators,\n",
    "                'learning_rate': learning_rate,\n",
    "                'max_depth': max_depth,\n",
    "                'num_leaves': num_leaves,\n",
    "                'reg_lambda': reg_lambda,\n",
    "                'reg_alpha': reg_alpha,\n",
    "                'bagging_fraction': bagging_fraction,\n",
    "                'bagging_freq': bagging_freq,\n",
    "                'feature_fraction': feature_fraction,\n",
    "                'verbose': -1\n",
    "            }\n",
    "\n",
    "            # Perform 7-fold CV on the 7 remaining islands\n",
    "            inner_corr = []\n",
    "            start_time = time.time()\n",
    "            for inner_fold in folds:\n",
    "                if inner_fold == outer_fold:\n",
    "                    continue  # Skip the current test island\n",
    "                \n",
    "                # Split inner train/validation data\n",
    "                train_df = outer_train_df[outer_train_df['fold'] != inner_fold]\n",
    "                val_df = outer_train_df[outer_train_df['fold'] == inner_fold]\n",
    "                \n",
    "                # Extract features and target\n",
    "                X_train, y_train = train_df.drop(columns=['ringnr', 'fold','ID','mean_pheno']), train_df['ID']\n",
    "                X_val, y_val = val_df.drop(columns=['ringnr', 'fold','ID','mean_pheno']), val_df['ID'] \n",
    "\n",
    "                # Train model\n",
    "                dtrain = lgb.Dataset(X_train, label=y_train)\n",
    "                dval = lgb.Dataset(X_val, label=y_val, reference=dtrain)\n",
    "\n",
    "                gbm = lgb.train(params, dtrain, num_boost_round=n_estimators, valid_sets=[dval], callbacks=[lgb.early_stopping(stopping_rounds=20)])\n",
    "                # Validate model\n",
    "                y_pred = gbm.predict(X_val)\n",
    "                corr, _ = pearsonr(y_val, y_pred)\n",
    "                inner_corr.append(corr)\n",
    "                \n",
    "                end_time = time.time()\n",
    "\n",
    "            logger.info(f\"Finished trial {trial.number} in {end_time - start_time:.2f} seconds\")\n",
    "            # Return the average MAE for this set of hyperparameters\n",
    "            return np.mean(inner_corr)\n",
    "        \n",
    "        # Run Optuna for hyperparameter optimization\n",
    "        study = optuna.create_study(direction='maximize')\n",
    "        study.optimize(objective, n_trials=10, n_jobs=4)\n",
    "        \n",
    "        # Train the final model on the outer train set with the best hyperparameters\n",
    "        best_params = study.best_params\n",
    "\n",
    "        n_estimators = best_params['n_estimators']\n",
    "        best_params.pop('n_estimators')\n",
    "        best_params['objective'] = 'regression'\n",
    "        best_params['metric'] = 'mae'\n",
    "        best_params['verbose'] = -1\n",
    "        \n",
    "        # Extract features and target for outer training and test sets\n",
    "        X_train_outer, y_train_outer = outer_train_df.drop(columns=['ringnr', 'fold','ID','mean_pheno']), outer_train_df['ID']\n",
    "        X_test_outer, y_test_outer = outer_test_df.drop(columns=['ringnr', 'fold','ID','mean_pheno']), outer_test_df['mean_pheno']\n",
    "        \n",
    "        # Train on the outer train set\n",
    "        dtrain = lgb.Dataset(X_train_outer, label=y_train_outer)  \n",
    "        gbm = lgb.train(best_params, dtrain, num_boost_round=n_estimators)\n",
    "        \n",
    "        # Test on the outer test set\n",
    "        y_pred_outer = gbm.predict(X_test_outer)\n",
    "        outer_corr = np.corrcoef(y_test_outer, y_pred_outer)[0, 1]\n",
    "        \n",
    "        print(f\"Test correlation for island {outer_fold}: {outer_corr}\")\n",
    "        outer_results.append(outer_corr)\n",
    "    \n",
    "    # Final results\n",
    "    print(f\"Average correlation across all outer folds: {np.mean(outer_results)}\")\n",
    "    return outer_results\n",
    "\n",
    "# Example dataframe with 'island', 'fold', 'target', and other features\n",
    "# df = pd.DataFrame(...) \n",
    "\n",
    "# Run the nested cross-validation\n",
    "results = nested_cv(X)\n"
   ]
  },
  {
   "cell_type": "code",
   "execution_count": 12,
   "metadata": {},
   "outputs": [
    {
     "name": "stderr",
     "output_type": "stream",
     "text": [
      "[I 2024-09-12 08:40:22,058] A new study created in memory with name: no-name-057c49f5-a05c-4c3c-ad81-9a6011c6248b\n",
      "INFO:__main__:Starting trial 0\n",
      "INFO:__main__:Starting trial 1\n",
      "INFO:__main__:Starting trial 2\n",
      "INFO:__main__:Starting trial 3\n"
     ]
    },
    {
     "name": "stdout",
     "output_type": "stream",
     "text": [
      "Training until validation scores don't improve for 20 rounds\n",
      "Training until validation scores don't improve for 20 rounds\n",
      "Training until validation scores don't improve for 20 rounds\n",
      "Training until validation scores don't improve for 20 rounds\n",
      "Early stopping, best iteration is:\n",
      "[26]\tvalid_0's l2: 0.930644\n"
     ]
    },
    {
     "name": "stderr",
     "output_type": "stream",
     "text": [
      "INFO:__main__:Finished trial 3 in 11.49 seconds\n",
      "[I 2024-09-12 08:40:33,733] Trial 3 finished with value: 0.9306442219195172 and parameters: {'n_estimators': 696, 'learning_rate': 0.16172110694705055, 'max_depth': 7, 'num_leaves': 2240, 'reg_lambda': 65, 'reg_alpha': 40, 'bagging_fraction': 0.8, 'bagging_freq': 10, 'feature_fraction': 0.9}. Best is trial 3 with value: 0.9306442219195172.\n",
      "INFO:__main__:Starting trial 4\n"
     ]
    },
    {
     "name": "stdout",
     "output_type": "stream",
     "text": [
      "Early stopping, best iteration is:\n",
      "[55]\tvalid_0's l2: 0.907236\n"
     ]
    },
    {
     "name": "stderr",
     "output_type": "stream",
     "text": [
      "INFO:__main__:Finished trial 0 in 16.63 seconds\n",
      "[I 2024-09-12 08:40:38,862] Trial 0 finished with value: 0.9072361723012389 and parameters: {'n_estimators': 703, 'learning_rate': 0.20497929861378913, 'max_depth': 4, 'num_leaves': 1840, 'reg_lambda': 30, 'reg_alpha': 45, 'bagging_fraction': 0.6000000000000001, 'bagging_freq': 8, 'feature_fraction': 0.4}. Best is trial 0 with value: 0.9072361723012389.\n",
      "INFO:__main__:Starting trial 5\n"
     ]
    },
    {
     "name": "stdout",
     "output_type": "stream",
     "text": [
      "Training until validation scores don't improve for 20 rounds\n",
      "Early stopping, best iteration is:\n",
      "[81]\tvalid_0's l2: 0.908149\n"
     ]
    },
    {
     "name": "stderr",
     "output_type": "stream",
     "text": [
      "INFO:__main__:Finished trial 1 in 22.34 seconds\n",
      "[I 2024-09-12 08:40:44,583] Trial 1 finished with value: 0.908149447512883 and parameters: {'n_estimators': 584, 'learning_rate': 0.03715123826964573, 'max_depth': 8, 'num_leaves': 2440, 'reg_lambda': 20, 'reg_alpha': 15, 'bagging_fraction': 0.9, 'bagging_freq': 8, 'feature_fraction': 0.6000000000000001}. Best is trial 0 with value: 0.9072361723012389.\n",
      "INFO:__main__:Starting trial 6\n"
     ]
    },
    {
     "name": "stdout",
     "output_type": "stream",
     "text": [
      "Early stopping, best iteration is:\n",
      "[6]\tvalid_0's l2: 0.931097\n"
     ]
    },
    {
     "name": "stderr",
     "output_type": "stream",
     "text": [
      "INFO:__main__:Finished trial 4 in 11.70 seconds\n",
      "[I 2024-09-12 08:40:45,500] Trial 4 finished with value: 0.9310974113108552 and parameters: {'n_estimators': 563, 'learning_rate': 0.21669255927439596, 'max_depth': 4, 'num_leaves': 520, 'reg_lambda': 45, 'reg_alpha': 0, 'bagging_fraction': 0.6000000000000001, 'bagging_freq': 2, 'feature_fraction': 0.6000000000000001}. Best is trial 0 with value: 0.9072361723012389.\n",
      "INFO:__main__:Starting trial 7\n"
     ]
    },
    {
     "name": "stdout",
     "output_type": "stream",
     "text": [
      "Training until validation scores don't improve for 20 rounds\n",
      "Early stopping, best iteration is:\n",
      "[156]\tvalid_0's l2: 0.954593\n"
     ]
    },
    {
     "name": "stderr",
     "output_type": "stream",
     "text": [
      "INFO:__main__:Finished trial 2 in 31.01 seconds\n",
      "[I 2024-09-12 08:40:53,297] Trial 2 finished with value: 0.9549118418941217 and parameters: {'n_estimators': 977, 'learning_rate': 0.03577702408861337, 'max_depth': 4, 'num_leaves': 1000, 'reg_lambda': 0, 'reg_alpha': 70, 'bagging_fraction': 0.7, 'bagging_freq': 5, 'feature_fraction': 0.5}. Best is trial 0 with value: 0.9072361723012389.\n",
      "INFO:__main__:Starting trial 8\n"
     ]
    },
    {
     "name": "stdout",
     "output_type": "stream",
     "text": [
      "Training until validation scores don't improve for 20 rounds\n",
      "Training until validation scores don't improve for 20 rounds\n",
      "Early stopping, best iteration is:\n",
      "[44]\tvalid_0's l2: 0.951257\n"
     ]
    },
    {
     "name": "stderr",
     "output_type": "stream",
     "text": [
      "INFO:__main__:Finished trial 7 in 11.70 seconds\n",
      "[I 2024-09-12 08:40:57,311] Trial 7 finished with value: 0.9515447543380327 and parameters: {'n_estimators': 470, 'learning_rate': 0.25767811485427683, 'max_depth': 12, 'num_leaves': 160, 'reg_lambda': 55, 'reg_alpha': 55, 'bagging_fraction': 0.30000000000000004, 'bagging_freq': 5, 'feature_fraction': 0.7}. Best is trial 0 with value: 0.9072361723012389.\n",
      "INFO:__main__:Starting trial 9\n"
     ]
    },
    {
     "name": "stdout",
     "output_type": "stream",
     "text": [
      "Early stopping, best iteration is:\n",
      "[14]\tvalid_0's l2: 0.941653\n"
     ]
    },
    {
     "name": "stderr",
     "output_type": "stream",
     "text": [
      "INFO:__main__:Finished trial 6 in 13.23 seconds\n",
      "[I 2024-09-12 08:40:57,898] Trial 6 finished with value: 0.9416530360874679 and parameters: {'n_estimators': 795, 'learning_rate': 0.2939669271797528, 'max_depth': 9, 'num_leaves': 1860, 'reg_lambda': 75, 'reg_alpha': 35, 'bagging_fraction': 0.8, 'bagging_freq': 7, 'feature_fraction': 0.9}. Best is trial 0 with value: 0.9072361723012389.\n"
     ]
    },
    {
     "name": "stdout",
     "output_type": "stream",
     "text": [
      "Early stopping, best iteration is:\n",
      "[46]\tvalid_0's l2: 0.891645\n"
     ]
    },
    {
     "name": "stderr",
     "output_type": "stream",
     "text": [
      "INFO:__main__:Finished trial 5 in 21.35 seconds\n",
      "[I 2024-09-12 08:41:00,308] Trial 5 finished with value: 0.8916446573487868 and parameters: {'n_estimators': 493, 'learning_rate': 0.19900495462488169, 'max_depth': 13, 'num_leaves': 2440, 'reg_lambda': 80, 'reg_alpha': 35, 'bagging_fraction': 0.9, 'bagging_freq': 5, 'feature_fraction': 0.4}. Best is trial 5 with value: 0.8916446573487868.\n"
     ]
    },
    {
     "name": "stdout",
     "output_type": "stream",
     "text": [
      "Training until validation scores don't improve for 20 rounds\n",
      "Early stopping, best iteration is:\n",
      "[19]\tvalid_0's l2: 0.932187\n"
     ]
    },
    {
     "name": "stderr",
     "output_type": "stream",
     "text": [
      "INFO:__main__:Finished trial 8 in 9.26 seconds\n",
      "[I 2024-09-12 08:41:02,694] Trial 8 finished with value: 0.9321866002080017 and parameters: {'n_estimators': 591, 'learning_rate': 0.19778543649602615, 'max_depth': 8, 'num_leaves': 2660, 'reg_lambda': 35, 'reg_alpha': 20, 'bagging_fraction': 0.2, 'bagging_freq': 3, 'feature_fraction': 0.7}. Best is trial 5 with value: 0.8916446573487868.\n"
     ]
    },
    {
     "name": "stdout",
     "output_type": "stream",
     "text": [
      "Training until validation scores don't improve for 20 rounds\n",
      "Early stopping, best iteration is:\n",
      "[28]\tvalid_0's l2: 0.95802\n"
     ]
    },
    {
     "name": "stderr",
     "output_type": "stream",
     "text": [
      "INFO:__main__:Finished trial 9 in 10.14 seconds\n",
      "[I 2024-09-12 08:41:07,557] Trial 9 finished with value: 0.9579288303155713 and parameters: {'n_estimators': 743, 'learning_rate': 0.29287839443495634, 'max_depth': 9, 'num_leaves': 720, 'reg_lambda': 45, 'reg_alpha': 85, 'bagging_fraction': 0.9, 'bagging_freq': 10, 'feature_fraction': 0.2}. Best is trial 5 with value: 0.8916446573487868.\n"
     ]
    },
    {
     "name": "stdout",
     "output_type": "stream",
     "text": [
      "Best hyperparameters: {'n_estimators': 493, 'learning_rate': 0.19900495462488169, 'max_depth': 13, 'num_leaves': 2440, 'reg_lambda': 80, 'reg_alpha': 35, 'bagging_fraction': 0.9, 'bagging_freq': 5, 'feature_fraction': 0.4}\n"
     ]
    }
   ],
   "source": [
    "\n",
    "\n",
    "# Define objective function for Optuna\n",
    "def objective(trial):\n",
    "    \n",
    "    logger.info(f\"Starting trial {trial.number}\")\n",
    "\n",
    "    # Define hyperparameter search space\n",
    "    n_estimators = trial.suggest_int('n_estimators', 300, 1000)\n",
    "    learning_rate = trial.suggest_float('learning_rate', 0.01, 0.3)\n",
    "    max_depth = trial.suggest_int('max_depth', 3, 13)\n",
    "    num_leaves = trial.suggest_int('num_leaves', 20, 3000, step = 20)\n",
    "    reg_lambda = trial.suggest_int('reg_lambda', 0, 100, step = 5)\n",
    "    reg_alpha = trial.suggest_int('reg_alpha', 0 , 100, step = 5)\n",
    "    bagging_fraction = trial.suggest_float('bagging_fraction', 0.2, 0.9, step = 0.1)\n",
    "    bagging_freq = trial.suggest_int('bagging_freq', 1, 10, step = 1)\n",
    "    feature_fraction = trial.suggest_float('feature_fraction', 0.2, 0.9, step = 0.1)\n",
    "\n",
    "    \n",
    "    #parameters\n",
    "    params = {\n",
    "        'objective': 'regression',\n",
    "        'metric': 'mse',    \n",
    "        #'n_estimators': n_estimators,\n",
    "        'learning_rate': learning_rate,\n",
    "        'max_depth': max_depth,\n",
    "        'num_leaves': num_leaves,\n",
    "        'reg_lambda': reg_lambda,\n",
    "        'reg_alpha': reg_alpha,\n",
    "        'bagging_fraction': bagging_fraction,\n",
    "        'bagging_freq': bagging_freq,\n",
    "        'feature_fraction': feature_fraction,\n",
    "        'verbose': -1\n",
    "    }\n",
    "    \n",
    "    # Cross-validation setup\n",
    "    kfold = KFold(n_splits=5, shuffle=True, random_state=42)\n",
    "    mse_scores = [] # Store the mean squared error for each fold\n",
    "\n",
    "    start_time = time.time()\n",
    "    # Evaluate with cross-validation\n",
    "    for train_idx, val_idx in kfold.split(X_train):\n",
    "        X_train_fold, X_val_fold = X_train.iloc[train_idx], X_train.iloc[val_idx]\n",
    "        y_train_fold, y_val_fold = y_train.iloc[train_idx], y_train.iloc[val_idx]\n",
    "        \n",
    "        # Train model\n",
    "        dtrain = lgb.Dataset(X_train_fold, label=y_train_fold)\n",
    "        dval = lgb.Dataset(X_val_fold, label=y_val_fold, reference=dtrain)\n",
    "        \n",
    "        gbm = lgb.train(params, dtrain, num_boost_round=n_estimators, valid_sets=[dval], callbacks=[lgb.early_stopping(stopping_rounds=20)])\n",
    "        \n",
    "        # Predict on validation set\n",
    "        y_pred = gbm.predict(X_val_fold)\n",
    "        mse = mean_squared_error(y_val_fold, y_pred)\n",
    "        mse_scores.append(mse)\n",
    "\n",
    "        mean_mse = np.mean(mse_scores)\n",
    "        end_time = time.time()\n",
    "        logger.info(f\"Finished trial {trial.number} in {end_time - start_time:.2f} seconds\")\n",
    "        return mean_mse\n",
    "\n",
    "\n",
    "\n",
    "\n",
    "if __name__ == '__main__':\n",
    "\n",
    "    # Create Optuna study\n",
    "    study = optuna.create_study(direction='minimize')\n",
    "\n",
    "    n_jobs = 4\n",
    "    \n",
    "    study.optimize(objective, n_trials=10, n_jobs=n_jobs)\n",
    "\n",
    "    # Best hyperparameters\n",
    "    print('Best hyperparameters:', study.best_params)"
   ]
  },
  {
   "cell_type": "code",
   "execution_count": 8,
   "metadata": {},
   "outputs": [
    {
     "data": {
      "application/vnd.plotly.v1+json": {
       "config": {
        "plotlyServerURL": "https://plot.ly"
       },
       "data": [
        {
         "marker": {
          "color": [
           0,
           1,
           2,
           3,
           4,
           5,
           6,
           7,
           8,
           9
          ],
          "colorbar": {
           "title": {
            "text": "Trial"
           },
           "x": 1,
           "xpad": 40
          },
          "colorscale": [
           [
            0,
            "rgb(247,251,255)"
           ],
           [
            0.125,
            "rgb(222,235,247)"
           ],
           [
            0.25,
            "rgb(198,219,239)"
           ],
           [
            0.375,
            "rgb(158,202,225)"
           ],
           [
            0.5,
            "rgb(107,174,214)"
           ],
           [
            0.625,
            "rgb(66,146,198)"
           ],
           [
            0.75,
            "rgb(33,113,181)"
           ],
           [
            0.875,
            "rgb(8,81,156)"
           ],
           [
            1,
            "rgb(8,48,107)"
           ]
          ],
          "line": {
           "color": "Grey",
           "width": 0.5
          },
          "showscale": true
         },
         "mode": "markers",
         "showlegend": false,
         "type": "scatter",
         "x": [
          0.8,
          0.2,
          0.30000000000000004,
          0.8,
          0.7,
          0.7,
          0.6000000000000001,
          0.9,
          0.8,
          0.9
         ],
         "xaxis": "x",
         "y": [
          0.9425546774150442,
          0.9584866280910707,
          0.9575003878238277,
          0.9154878815450925,
          0.9220757661249319,
          0.9074348974981462,
          0.9064140609430006,
          0.9206775856024759,
          0.9584866280910707,
          0.909624407624575
         ],
         "yaxis": "y"
        },
        {
         "marker": {
          "color": [
           0,
           1,
           2,
           3,
           4,
           5,
           6,
           7,
           8,
           9
          ],
          "colorbar": {
           "title": {
            "text": "Trial"
           },
           "x": 1,
           "xpad": 40
          },
          "colorscale": [
           [
            0,
            "rgb(247,251,255)"
           ],
           [
            0.125,
            "rgb(222,235,247)"
           ],
           [
            0.25,
            "rgb(198,219,239)"
           ],
           [
            0.375,
            "rgb(158,202,225)"
           ],
           [
            0.5,
            "rgb(107,174,214)"
           ],
           [
            0.625,
            "rgb(66,146,198)"
           ],
           [
            0.75,
            "rgb(33,113,181)"
           ],
           [
            0.875,
            "rgb(8,81,156)"
           ],
           [
            1,
            "rgb(8,48,107)"
           ]
          ],
          "line": {
           "color": "Grey",
           "width": 0.5
          },
          "showscale": false
         },
         "mode": "markers",
         "showlegend": false,
         "type": "scatter",
         "x": [
          2,
          5,
          6,
          8,
          5,
          10,
          7,
          2,
          10,
          10
         ],
         "xaxis": "x2",
         "y": [
          0.9425546774150442,
          0.9584866280910707,
          0.9575003878238277,
          0.9154878815450925,
          0.9220757661249319,
          0.9074348974981462,
          0.9064140609430006,
          0.9206775856024759,
          0.9584866280910707,
          0.909624407624575
         ],
         "yaxis": "y2"
        },
        {
         "marker": {
          "color": [
           0,
           1,
           2,
           3,
           4,
           5,
           6,
           7,
           8,
           9
          ],
          "colorbar": {
           "title": {
            "text": "Trial"
           },
           "x": 1,
           "xpad": 40
          },
          "colorscale": [
           [
            0,
            "rgb(247,251,255)"
           ],
           [
            0.125,
            "rgb(222,235,247)"
           ],
           [
            0.25,
            "rgb(198,219,239)"
           ],
           [
            0.375,
            "rgb(158,202,225)"
           ],
           [
            0.5,
            "rgb(107,174,214)"
           ],
           [
            0.625,
            "rgb(66,146,198)"
           ],
           [
            0.75,
            "rgb(33,113,181)"
           ],
           [
            0.875,
            "rgb(8,81,156)"
           ],
           [
            1,
            "rgb(8,48,107)"
           ]
          ],
          "line": {
           "color": "Grey",
           "width": 0.5
          },
          "showscale": false
         },
         "mode": "markers",
         "showlegend": false,
         "type": "scatter",
         "x": [
          0.7,
          0.30000000000000004,
          0.7,
          0.9,
          0.5,
          0.4,
          0.2,
          0.7,
          0.6000000000000001,
          0.9
         ],
         "xaxis": "x3",
         "y": [
          0.9425546774150442,
          0.9584866280910707,
          0.9575003878238277,
          0.9154878815450925,
          0.9220757661249319,
          0.9074348974981462,
          0.9064140609430006,
          0.9206775856024759,
          0.9584866280910707,
          0.909624407624575
         ],
         "yaxis": "y3"
        },
        {
         "marker": {
          "color": [
           0,
           1,
           2,
           3,
           4,
           5,
           6,
           7,
           8,
           9
          ],
          "colorbar": {
           "title": {
            "text": "Trial"
           },
           "x": 1,
           "xpad": 40
          },
          "colorscale": [
           [
            0,
            "rgb(247,251,255)"
           ],
           [
            0.125,
            "rgb(222,235,247)"
           ],
           [
            0.25,
            "rgb(198,219,239)"
           ],
           [
            0.375,
            "rgb(158,202,225)"
           ],
           [
            0.5,
            "rgb(107,174,214)"
           ],
           [
            0.625,
            "rgb(66,146,198)"
           ],
           [
            0.75,
            "rgb(33,113,181)"
           ],
           [
            0.875,
            "rgb(8,81,156)"
           ],
           [
            1,
            "rgb(8,48,107)"
           ]
          ],
          "line": {
           "color": "Grey",
           "width": 0.5
          },
          "showscale": false
         },
         "mode": "markers",
         "showlegend": false,
         "type": "scatter",
         "x": [
          0.12395116920269673,
          0.027463254436522498,
          0.13293591163564006,
          0.29269769787526634,
          0.11876024467695294,
          0.2505948500744166,
          0.2015304942049299,
          0.20672608806407108,
          0.2128116678958013,
          0.06073259236173643
         ],
         "xaxis": "x4",
         "y": [
          0.9425546774150442,
          0.9584866280910707,
          0.9575003878238277,
          0.9154878815450925,
          0.9220757661249319,
          0.9074348974981462,
          0.9064140609430006,
          0.9206775856024759,
          0.9584866280910707,
          0.909624407624575
         ],
         "yaxis": "y4"
        },
        {
         "marker": {
          "color": [
           0,
           1,
           2,
           3,
           4,
           5,
           6,
           7,
           8,
           9
          ],
          "colorbar": {
           "title": {
            "text": "Trial"
           },
           "x": 1,
           "xpad": 40
          },
          "colorscale": [
           [
            0,
            "rgb(247,251,255)"
           ],
           [
            0.125,
            "rgb(222,235,247)"
           ],
           [
            0.25,
            "rgb(198,219,239)"
           ],
           [
            0.375,
            "rgb(158,202,225)"
           ],
           [
            0.5,
            "rgb(107,174,214)"
           ],
           [
            0.625,
            "rgb(66,146,198)"
           ],
           [
            0.75,
            "rgb(33,113,181)"
           ],
           [
            0.875,
            "rgb(8,81,156)"
           ],
           [
            1,
            "rgb(8,48,107)"
           ]
          ],
          "line": {
           "color": "Grey",
           "width": 0.5
          },
          "showscale": false
         },
         "mode": "markers",
         "showlegend": false,
         "type": "scatter",
         "x": [
          12,
          11,
          3,
          9,
          8,
          8,
          12,
          4,
          10,
          4
         ],
         "xaxis": "x5",
         "y": [
          0.9425546774150442,
          0.9584866280910707,
          0.9575003878238277,
          0.9154878815450925,
          0.9220757661249319,
          0.9074348974981462,
          0.9064140609430006,
          0.9206775856024759,
          0.9584866280910707,
          0.909624407624575
         ],
         "yaxis": "y5"
        },
        {
         "marker": {
          "color": [
           0,
           1,
           2,
           3,
           4,
           5,
           6,
           7,
           8,
           9
          ],
          "colorbar": {
           "title": {
            "text": "Trial"
           },
           "x": 1,
           "xpad": 40
          },
          "colorscale": [
           [
            0,
            "rgb(247,251,255)"
           ],
           [
            0.125,
            "rgb(222,235,247)"
           ],
           [
            0.25,
            "rgb(198,219,239)"
           ],
           [
            0.375,
            "rgb(158,202,225)"
           ],
           [
            0.5,
            "rgb(107,174,214)"
           ],
           [
            0.625,
            "rgb(66,146,198)"
           ],
           [
            0.75,
            "rgb(33,113,181)"
           ],
           [
            0.875,
            "rgb(8,81,156)"
           ],
           [
            1,
            "rgb(8,48,107)"
           ]
          ],
          "line": {
           "color": "Grey",
           "width": 0.5
          },
          "showscale": false
         },
         "mode": "markers",
         "showlegend": false,
         "type": "scatter",
         "x": [
          594,
          443,
          565,
          332,
          443,
          944,
          342,
          516,
          951,
          927
         ],
         "xaxis": "x6",
         "y": [
          0.9425546774150442,
          0.9584866280910707,
          0.9575003878238277,
          0.9154878815450925,
          0.9220757661249319,
          0.9074348974981462,
          0.9064140609430006,
          0.9206775856024759,
          0.9584866280910707,
          0.909624407624575
         ],
         "yaxis": "y6"
        },
        {
         "marker": {
          "color": [
           0,
           1,
           2,
           3,
           4,
           5,
           6,
           7,
           8,
           9
          ],
          "colorbar": {
           "title": {
            "text": "Trial"
           },
           "x": 1,
           "xpad": 40
          },
          "colorscale": [
           [
            0,
            "rgb(247,251,255)"
           ],
           [
            0.125,
            "rgb(222,235,247)"
           ],
           [
            0.25,
            "rgb(198,219,239)"
           ],
           [
            0.375,
            "rgb(158,202,225)"
           ],
           [
            0.5,
            "rgb(107,174,214)"
           ],
           [
            0.625,
            "rgb(66,146,198)"
           ],
           [
            0.75,
            "rgb(33,113,181)"
           ],
           [
            0.875,
            "rgb(8,81,156)"
           ],
           [
            1,
            "rgb(8,48,107)"
           ]
          ],
          "line": {
           "color": "Grey",
           "width": 0.5
          },
          "showscale": false
         },
         "mode": "markers",
         "showlegend": false,
         "type": "scatter",
         "x": [
          2240,
          1520,
          2640,
          2400,
          2340,
          1380,
          1400,
          20,
          840,
          580
         ],
         "xaxis": "x7",
         "y": [
          0.9425546774150442,
          0.9584866280910707,
          0.9575003878238277,
          0.9154878815450925,
          0.9220757661249319,
          0.9074348974981462,
          0.9064140609430006,
          0.9206775856024759,
          0.9584866280910707,
          0.909624407624575
         ],
         "yaxis": "y7"
        },
        {
         "marker": {
          "color": [
           0,
           1,
           2,
           3,
           4,
           5,
           6,
           7,
           8,
           9
          ],
          "colorbar": {
           "title": {
            "text": "Trial"
           },
           "x": 1,
           "xpad": 40
          },
          "colorscale": [
           [
            0,
            "rgb(247,251,255)"
           ],
           [
            0.125,
            "rgb(222,235,247)"
           ],
           [
            0.25,
            "rgb(198,219,239)"
           ],
           [
            0.375,
            "rgb(158,202,225)"
           ],
           [
            0.5,
            "rgb(107,174,214)"
           ],
           [
            0.625,
            "rgb(66,146,198)"
           ],
           [
            0.75,
            "rgb(33,113,181)"
           ],
           [
            0.875,
            "rgb(8,81,156)"
           ],
           [
            1,
            "rgb(8,48,107)"
           ]
          ],
          "line": {
           "color": "Grey",
           "width": 0.5
          },
          "showscale": false
         },
         "mode": "markers",
         "showlegend": false,
         "type": "scatter",
         "x": [
          80,
          50,
          65,
          15,
          60,
          20,
          20,
          0,
          95,
          0
         ],
         "xaxis": "x8",
         "y": [
          0.9425546774150442,
          0.9584866280910707,
          0.9575003878238277,
          0.9154878815450925,
          0.9220757661249319,
          0.9074348974981462,
          0.9064140609430006,
          0.9206775856024759,
          0.9584866280910707,
          0.909624407624575
         ],
         "yaxis": "y8"
        },
        {
         "marker": {
          "color": [
           0,
           1,
           2,
           3,
           4,
           5,
           6,
           7,
           8,
           9
          ],
          "colorbar": {
           "title": {
            "text": "Trial"
           },
           "x": 1,
           "xpad": 40
          },
          "colorscale": [
           [
            0,
            "rgb(247,251,255)"
           ],
           [
            0.125,
            "rgb(222,235,247)"
           ],
           [
            0.25,
            "rgb(198,219,239)"
           ],
           [
            0.375,
            "rgb(158,202,225)"
           ],
           [
            0.5,
            "rgb(107,174,214)"
           ],
           [
            0.625,
            "rgb(66,146,198)"
           ],
           [
            0.75,
            "rgb(33,113,181)"
           ],
           [
            0.875,
            "rgb(8,81,156)"
           ],
           [
            1,
            "rgb(8,48,107)"
           ]
          ],
          "line": {
           "color": "Grey",
           "width": 0.5
          },
          "showscale": false
         },
         "mode": "markers",
         "showlegend": false,
         "type": "scatter",
         "x": [
          95,
          90,
          85,
          65,
          85,
          70,
          0,
          65,
          85,
          85
         ],
         "xaxis": "x9",
         "y": [
          0.9425546774150442,
          0.9584866280910707,
          0.9575003878238277,
          0.9154878815450925,
          0.9220757661249319,
          0.9074348974981462,
          0.9064140609430006,
          0.9206775856024759,
          0.9584866280910707,
          0.909624407624575
         ],
         "yaxis": "y9"
        }
       ],
       "layout": {
        "template": {
         "data": {
          "bar": [
           {
            "error_x": {
             "color": "#2a3f5f"
            },
            "error_y": {
             "color": "#2a3f5f"
            },
            "marker": {
             "line": {
              "color": "#E5ECF6",
              "width": 0.5
             },
             "pattern": {
              "fillmode": "overlay",
              "size": 10,
              "solidity": 0.2
             }
            },
            "type": "bar"
           }
          ],
          "barpolar": [
           {
            "marker": {
             "line": {
              "color": "#E5ECF6",
              "width": 0.5
             },
             "pattern": {
              "fillmode": "overlay",
              "size": 10,
              "solidity": 0.2
             }
            },
            "type": "barpolar"
           }
          ],
          "carpet": [
           {
            "aaxis": {
             "endlinecolor": "#2a3f5f",
             "gridcolor": "white",
             "linecolor": "white",
             "minorgridcolor": "white",
             "startlinecolor": "#2a3f5f"
            },
            "baxis": {
             "endlinecolor": "#2a3f5f",
             "gridcolor": "white",
             "linecolor": "white",
             "minorgridcolor": "white",
             "startlinecolor": "#2a3f5f"
            },
            "type": "carpet"
           }
          ],
          "choropleth": [
           {
            "colorbar": {
             "outlinewidth": 0,
             "ticks": ""
            },
            "type": "choropleth"
           }
          ],
          "contour": [
           {
            "colorbar": {
             "outlinewidth": 0,
             "ticks": ""
            },
            "colorscale": [
             [
              0,
              "#0d0887"
             ],
             [
              0.1111111111111111,
              "#46039f"
             ],
             [
              0.2222222222222222,
              "#7201a8"
             ],
             [
              0.3333333333333333,
              "#9c179e"
             ],
             [
              0.4444444444444444,
              "#bd3786"
             ],
             [
              0.5555555555555556,
              "#d8576b"
             ],
             [
              0.6666666666666666,
              "#ed7953"
             ],
             [
              0.7777777777777778,
              "#fb9f3a"
             ],
             [
              0.8888888888888888,
              "#fdca26"
             ],
             [
              1,
              "#f0f921"
             ]
            ],
            "type": "contour"
           }
          ],
          "contourcarpet": [
           {
            "colorbar": {
             "outlinewidth": 0,
             "ticks": ""
            },
            "type": "contourcarpet"
           }
          ],
          "heatmap": [
           {
            "colorbar": {
             "outlinewidth": 0,
             "ticks": ""
            },
            "colorscale": [
             [
              0,
              "#0d0887"
             ],
             [
              0.1111111111111111,
              "#46039f"
             ],
             [
              0.2222222222222222,
              "#7201a8"
             ],
             [
              0.3333333333333333,
              "#9c179e"
             ],
             [
              0.4444444444444444,
              "#bd3786"
             ],
             [
              0.5555555555555556,
              "#d8576b"
             ],
             [
              0.6666666666666666,
              "#ed7953"
             ],
             [
              0.7777777777777778,
              "#fb9f3a"
             ],
             [
              0.8888888888888888,
              "#fdca26"
             ],
             [
              1,
              "#f0f921"
             ]
            ],
            "type": "heatmap"
           }
          ],
          "heatmapgl": [
           {
            "colorbar": {
             "outlinewidth": 0,
             "ticks": ""
            },
            "colorscale": [
             [
              0,
              "#0d0887"
             ],
             [
              0.1111111111111111,
              "#46039f"
             ],
             [
              0.2222222222222222,
              "#7201a8"
             ],
             [
              0.3333333333333333,
              "#9c179e"
             ],
             [
              0.4444444444444444,
              "#bd3786"
             ],
             [
              0.5555555555555556,
              "#d8576b"
             ],
             [
              0.6666666666666666,
              "#ed7953"
             ],
             [
              0.7777777777777778,
              "#fb9f3a"
             ],
             [
              0.8888888888888888,
              "#fdca26"
             ],
             [
              1,
              "#f0f921"
             ]
            ],
            "type": "heatmapgl"
           }
          ],
          "histogram": [
           {
            "marker": {
             "pattern": {
              "fillmode": "overlay",
              "size": 10,
              "solidity": 0.2
             }
            },
            "type": "histogram"
           }
          ],
          "histogram2d": [
           {
            "colorbar": {
             "outlinewidth": 0,
             "ticks": ""
            },
            "colorscale": [
             [
              0,
              "#0d0887"
             ],
             [
              0.1111111111111111,
              "#46039f"
             ],
             [
              0.2222222222222222,
              "#7201a8"
             ],
             [
              0.3333333333333333,
              "#9c179e"
             ],
             [
              0.4444444444444444,
              "#bd3786"
             ],
             [
              0.5555555555555556,
              "#d8576b"
             ],
             [
              0.6666666666666666,
              "#ed7953"
             ],
             [
              0.7777777777777778,
              "#fb9f3a"
             ],
             [
              0.8888888888888888,
              "#fdca26"
             ],
             [
              1,
              "#f0f921"
             ]
            ],
            "type": "histogram2d"
           }
          ],
          "histogram2dcontour": [
           {
            "colorbar": {
             "outlinewidth": 0,
             "ticks": ""
            },
            "colorscale": [
             [
              0,
              "#0d0887"
             ],
             [
              0.1111111111111111,
              "#46039f"
             ],
             [
              0.2222222222222222,
              "#7201a8"
             ],
             [
              0.3333333333333333,
              "#9c179e"
             ],
             [
              0.4444444444444444,
              "#bd3786"
             ],
             [
              0.5555555555555556,
              "#d8576b"
             ],
             [
              0.6666666666666666,
              "#ed7953"
             ],
             [
              0.7777777777777778,
              "#fb9f3a"
             ],
             [
              0.8888888888888888,
              "#fdca26"
             ],
             [
              1,
              "#f0f921"
             ]
            ],
            "type": "histogram2dcontour"
           }
          ],
          "mesh3d": [
           {
            "colorbar": {
             "outlinewidth": 0,
             "ticks": ""
            },
            "type": "mesh3d"
           }
          ],
          "parcoords": [
           {
            "line": {
             "colorbar": {
              "outlinewidth": 0,
              "ticks": ""
             }
            },
            "type": "parcoords"
           }
          ],
          "pie": [
           {
            "automargin": true,
            "type": "pie"
           }
          ],
          "scatter": [
           {
            "fillpattern": {
             "fillmode": "overlay",
             "size": 10,
             "solidity": 0.2
            },
            "type": "scatter"
           }
          ],
          "scatter3d": [
           {
            "line": {
             "colorbar": {
              "outlinewidth": 0,
              "ticks": ""
             }
            },
            "marker": {
             "colorbar": {
              "outlinewidth": 0,
              "ticks": ""
             }
            },
            "type": "scatter3d"
           }
          ],
          "scattercarpet": [
           {
            "marker": {
             "colorbar": {
              "outlinewidth": 0,
              "ticks": ""
             }
            },
            "type": "scattercarpet"
           }
          ],
          "scattergeo": [
           {
            "marker": {
             "colorbar": {
              "outlinewidth": 0,
              "ticks": ""
             }
            },
            "type": "scattergeo"
           }
          ],
          "scattergl": [
           {
            "marker": {
             "colorbar": {
              "outlinewidth": 0,
              "ticks": ""
             }
            },
            "type": "scattergl"
           }
          ],
          "scattermapbox": [
           {
            "marker": {
             "colorbar": {
              "outlinewidth": 0,
              "ticks": ""
             }
            },
            "type": "scattermapbox"
           }
          ],
          "scatterpolar": [
           {
            "marker": {
             "colorbar": {
              "outlinewidth": 0,
              "ticks": ""
             }
            },
            "type": "scatterpolar"
           }
          ],
          "scatterpolargl": [
           {
            "marker": {
             "colorbar": {
              "outlinewidth": 0,
              "ticks": ""
             }
            },
            "type": "scatterpolargl"
           }
          ],
          "scatterternary": [
           {
            "marker": {
             "colorbar": {
              "outlinewidth": 0,
              "ticks": ""
             }
            },
            "type": "scatterternary"
           }
          ],
          "surface": [
           {
            "colorbar": {
             "outlinewidth": 0,
             "ticks": ""
            },
            "colorscale": [
             [
              0,
              "#0d0887"
             ],
             [
              0.1111111111111111,
              "#46039f"
             ],
             [
              0.2222222222222222,
              "#7201a8"
             ],
             [
              0.3333333333333333,
              "#9c179e"
             ],
             [
              0.4444444444444444,
              "#bd3786"
             ],
             [
              0.5555555555555556,
              "#d8576b"
             ],
             [
              0.6666666666666666,
              "#ed7953"
             ],
             [
              0.7777777777777778,
              "#fb9f3a"
             ],
             [
              0.8888888888888888,
              "#fdca26"
             ],
             [
              1,
              "#f0f921"
             ]
            ],
            "type": "surface"
           }
          ],
          "table": [
           {
            "cells": {
             "fill": {
              "color": "#EBF0F8"
             },
             "line": {
              "color": "white"
             }
            },
            "header": {
             "fill": {
              "color": "#C8D4E3"
             },
             "line": {
              "color": "white"
             }
            },
            "type": "table"
           }
          ]
         },
         "layout": {
          "annotationdefaults": {
           "arrowcolor": "#2a3f5f",
           "arrowhead": 0,
           "arrowwidth": 1
          },
          "autotypenumbers": "strict",
          "coloraxis": {
           "colorbar": {
            "outlinewidth": 0,
            "ticks": ""
           }
          },
          "colorscale": {
           "diverging": [
            [
             0,
             "#8e0152"
            ],
            [
             0.1,
             "#c51b7d"
            ],
            [
             0.2,
             "#de77ae"
            ],
            [
             0.3,
             "#f1b6da"
            ],
            [
             0.4,
             "#fde0ef"
            ],
            [
             0.5,
             "#f7f7f7"
            ],
            [
             0.6,
             "#e6f5d0"
            ],
            [
             0.7,
             "#b8e186"
            ],
            [
             0.8,
             "#7fbc41"
            ],
            [
             0.9,
             "#4d9221"
            ],
            [
             1,
             "#276419"
            ]
           ],
           "sequential": [
            [
             0,
             "#0d0887"
            ],
            [
             0.1111111111111111,
             "#46039f"
            ],
            [
             0.2222222222222222,
             "#7201a8"
            ],
            [
             0.3333333333333333,
             "#9c179e"
            ],
            [
             0.4444444444444444,
             "#bd3786"
            ],
            [
             0.5555555555555556,
             "#d8576b"
            ],
            [
             0.6666666666666666,
             "#ed7953"
            ],
            [
             0.7777777777777778,
             "#fb9f3a"
            ],
            [
             0.8888888888888888,
             "#fdca26"
            ],
            [
             1,
             "#f0f921"
            ]
           ],
           "sequentialminus": [
            [
             0,
             "#0d0887"
            ],
            [
             0.1111111111111111,
             "#46039f"
            ],
            [
             0.2222222222222222,
             "#7201a8"
            ],
            [
             0.3333333333333333,
             "#9c179e"
            ],
            [
             0.4444444444444444,
             "#bd3786"
            ],
            [
             0.5555555555555556,
             "#d8576b"
            ],
            [
             0.6666666666666666,
             "#ed7953"
            ],
            [
             0.7777777777777778,
             "#fb9f3a"
            ],
            [
             0.8888888888888888,
             "#fdca26"
            ],
            [
             1,
             "#f0f921"
            ]
           ]
          },
          "colorway": [
           "#636efa",
           "#EF553B",
           "#00cc96",
           "#ab63fa",
           "#FFA15A",
           "#19d3f3",
           "#FF6692",
           "#B6E880",
           "#FF97FF",
           "#FECB52"
          ],
          "font": {
           "color": "#2a3f5f"
          },
          "geo": {
           "bgcolor": "white",
           "lakecolor": "white",
           "landcolor": "#E5ECF6",
           "showlakes": true,
           "showland": true,
           "subunitcolor": "white"
          },
          "hoverlabel": {
           "align": "left"
          },
          "hovermode": "closest",
          "mapbox": {
           "style": "light"
          },
          "paper_bgcolor": "white",
          "plot_bgcolor": "#E5ECF6",
          "polar": {
           "angularaxis": {
            "gridcolor": "white",
            "linecolor": "white",
            "ticks": ""
           },
           "bgcolor": "#E5ECF6",
           "radialaxis": {
            "gridcolor": "white",
            "linecolor": "white",
            "ticks": ""
           }
          },
          "scene": {
           "xaxis": {
            "backgroundcolor": "#E5ECF6",
            "gridcolor": "white",
            "gridwidth": 2,
            "linecolor": "white",
            "showbackground": true,
            "ticks": "",
            "zerolinecolor": "white"
           },
           "yaxis": {
            "backgroundcolor": "#E5ECF6",
            "gridcolor": "white",
            "gridwidth": 2,
            "linecolor": "white",
            "showbackground": true,
            "ticks": "",
            "zerolinecolor": "white"
           },
           "zaxis": {
            "backgroundcolor": "#E5ECF6",
            "gridcolor": "white",
            "gridwidth": 2,
            "linecolor": "white",
            "showbackground": true,
            "ticks": "",
            "zerolinecolor": "white"
           }
          },
          "shapedefaults": {
           "line": {
            "color": "#2a3f5f"
           }
          },
          "ternary": {
           "aaxis": {
            "gridcolor": "white",
            "linecolor": "white",
            "ticks": ""
           },
           "baxis": {
            "gridcolor": "white",
            "linecolor": "white",
            "ticks": ""
           },
           "bgcolor": "#E5ECF6",
           "caxis": {
            "gridcolor": "white",
            "linecolor": "white",
            "ticks": ""
           }
          },
          "title": {
           "x": 0.05
          },
          "xaxis": {
           "automargin": true,
           "gridcolor": "white",
           "linecolor": "white",
           "ticks": "",
           "title": {
            "standoff": 15
           },
           "zerolinecolor": "white",
           "zerolinewidth": 2
          },
          "yaxis": {
           "automargin": true,
           "gridcolor": "white",
           "linecolor": "white",
           "ticks": "",
           "title": {
            "standoff": 15
           },
           "zerolinecolor": "white",
           "zerolinewidth": 2
          }
         }
        },
        "title": {
         "text": "Slice Plot"
        },
        "width": 2700,
        "xaxis": {
         "anchor": "y",
         "domain": [
          0,
          0.09135802469135802
         ],
         "title": {
          "text": "bagging_fraction"
         }
        },
        "xaxis2": {
         "anchor": "y2",
         "domain": [
          0.11358024691358025,
          0.20493827160493827
         ],
         "title": {
          "text": "bagging_freq"
         }
        },
        "xaxis3": {
         "anchor": "y3",
         "domain": [
          0.2271604938271605,
          0.31851851851851853
         ],
         "title": {
          "text": "feature_fraction"
         }
        },
        "xaxis4": {
         "anchor": "y4",
         "domain": [
          0.34074074074074073,
          0.43209876543209874
         ],
         "title": {
          "text": "learning_rate"
         }
        },
        "xaxis5": {
         "anchor": "y5",
         "domain": [
          0.454320987654321,
          0.5456790123456791
         ],
         "title": {
          "text": "max_depth"
         }
        },
        "xaxis6": {
         "anchor": "y6",
         "domain": [
          0.5679012345679012,
          0.6592592592592592
         ],
         "title": {
          "text": "n_estimators"
         }
        },
        "xaxis7": {
         "anchor": "y7",
         "domain": [
          0.6814814814814815,
          0.7728395061728395
         ],
         "title": {
          "text": "num_leaves"
         }
        },
        "xaxis8": {
         "anchor": "y8",
         "domain": [
          0.7950617283950617,
          0.8864197530864197
         ],
         "title": {
          "text": "reg_alpha"
         }
        },
        "xaxis9": {
         "anchor": "y9",
         "domain": [
          0.908641975308642,
          1
         ],
         "title": {
          "text": "reg_lambda"
         }
        },
        "yaxis": {
         "anchor": "x",
         "domain": [
          0,
          1
         ],
         "title": {
          "text": "Objective Value"
         }
        },
        "yaxis2": {
         "anchor": "x2",
         "domain": [
          0,
          1
         ],
         "matches": "y",
         "showticklabels": false
        },
        "yaxis3": {
         "anchor": "x3",
         "domain": [
          0,
          1
         ],
         "matches": "y",
         "showticklabels": false
        },
        "yaxis4": {
         "anchor": "x4",
         "domain": [
          0,
          1
         ],
         "matches": "y",
         "showticklabels": false
        },
        "yaxis5": {
         "anchor": "x5",
         "domain": [
          0,
          1
         ],
         "matches": "y",
         "showticklabels": false
        },
        "yaxis6": {
         "anchor": "x6",
         "domain": [
          0,
          1
         ],
         "matches": "y",
         "showticklabels": false
        },
        "yaxis7": {
         "anchor": "x7",
         "domain": [
          0,
          1
         ],
         "matches": "y",
         "showticklabels": false
        },
        "yaxis8": {
         "anchor": "x8",
         "domain": [
          0,
          1
         ],
         "matches": "y",
         "showticklabels": false
        },
        "yaxis9": {
         "anchor": "x9",
         "domain": [
          0,
          1
         ],
         "matches": "y",
         "showticklabels": false
        }
       }
      }
     },
     "metadata": {},
     "output_type": "display_data"
    }
   ],
   "source": [
    "plot_slice = optuna.visualization.plot_slice(study)\n",
    "plot_slice.show()"
   ]
  },
  {
   "cell_type": "code",
   "execution_count": 13,
   "metadata": {},
   "outputs": [
    {
     "name": "stdout",
     "output_type": "stream",
     "text": [
      "Best params: {'learning_rate': 0.19900495462488169, 'max_depth': 13, 'num_leaves': 2440, 'reg_lambda': 80, 'reg_alpha': 35, 'bagging_fraction': 0.9, 'bagging_freq': 5, 'feature_fraction': 0.4, 'objective': 'regression', 'metric': 'mse', 'verbose': -1}\n",
      "Training until validation scores don't improve for 20 rounds\n",
      "Early stopping, best iteration is:\n",
      "[77]\tvalid_0's l2: 0.927379\n"
     ]
    }
   ],
   "source": [
    "\n",
    "\n",
    "print(f\"Best params: {best_params}\")\n",
    "\n",
    "# Train model with best hyperparameters\n",
    "dtrain = lgb.Dataset(X_train, label=y_train)\n",
    "dval = lgb.Dataset(X_test, label=y_test, reference=dtrain)\n",
    "\n",
    "gbm = lgb.train(best_params, dtrain, num_boost_round=n_estimators, valid_sets=[dval], callbacks=[lgb.early_stopping(stopping_rounds=20)])\n",
    "\n",
    "# Predict on test set\n",
    "y_pred = gbm.predict(X_test)\n",
    "\n",
    "# Calculate the pearson correlation between the predicted values and the maen phenotype of the test set\n",
    "correlation = np.corrcoef(y_pred, mean_pheno_test)[0,1]\n",
    "\n"
   ]
  },
  {
   "cell_type": "code",
   "execution_count": 14,
   "metadata": {},
   "outputs": [
    {
     "data": {
      "text/plain": [
       "array([[1.        , 0.23637552],\n",
       "       [0.23637552, 1.        ]])"
      ]
     },
     "execution_count": 14,
     "metadata": {},
     "output_type": "execute_result"
    }
   ],
   "source": [
    "np.corrcoef(y_pred, mean_pheno_test)"
   ]
  },
  {
   "cell_type": "code",
   "execution_count": null,
   "metadata": {},
   "outputs": [],
   "source": [
    "core"
   ]
  }
 ],
 "metadata": {
  "kernelspec": {
   "display_name": "base",
   "language": "python",
   "name": "python3"
  },
  "language_info": {
   "codemirror_mode": {
    "name": "ipython",
    "version": 3
   },
   "file_extension": ".py",
   "mimetype": "text/x-python",
   "name": "python",
   "nbconvert_exporter": "python",
   "pygments_lexer": "ipython3",
   "version": "3.9.18"
  }
 },
 "nbformat": 4,
 "nbformat_minor": 2
}
